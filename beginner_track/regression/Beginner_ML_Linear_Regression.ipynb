{
  "nbformat": 4,
  "nbformat_minor": 0,
  "metadata": {
    "colab": {
      "name": "Beginner_ML_Linear_Regression.ipynb",
      "provenance": [],
      "collapsed_sections": [
        "Ja1u0YS2Fg03",
        "7AivkB_yvoQL",
        "WzfkM-ojFg1W"
      ],
      "toc_visible": true
    },
    "kernelspec": {
      "display_name": "Python 3",
      "language": "python",
      "name": "python3"
    },
    "language_info": {
      "codemirror_mode": {
        "name": "ipython",
        "version": 3
      },
      "file_extension": ".py",
      "mimetype": "text/x-python",
      "name": "python",
      "nbconvert_exporter": "python",
      "pygments_lexer": "ipython3",
      "version": "3.7.5"
    }
  },
  "cells": [
    {
      "cell_type": "markdown",
      "metadata": {
        "colab_type": "text",
        "id": "G1cllfy245M3"
      },
      "source": [
        "## Developer Student Club (DSC) - Beginner Machine Learning Track "
      ]
    },
    {
      "cell_type": "markdown",
      "metadata": {
        "colab_type": "text",
        "id": "jR_D8jJQFg0Q"
      },
      "source": [
        "### What is Regression?\n",
        "- Is a problem to predict a real value\n",
        "- Examples:\n",
        "    * Predict **house price** given **location and number of rooms**"
      ]
    },
    {
      "cell_type": "markdown",
      "metadata": {
        "colab_type": "text",
        "id": "jEKyc-GeFg0R"
      },
      "source": [
        "##### **Linear Regression**\n",
        "* A Machine Learning algorithm that **examines the linear relationship between features and label**. \n",
        "* E.g. **Label**(house price) = **features**(area + location + number of rooms)"
      ]
    },
    {
      "cell_type": "markdown",
      "metadata": {
        "colab_type": "text",
        "id": "DSgLLgAXFg0R"
      },
      "source": [
        "#### **Simple Linear Regression**\n",
        "![Linear Formula](data:image/png;base64,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)\n",
        "##### that\n",
        "### - **w, b** are weight, bias\n",
        "### - **x, y** are input, output"
      ]
    },
    {
      "cell_type": "markdown",
      "metadata": {
        "colab_type": "text",
        "id": "3QjSiX8EFg0S"
      },
      "source": [
        "###### Complex Linear Algorithms\n",
        "![Multivariable Linear Regression](https://miro.medium.com/max/3444/1*uLHXR8LKGDucpwUYHx3VaQ.png)"
      ]
    },
    {
      "cell_type": "markdown",
      "metadata": {
        "colab_type": "text",
        "id": "OJTAgxZyFg0U"
      },
      "source": [
        "### Boston House Price Dataset"
      ]
    },
    {
      "cell_type": "markdown",
      "metadata": {
        "colab_type": "text",
        "id": "5uW1I5KzFg0U"
      },
      "source": [
        "![alt text](https://cdn.vox-cdn.com/thumbor/bJH8TW8h_0iVsX_DvMA836l0EbQ=/0x0:1024x683/1200x800/filters:focal(431x261:593x423)/cdn.vox-cdn.com/uploads/chorus_image/image/56556535/r1.0.jpg)"
      ]
    },
    {
      "cell_type": "markdown",
      "metadata": {
        "colab_type": "text",
        "id": "XxYAQthR4KTN"
      },
      "source": [
        "1. CRIM: This column represents per capita crime rate by town\n",
        "2. ZN: This column represents the proportion of residential land zoned for lots larger than 25,000 sq.ft.\n",
        "3. INDUS: This column represents the proportion of non-retail business acres per town.\n",
        "4. CHAS: This column represents the Charles River dummy variable (this is equal to 1 if tract bounds river; 0 otherwise)\n",
        "NOX: This column represents the concentration of the nitric oxide (parts per 10 million)\n",
        "5. **RM:** This column represents the average number of rooms per dwelling\n",
        "6. **AGE:** This column represents the proportion of owner-occupied units built prior to 1940\n",
        "7. DIS: This column represents the weighted distances to five Boston employment centers\n",
        "8. **RAD**: This column represents the index of accessibility to radial highways\n",
        "9. **TAX:** This column represents the full-value property-tax rate per $10,000\n",
        "\n",
        "10. PTRATIO: This column represents the pupil-teacher ratio by town\n",
        "11. B: This is calculated as 1000(Bk — 0.63)², where Bk is the proportion of people of African American descent by town\n",
        "12. LSTAT: This is the percentage lower status of the population\n",
        "13. **MEDV:** This is the median value of owner-occupied homes in $1000s\n",
        "\n"
      ]
    },
    {
      "cell_type": "markdown",
      "metadata": {
        "colab_type": "text",
        "id": "rSWj9bdAFg0Y"
      },
      "source": [
        "### Load data - Pandas\n",
        "[More details of Pandas is available here](https://github.com/DSC-UTDallas/explore-ml/blob/beginner/resources/Pandas.ipynb)"
      ]
    },
    {
      "cell_type": "markdown",
      "metadata": {
        "colab_type": "text",
        "id": "cgKPpxJXFg0V"
      },
      "source": [
        "#### Import dependencies"
      ]
    },
    {
      "cell_type": "code",
      "metadata": {
        "colab_type": "code",
        "id": "CM_bcVU0xzaR",
        "colab": {}
      },
      "source": [
        "import numpy as np\n",
        "import pandas as pd\n",
        "import matplotlib.pyplot as plt\n",
        "import seaborn as sns\n",
        "%matplotlib inline\n",
        "import sklearn"
      ],
      "execution_count": null,
      "outputs": []
    },
    {
      "cell_type": "markdown",
      "metadata": {
        "id": "31MZvbbT-np4",
        "colab_type": "text"
      },
      "source": [
        "#### Load Boston House Dataset from Scikit-Learn"
      ]
    },
    {
      "cell_type": "code",
      "metadata": {
        "colab_type": "code",
        "id": "zzZEmg0F39P9",
        "colab": {}
      },
      "source": [
        "from sklearn.datasets import load_boston\n",
        "boston = load_boston()"
      ],
      "execution_count": null,
      "outputs": []
    },
    {
      "cell_type": "markdown",
      "metadata": {
        "colab_type": "text",
        "id": "v_mB2Z5OKeM4"
      },
      "source": [
        "#### Convert features to DataFrame object"
      ]
    },
    {
      "cell_type": "code",
      "metadata": {
        "colab_type": "code",
        "id": "7QXxmI-Q4APU",
        "colab": {}
      },
      "source": [
        "# convert features to DataFrame object\n",
        "bos = pd.DataFrame(boston.data)"
      ],
      "execution_count": null,
      "outputs": []
    },
    {
      "cell_type": "markdown",
      "metadata": {
        "colab_type": "text",
        "id": "_01zmDKaKo4q"
      },
      "source": [
        "#### Inspect first 5 rows"
      ]
    },
    {
      "cell_type": "code",
      "metadata": {
        "colab_type": "code",
        "id": "5HehQhJQKR6-",
        "colab": {
          "base_uri": "https://localhost:8080/",
          "height": 198
        },
        "outputId": "5e26510d-cce1-4de5-9158-93460471a661"
      },
      "source": [
        "# Look at first 5 rows\n",
        "bos.head()"
      ],
      "execution_count": null,
      "outputs": [
        {
          "output_type": "execute_result",
          "data": {
            "text/html": [
              "<div>\n",
              "<style scoped>\n",
              "    .dataframe tbody tr th:only-of-type {\n",
              "        vertical-align: middle;\n",
              "    }\n",
              "\n",
              "    .dataframe tbody tr th {\n",
              "        vertical-align: top;\n",
              "    }\n",
              "\n",
              "    .dataframe thead th {\n",
              "        text-align: right;\n",
              "    }\n",
              "</style>\n",
              "<table border=\"1\" class=\"dataframe\">\n",
              "  <thead>\n",
              "    <tr style=\"text-align: right;\">\n",
              "      <th></th>\n",
              "      <th>0</th>\n",
              "      <th>1</th>\n",
              "      <th>2</th>\n",
              "      <th>3</th>\n",
              "      <th>4</th>\n",
              "      <th>5</th>\n",
              "      <th>6</th>\n",
              "      <th>7</th>\n",
              "      <th>8</th>\n",
              "      <th>9</th>\n",
              "      <th>10</th>\n",
              "      <th>11</th>\n",
              "      <th>12</th>\n",
              "    </tr>\n",
              "  </thead>\n",
              "  <tbody>\n",
              "    <tr>\n",
              "      <th>0</th>\n",
              "      <td>0.00632</td>\n",
              "      <td>18.0</td>\n",
              "      <td>2.31</td>\n",
              "      <td>0.0</td>\n",
              "      <td>0.538</td>\n",
              "      <td>6.575</td>\n",
              "      <td>65.2</td>\n",
              "      <td>4.0900</td>\n",
              "      <td>1.0</td>\n",
              "      <td>296.0</td>\n",
              "      <td>15.3</td>\n",
              "      <td>396.90</td>\n",
              "      <td>4.98</td>\n",
              "    </tr>\n",
              "    <tr>\n",
              "      <th>1</th>\n",
              "      <td>0.02731</td>\n",
              "      <td>0.0</td>\n",
              "      <td>7.07</td>\n",
              "      <td>0.0</td>\n",
              "      <td>0.469</td>\n",
              "      <td>6.421</td>\n",
              "      <td>78.9</td>\n",
              "      <td>4.9671</td>\n",
              "      <td>2.0</td>\n",
              "      <td>242.0</td>\n",
              "      <td>17.8</td>\n",
              "      <td>396.90</td>\n",
              "      <td>9.14</td>\n",
              "    </tr>\n",
              "    <tr>\n",
              "      <th>2</th>\n",
              "      <td>0.02729</td>\n",
              "      <td>0.0</td>\n",
              "      <td>7.07</td>\n",
              "      <td>0.0</td>\n",
              "      <td>0.469</td>\n",
              "      <td>7.185</td>\n",
              "      <td>61.1</td>\n",
              "      <td>4.9671</td>\n",
              "      <td>2.0</td>\n",
              "      <td>242.0</td>\n",
              "      <td>17.8</td>\n",
              "      <td>392.83</td>\n",
              "      <td>4.03</td>\n",
              "    </tr>\n",
              "    <tr>\n",
              "      <th>3</th>\n",
              "      <td>0.03237</td>\n",
              "      <td>0.0</td>\n",
              "      <td>2.18</td>\n",
              "      <td>0.0</td>\n",
              "      <td>0.458</td>\n",
              "      <td>6.998</td>\n",
              "      <td>45.8</td>\n",
              "      <td>6.0622</td>\n",
              "      <td>3.0</td>\n",
              "      <td>222.0</td>\n",
              "      <td>18.7</td>\n",
              "      <td>394.63</td>\n",
              "      <td>2.94</td>\n",
              "    </tr>\n",
              "    <tr>\n",
              "      <th>4</th>\n",
              "      <td>0.06905</td>\n",
              "      <td>0.0</td>\n",
              "      <td>2.18</td>\n",
              "      <td>0.0</td>\n",
              "      <td>0.458</td>\n",
              "      <td>7.147</td>\n",
              "      <td>54.2</td>\n",
              "      <td>6.0622</td>\n",
              "      <td>3.0</td>\n",
              "      <td>222.0</td>\n",
              "      <td>18.7</td>\n",
              "      <td>396.90</td>\n",
              "      <td>5.33</td>\n",
              "    </tr>\n",
              "  </tbody>\n",
              "</table>\n",
              "</div>"
            ],
            "text/plain": [
              "        0     1     2    3      4   ...   8      9     10      11    12\n",
              "0  0.00632  18.0  2.31  0.0  0.538  ...  1.0  296.0  15.3  396.90  4.98\n",
              "1  0.02731   0.0  7.07  0.0  0.469  ...  2.0  242.0  17.8  396.90  9.14\n",
              "2  0.02729   0.0  7.07  0.0  0.469  ...  2.0  242.0  17.8  392.83  4.03\n",
              "3  0.03237   0.0  2.18  0.0  0.458  ...  3.0  222.0  18.7  394.63  2.94\n",
              "4  0.06905   0.0  2.18  0.0  0.458  ...  3.0  222.0  18.7  396.90  5.33\n",
              "\n",
              "[5 rows x 13 columns]"
            ]
          },
          "metadata": {
            "tags": []
          },
          "execution_count": 9
        }
      ]
    },
    {
      "cell_type": "markdown",
      "metadata": {
        "colab_type": "text",
        "id": "hSlg2ZThKtER"
      },
      "source": [
        "#### Rename columns"
      ]
    },
    {
      "cell_type": "code",
      "metadata": {
        "colab_type": "code",
        "id": "R9IZ9FCCKYB2",
        "colab": {
          "base_uri": "https://localhost:8080/",
          "height": 198
        },
        "outputId": "a97b1cd5-5df1-4f96-f9dd-4357ecbf25a2"
      },
      "source": [
        "# Rename feature columns\n",
        "bos.columns = ['CRIM', 'ZN', 'INDUS', 'CHAS', 'NOX', 'RM', 'AGE', 'DIS', 'RAD', 'TAX', 'PTRATIO', 'B', 'LSTAT']\n",
        "bos.head()"
      ],
      "execution_count": null,
      "outputs": [
        {
          "output_type": "execute_result",
          "data": {
            "text/html": [
              "<div>\n",
              "<style scoped>\n",
              "    .dataframe tbody tr th:only-of-type {\n",
              "        vertical-align: middle;\n",
              "    }\n",
              "\n",
              "    .dataframe tbody tr th {\n",
              "        vertical-align: top;\n",
              "    }\n",
              "\n",
              "    .dataframe thead th {\n",
              "        text-align: right;\n",
              "    }\n",
              "</style>\n",
              "<table border=\"1\" class=\"dataframe\">\n",
              "  <thead>\n",
              "    <tr style=\"text-align: right;\">\n",
              "      <th></th>\n",
              "      <th>CRIM</th>\n",
              "      <th>ZN</th>\n",
              "      <th>INDUS</th>\n",
              "      <th>CHAS</th>\n",
              "      <th>NOX</th>\n",
              "      <th>RM</th>\n",
              "      <th>AGE</th>\n",
              "      <th>DIS</th>\n",
              "      <th>RAD</th>\n",
              "      <th>TAX</th>\n",
              "      <th>PTRATIO</th>\n",
              "      <th>B</th>\n",
              "      <th>LSTAT</th>\n",
              "    </tr>\n",
              "  </thead>\n",
              "  <tbody>\n",
              "    <tr>\n",
              "      <th>0</th>\n",
              "      <td>0.00632</td>\n",
              "      <td>18.0</td>\n",
              "      <td>2.31</td>\n",
              "      <td>0.0</td>\n",
              "      <td>0.538</td>\n",
              "      <td>6.575</td>\n",
              "      <td>65.2</td>\n",
              "      <td>4.0900</td>\n",
              "      <td>1.0</td>\n",
              "      <td>296.0</td>\n",
              "      <td>15.3</td>\n",
              "      <td>396.90</td>\n",
              "      <td>4.98</td>\n",
              "    </tr>\n",
              "    <tr>\n",
              "      <th>1</th>\n",
              "      <td>0.02731</td>\n",
              "      <td>0.0</td>\n",
              "      <td>7.07</td>\n",
              "      <td>0.0</td>\n",
              "      <td>0.469</td>\n",
              "      <td>6.421</td>\n",
              "      <td>78.9</td>\n",
              "      <td>4.9671</td>\n",
              "      <td>2.0</td>\n",
              "      <td>242.0</td>\n",
              "      <td>17.8</td>\n",
              "      <td>396.90</td>\n",
              "      <td>9.14</td>\n",
              "    </tr>\n",
              "    <tr>\n",
              "      <th>2</th>\n",
              "      <td>0.02729</td>\n",
              "      <td>0.0</td>\n",
              "      <td>7.07</td>\n",
              "      <td>0.0</td>\n",
              "      <td>0.469</td>\n",
              "      <td>7.185</td>\n",
              "      <td>61.1</td>\n",
              "      <td>4.9671</td>\n",
              "      <td>2.0</td>\n",
              "      <td>242.0</td>\n",
              "      <td>17.8</td>\n",
              "      <td>392.83</td>\n",
              "      <td>4.03</td>\n",
              "    </tr>\n",
              "    <tr>\n",
              "      <th>3</th>\n",
              "      <td>0.03237</td>\n",
              "      <td>0.0</td>\n",
              "      <td>2.18</td>\n",
              "      <td>0.0</td>\n",
              "      <td>0.458</td>\n",
              "      <td>6.998</td>\n",
              "      <td>45.8</td>\n",
              "      <td>6.0622</td>\n",
              "      <td>3.0</td>\n",
              "      <td>222.0</td>\n",
              "      <td>18.7</td>\n",
              "      <td>394.63</td>\n",
              "      <td>2.94</td>\n",
              "    </tr>\n",
              "    <tr>\n",
              "      <th>4</th>\n",
              "      <td>0.06905</td>\n",
              "      <td>0.0</td>\n",
              "      <td>2.18</td>\n",
              "      <td>0.0</td>\n",
              "      <td>0.458</td>\n",
              "      <td>7.147</td>\n",
              "      <td>54.2</td>\n",
              "      <td>6.0622</td>\n",
              "      <td>3.0</td>\n",
              "      <td>222.0</td>\n",
              "      <td>18.7</td>\n",
              "      <td>396.90</td>\n",
              "      <td>5.33</td>\n",
              "    </tr>\n",
              "  </tbody>\n",
              "</table>\n",
              "</div>"
            ],
            "text/plain": [
              "      CRIM    ZN  INDUS  CHAS    NOX  ...  RAD    TAX  PTRATIO       B  LSTAT\n",
              "0  0.00632  18.0   2.31   0.0  0.538  ...  1.0  296.0     15.3  396.90   4.98\n",
              "1  0.02731   0.0   7.07   0.0  0.469  ...  2.0  242.0     17.8  396.90   9.14\n",
              "2  0.02729   0.0   7.07   0.0  0.469  ...  2.0  242.0     17.8  392.83   4.03\n",
              "3  0.03237   0.0   2.18   0.0  0.458  ...  3.0  222.0     18.7  394.63   2.94\n",
              "4  0.06905   0.0   2.18   0.0  0.458  ...  3.0  222.0     18.7  396.90   5.33\n",
              "\n",
              "[5 rows x 13 columns]"
            ]
          },
          "metadata": {
            "tags": []
          },
          "execution_count": 12
        }
      ]
    },
    {
      "cell_type": "markdown",
      "metadata": {
        "colab_type": "text",
        "id": "0bmKAEvcKvmF"
      },
      "source": [
        "#### Add a new column"
      ]
    },
    {
      "cell_type": "code",
      "metadata": {
        "colab_type": "code",
        "id": "VXIUFv7sKHc9",
        "colab": {
          "base_uri": "https://localhost:8080/",
          "height": 198
        },
        "outputId": "f95e5bc7-b9af-4f9d-9b2d-ffd9c4652da6"
      },
      "source": [
        "# Add MEDV column\n",
        "bos['MEDV'] = boston.target\n",
        "bos.head()"
      ],
      "execution_count": null,
      "outputs": [
        {
          "output_type": "execute_result",
          "data": {
            "text/html": [
              "<div>\n",
              "<style scoped>\n",
              "    .dataframe tbody tr th:only-of-type {\n",
              "        vertical-align: middle;\n",
              "    }\n",
              "\n",
              "    .dataframe tbody tr th {\n",
              "        vertical-align: top;\n",
              "    }\n",
              "\n",
              "    .dataframe thead th {\n",
              "        text-align: right;\n",
              "    }\n",
              "</style>\n",
              "<table border=\"1\" class=\"dataframe\">\n",
              "  <thead>\n",
              "    <tr style=\"text-align: right;\">\n",
              "      <th></th>\n",
              "      <th>CRIM</th>\n",
              "      <th>ZN</th>\n",
              "      <th>INDUS</th>\n",
              "      <th>CHAS</th>\n",
              "      <th>NOX</th>\n",
              "      <th>RM</th>\n",
              "      <th>AGE</th>\n",
              "      <th>DIS</th>\n",
              "      <th>RAD</th>\n",
              "      <th>TAX</th>\n",
              "      <th>PTRATIO</th>\n",
              "      <th>B</th>\n",
              "      <th>LSTAT</th>\n",
              "      <th>MEDV</th>\n",
              "    </tr>\n",
              "  </thead>\n",
              "  <tbody>\n",
              "    <tr>\n",
              "      <th>0</th>\n",
              "      <td>0.00632</td>\n",
              "      <td>18.0</td>\n",
              "      <td>2.31</td>\n",
              "      <td>0.0</td>\n",
              "      <td>0.538</td>\n",
              "      <td>6.575</td>\n",
              "      <td>65.2</td>\n",
              "      <td>4.0900</td>\n",
              "      <td>1.0</td>\n",
              "      <td>296.0</td>\n",
              "      <td>15.3</td>\n",
              "      <td>396.90</td>\n",
              "      <td>4.98</td>\n",
              "      <td>24.0</td>\n",
              "    </tr>\n",
              "    <tr>\n",
              "      <th>1</th>\n",
              "      <td>0.02731</td>\n",
              "      <td>0.0</td>\n",
              "      <td>7.07</td>\n",
              "      <td>0.0</td>\n",
              "      <td>0.469</td>\n",
              "      <td>6.421</td>\n",
              "      <td>78.9</td>\n",
              "      <td>4.9671</td>\n",
              "      <td>2.0</td>\n",
              "      <td>242.0</td>\n",
              "      <td>17.8</td>\n",
              "      <td>396.90</td>\n",
              "      <td>9.14</td>\n",
              "      <td>21.6</td>\n",
              "    </tr>\n",
              "    <tr>\n",
              "      <th>2</th>\n",
              "      <td>0.02729</td>\n",
              "      <td>0.0</td>\n",
              "      <td>7.07</td>\n",
              "      <td>0.0</td>\n",
              "      <td>0.469</td>\n",
              "      <td>7.185</td>\n",
              "      <td>61.1</td>\n",
              "      <td>4.9671</td>\n",
              "      <td>2.0</td>\n",
              "      <td>242.0</td>\n",
              "      <td>17.8</td>\n",
              "      <td>392.83</td>\n",
              "      <td>4.03</td>\n",
              "      <td>34.7</td>\n",
              "    </tr>\n",
              "    <tr>\n",
              "      <th>3</th>\n",
              "      <td>0.03237</td>\n",
              "      <td>0.0</td>\n",
              "      <td>2.18</td>\n",
              "      <td>0.0</td>\n",
              "      <td>0.458</td>\n",
              "      <td>6.998</td>\n",
              "      <td>45.8</td>\n",
              "      <td>6.0622</td>\n",
              "      <td>3.0</td>\n",
              "      <td>222.0</td>\n",
              "      <td>18.7</td>\n",
              "      <td>394.63</td>\n",
              "      <td>2.94</td>\n",
              "      <td>33.4</td>\n",
              "    </tr>\n",
              "    <tr>\n",
              "      <th>4</th>\n",
              "      <td>0.06905</td>\n",
              "      <td>0.0</td>\n",
              "      <td>2.18</td>\n",
              "      <td>0.0</td>\n",
              "      <td>0.458</td>\n",
              "      <td>7.147</td>\n",
              "      <td>54.2</td>\n",
              "      <td>6.0622</td>\n",
              "      <td>3.0</td>\n",
              "      <td>222.0</td>\n",
              "      <td>18.7</td>\n",
              "      <td>396.90</td>\n",
              "      <td>5.33</td>\n",
              "      <td>36.2</td>\n",
              "    </tr>\n",
              "  </tbody>\n",
              "</table>\n",
              "</div>"
            ],
            "text/plain": [
              "      CRIM    ZN  INDUS  CHAS    NOX  ...    TAX  PTRATIO       B  LSTAT  MEDV\n",
              "0  0.00632  18.0   2.31   0.0  0.538  ...  296.0     15.3  396.90   4.98  24.0\n",
              "1  0.02731   0.0   7.07   0.0  0.469  ...  242.0     17.8  396.90   9.14  21.6\n",
              "2  0.02729   0.0   7.07   0.0  0.469  ...  242.0     17.8  392.83   4.03  34.7\n",
              "3  0.03237   0.0   2.18   0.0  0.458  ...  222.0     18.7  394.63   2.94  33.4\n",
              "4  0.06905   0.0   2.18   0.0  0.458  ...  222.0     18.7  396.90   5.33  36.2\n",
              "\n",
              "[5 rows x 14 columns]"
            ]
          },
          "metadata": {
            "tags": []
          },
          "execution_count": 13
        }
      ]
    },
    {
      "cell_type": "markdown",
      "metadata": {
        "colab_type": "text",
        "id": "QzPhEzrvK22l"
      },
      "source": [
        "#### Inspect missing values"
      ]
    },
    {
      "cell_type": "code",
      "metadata": {
        "colab_type": "code",
        "id": "qDhsuWD0K8jE",
        "colab": {
          "base_uri": "https://localhost:8080/",
          "height": 380
        },
        "outputId": "37b1188a-bef7-4a3f-eaae-91c4be5885cf"
      },
      "source": [
        "bos.info()"
      ],
      "execution_count": null,
      "outputs": [
        {
          "output_type": "stream",
          "text": [
            "<class 'pandas.core.frame.DataFrame'>\n",
            "RangeIndex: 506 entries, 0 to 505\n",
            "Data columns (total 14 columns):\n",
            " #   Column   Non-Null Count  Dtype  \n",
            "---  ------   --------------  -----  \n",
            " 0   CRIM     506 non-null    float64\n",
            " 1   ZN       506 non-null    float64\n",
            " 2   INDUS    506 non-null    float64\n",
            " 3   CHAS     506 non-null    float64\n",
            " 4   NOX      506 non-null    float64\n",
            " 5   RM       506 non-null    float64\n",
            " 6   AGE      506 non-null    float64\n",
            " 7   DIS      506 non-null    float64\n",
            " 8   RAD      506 non-null    float64\n",
            " 9   TAX      506 non-null    float64\n",
            " 10  PTRATIO  506 non-null    float64\n",
            " 11  B        506 non-null    float64\n",
            " 12  LSTAT    506 non-null    float64\n",
            " 13  MEDV     506 non-null    float64\n",
            "dtypes: float64(14)\n",
            "memory usage: 55.5 KB\n"
          ],
          "name": "stdout"
        }
      ]
    },
    {
      "cell_type": "markdown",
      "metadata": {
        "colab_type": "text",
        "id": "qYtRZ4VWLBaI"
      },
      "source": [
        "#### Inspect data statistics"
      ]
    },
    {
      "cell_type": "code",
      "metadata": {
        "colab_type": "code",
        "id": "PXHXH80lLD98",
        "colab": {
          "base_uri": "https://localhost:8080/",
          "height": 308
        },
        "outputId": "e342add9-9f4e-4e15-c9ba-c278d417bdad"
      },
      "source": [
        "bos.describe()"
      ],
      "execution_count": null,
      "outputs": [
        {
          "output_type": "execute_result",
          "data": {
            "text/html": [
              "<div>\n",
              "<style scoped>\n",
              "    .dataframe tbody tr th:only-of-type {\n",
              "        vertical-align: middle;\n",
              "    }\n",
              "\n",
              "    .dataframe tbody tr th {\n",
              "        vertical-align: top;\n",
              "    }\n",
              "\n",
              "    .dataframe thead th {\n",
              "        text-align: right;\n",
              "    }\n",
              "</style>\n",
              "<table border=\"1\" class=\"dataframe\">\n",
              "  <thead>\n",
              "    <tr style=\"text-align: right;\">\n",
              "      <th></th>\n",
              "      <th>CRIM</th>\n",
              "      <th>ZN</th>\n",
              "      <th>INDUS</th>\n",
              "      <th>CHAS</th>\n",
              "      <th>NOX</th>\n",
              "      <th>RM</th>\n",
              "      <th>AGE</th>\n",
              "      <th>DIS</th>\n",
              "      <th>RAD</th>\n",
              "      <th>TAX</th>\n",
              "      <th>PTRATIO</th>\n",
              "      <th>B</th>\n",
              "      <th>LSTAT</th>\n",
              "      <th>MEDV</th>\n",
              "    </tr>\n",
              "  </thead>\n",
              "  <tbody>\n",
              "    <tr>\n",
              "      <th>count</th>\n",
              "      <td>506.000000</td>\n",
              "      <td>506.000000</td>\n",
              "      <td>506.000000</td>\n",
              "      <td>506.000000</td>\n",
              "      <td>506.000000</td>\n",
              "      <td>506.000000</td>\n",
              "      <td>506.000000</td>\n",
              "      <td>506.000000</td>\n",
              "      <td>506.000000</td>\n",
              "      <td>506.000000</td>\n",
              "      <td>506.000000</td>\n",
              "      <td>506.000000</td>\n",
              "      <td>506.000000</td>\n",
              "      <td>506.000000</td>\n",
              "    </tr>\n",
              "    <tr>\n",
              "      <th>mean</th>\n",
              "      <td>3.613524</td>\n",
              "      <td>11.363636</td>\n",
              "      <td>11.136779</td>\n",
              "      <td>0.069170</td>\n",
              "      <td>0.554695</td>\n",
              "      <td>6.284634</td>\n",
              "      <td>68.574901</td>\n",
              "      <td>3.795043</td>\n",
              "      <td>9.549407</td>\n",
              "      <td>408.237154</td>\n",
              "      <td>18.455534</td>\n",
              "      <td>356.674032</td>\n",
              "      <td>12.653063</td>\n",
              "      <td>22.532806</td>\n",
              "    </tr>\n",
              "    <tr>\n",
              "      <th>std</th>\n",
              "      <td>8.601545</td>\n",
              "      <td>23.322453</td>\n",
              "      <td>6.860353</td>\n",
              "      <td>0.253994</td>\n",
              "      <td>0.115878</td>\n",
              "      <td>0.702617</td>\n",
              "      <td>28.148861</td>\n",
              "      <td>2.105710</td>\n",
              "      <td>8.707259</td>\n",
              "      <td>168.537116</td>\n",
              "      <td>2.164946</td>\n",
              "      <td>91.294864</td>\n",
              "      <td>7.141062</td>\n",
              "      <td>9.197104</td>\n",
              "    </tr>\n",
              "    <tr>\n",
              "      <th>min</th>\n",
              "      <td>0.006320</td>\n",
              "      <td>0.000000</td>\n",
              "      <td>0.460000</td>\n",
              "      <td>0.000000</td>\n",
              "      <td>0.385000</td>\n",
              "      <td>3.561000</td>\n",
              "      <td>2.900000</td>\n",
              "      <td>1.129600</td>\n",
              "      <td>1.000000</td>\n",
              "      <td>187.000000</td>\n",
              "      <td>12.600000</td>\n",
              "      <td>0.320000</td>\n",
              "      <td>1.730000</td>\n",
              "      <td>5.000000</td>\n",
              "    </tr>\n",
              "    <tr>\n",
              "      <th>25%</th>\n",
              "      <td>0.082045</td>\n",
              "      <td>0.000000</td>\n",
              "      <td>5.190000</td>\n",
              "      <td>0.000000</td>\n",
              "      <td>0.449000</td>\n",
              "      <td>5.885500</td>\n",
              "      <td>45.025000</td>\n",
              "      <td>2.100175</td>\n",
              "      <td>4.000000</td>\n",
              "      <td>279.000000</td>\n",
              "      <td>17.400000</td>\n",
              "      <td>375.377500</td>\n",
              "      <td>6.950000</td>\n",
              "      <td>17.025000</td>\n",
              "    </tr>\n",
              "    <tr>\n",
              "      <th>50%</th>\n",
              "      <td>0.256510</td>\n",
              "      <td>0.000000</td>\n",
              "      <td>9.690000</td>\n",
              "      <td>0.000000</td>\n",
              "      <td>0.538000</td>\n",
              "      <td>6.208500</td>\n",
              "      <td>77.500000</td>\n",
              "      <td>3.207450</td>\n",
              "      <td>5.000000</td>\n",
              "      <td>330.000000</td>\n",
              "      <td>19.050000</td>\n",
              "      <td>391.440000</td>\n",
              "      <td>11.360000</td>\n",
              "      <td>21.200000</td>\n",
              "    </tr>\n",
              "    <tr>\n",
              "      <th>75%</th>\n",
              "      <td>3.677083</td>\n",
              "      <td>12.500000</td>\n",
              "      <td>18.100000</td>\n",
              "      <td>0.000000</td>\n",
              "      <td>0.624000</td>\n",
              "      <td>6.623500</td>\n",
              "      <td>94.075000</td>\n",
              "      <td>5.188425</td>\n",
              "      <td>24.000000</td>\n",
              "      <td>666.000000</td>\n",
              "      <td>20.200000</td>\n",
              "      <td>396.225000</td>\n",
              "      <td>16.955000</td>\n",
              "      <td>25.000000</td>\n",
              "    </tr>\n",
              "    <tr>\n",
              "      <th>max</th>\n",
              "      <td>88.976200</td>\n",
              "      <td>100.000000</td>\n",
              "      <td>27.740000</td>\n",
              "      <td>1.000000</td>\n",
              "      <td>0.871000</td>\n",
              "      <td>8.780000</td>\n",
              "      <td>100.000000</td>\n",
              "      <td>12.126500</td>\n",
              "      <td>24.000000</td>\n",
              "      <td>711.000000</td>\n",
              "      <td>22.000000</td>\n",
              "      <td>396.900000</td>\n",
              "      <td>37.970000</td>\n",
              "      <td>50.000000</td>\n",
              "    </tr>\n",
              "  </tbody>\n",
              "</table>\n",
              "</div>"
            ],
            "text/plain": [
              "             CRIM          ZN       INDUS  ...           B       LSTAT        MEDV\n",
              "count  506.000000  506.000000  506.000000  ...  506.000000  506.000000  506.000000\n",
              "mean     3.613524   11.363636   11.136779  ...  356.674032   12.653063   22.532806\n",
              "std      8.601545   23.322453    6.860353  ...   91.294864    7.141062    9.197104\n",
              "min      0.006320    0.000000    0.460000  ...    0.320000    1.730000    5.000000\n",
              "25%      0.082045    0.000000    5.190000  ...  375.377500    6.950000   17.025000\n",
              "50%      0.256510    0.000000    9.690000  ...  391.440000   11.360000   21.200000\n",
              "75%      3.677083   12.500000   18.100000  ...  396.225000   16.955000   25.000000\n",
              "max     88.976200  100.000000   27.740000  ...  396.900000   37.970000   50.000000\n",
              "\n",
              "[8 rows x 14 columns]"
            ]
          },
          "metadata": {
            "tags": []
          },
          "execution_count": 15
        }
      ]
    },
    {
      "cell_type": "markdown",
      "metadata": {
        "colab_type": "text",
        "id": "r1qVlOhwFg0f"
      },
      "source": [
        "### Explanatory Data Analysis - Seaborn\n",
        "**Exploratory Data Analysis is a very important step before training the model. We will use some visualizations to understand the relationship of the target variable with other variables.**\n",
        "\n",
        "[More details of Seaborn is available here](https://github.com/DSC-UTDallas/explore-ml/blob/beginner/resources/Seaborn.ipynb)"
      ]
    },
    {
      "cell_type": "markdown",
      "metadata": {
        "colab_type": "text",
        "id": "M_LjVtcD8uDg"
      },
      "source": [
        "#### Plot distribution of MEDV"
      ]
    },
    {
      "cell_type": "code",
      "metadata": {
        "colab_type": "code",
        "id": "UUUXpS4m8rtY",
        "colab": {
          "base_uri": "https://localhost:8080/",
          "height": 279
        },
        "outputId": "8c432fd8-09f4-4daf-e084-42cbc8d20d7b"
      },
      "source": [
        "sns.distplot(bos['MEDV'])\n",
        "plt.show()"
      ],
      "execution_count": null,
      "outputs": [
        {
          "output_type": "display_data",
          "data": {
            "image/png": "[encoded data removed]",
            "text/plain": [
              "<Figure size 432x288 with 1 Axes>"
            ]
          },
          "metadata": {
            "tags": [],
            "needs_background": "light"
          }
        }
      ]
    },
    {
      "cell_type": "markdown",
      "metadata": {
        "colab_type": "text",
        "id": "sInXwvYIFg0q"
      },
      "source": [
        "**==> From the above output we can see that the values of MEDV is normally distributed with some of the outliers.**"
      ]
    },
    {
      "cell_type": "markdown",
      "metadata": {
        "colab_type": "text",
        "id": "kYHWTduK9ADJ"
      },
      "source": [
        "#### Visualize the pairplot\n",
        "Pairplot shows the relationships between all the features present in the dataset."
      ]
    },
    {
      "cell_type": "code",
      "metadata": {
        "colab_type": "code",
        "id": "TgCDi7S988ZU",
        "colab": {
          "base_uri": "https://localhost:8080/",
          "height": 945
        },
        "outputId": "d4b3ec23-6b5c-4d60-ab11-151c08c18814"
      },
      "source": [
        "sns.pairplot(bos[['MEDV', 'TAX', 'RAD', 'AGE', 'RM']])"
      ],
      "execution_count": null,
      "outputs": [
        {
          "output_type": "execute_result",
          "data": {
            "text/plain": [
              "<seaborn.axisgrid.PairGrid at 0x7eff08426908>"
            ]
          },
          "metadata": {
            "tags": []
          },
          "execution_count": 18
        },
        {
          "output_type": "display_data",
          "data": {
            "image/png": "[encoded data removed]",
            "text/plain": [
              "<Figure size 900x900 with 30 Axes>"
            ]
          },
          "metadata": {
            "tags": [],
            "needs_background": "light"
          }
        }
      ]
    },
    {
      "cell_type": "markdown",
      "metadata": {
        "colab_type": "text",
        "id": "Lq7l6gjxFg0s"
      },
      "source": [
        "#### Plot heatmap"
      ]
    },
    {
      "cell_type": "code",
      "metadata": {
        "colab_type": "code",
        "id": "DtEjZJxB9DRk",
        "colab": {
          "base_uri": "https://localhost:8080/",
          "height": 612
        },
        "outputId": "cd2863ba-5315-4b49-cb56-4d933d72c999"
      },
      "source": [
        "plt.figure(figsize = (10, 10))\n",
        "corr_mat = bos[['MEDV', 'TAX', 'RAD', 'AGE', 'RM']].corr().round(2)\n",
        "sns.heatmap(data=corr_mat, annot=True)"
      ],
      "execution_count": null,
      "outputs": [
        {
          "output_type": "execute_result",
          "data": {
            "text/plain": [
              "<matplotlib.axes._subplots.AxesSubplot at 0x7eff04de7278>"
            ]
          },
          "metadata": {
            "tags": []
          },
          "execution_count": 19
        },
        {
          "output_type": "display_data",
          "data": {
            "image/png": "[encoded data removed]",
            "text/plain": [
              "<Figure size 720x720 with 2 Axes>"
            ]
          },
          "metadata": {
            "tags": [],
            "needs_background": "light"
          }
        }
      ]
    },
    {
      "cell_type": "markdown",
      "metadata": {
        "colab_type": "text",
        "id": "br1iXe8nCsug"
      },
      "source": [
        "**==> From the above two graphs, we can clearly see that the feature RM has a positive correlation with MEDV.**\n"
      ]
    },
    {
      "cell_type": "markdown",
      "metadata": {
        "colab_type": "text",
        "id": "iVNIswbKFg0x"
      },
      "source": [
        "### Build and Train Linear Regression model - Scikit Learn\n",
        "\n",
        "[More details of Scikit-Learn is available here](https://github.com/DSC-UTDallas/explore-ml/blob/beginner/resources/scikitlearn.ipynb)"
      ]
    },
    {
      "cell_type": "markdown",
      "metadata": {
        "colab_type": "text",
        "id": "x1wyKN1aMVtt"
      },
      "source": [
        "#### Select specific features **TAX, RAD, AGE, RM**"
      ]
    },
    {
      "cell_type": "code",
      "metadata": {
        "colab_type": "code",
        "id": "CBOMxnoiC2YS",
        "colab": {}
      },
      "source": [
        "# select features you want to train\n",
        "X = bos[['TAX', 'RAD', 'AGE', 'RM']]\n",
        "y = bos['MEDV']"
      ],
      "execution_count": null,
      "outputs": []
    },
    {
      "cell_type": "markdown",
      "metadata": {
        "colab_type": "text",
        "id": "xYImMUluFg0z"
      },
      "source": [
        "#### Split the dataset into training (80%) and test (20%) data. "
      ]
    },
    {
      "cell_type": "code",
      "metadata": {
        "colab_type": "code",
        "id": "3PtSt4ZJCzAq",
        "colab": {}
      },
      "source": [
        "from sklearn.model_selection import train_test_split\n",
        "X_train, X_test, y_train, y_test = train_test_split(X, y, test_size = 0.2, random_state = 10)"
      ],
      "execution_count": null,
      "outputs": []
    },
    {
      "cell_type": "markdown",
      "metadata": {
        "colab_type": "text",
        "id": "6x09r8-RDLc_"
      },
      "source": [
        "#### Initialize and train the Model\n",
        "\n",
        "We will now train our model using the LinearRegression class from the sklearn library."
      ]
    },
    {
      "cell_type": "code",
      "metadata": {
        "colab_type": "code",
        "id": "A7ZVK_GSDEvJ",
        "colab": {
          "base_uri": "https://localhost:8080/",
          "height": 35
        },
        "outputId": "83140d44-884e-4341-f042-bf0fe85976a1"
      },
      "source": [
        "from sklearn.linear_model import LinearRegression\n",
        "lm = LinearRegression()\n",
        "lm.fit(X_train, y_train)"
      ],
      "execution_count": null,
      "outputs": [
        {
          "output_type": "execute_result",
          "data": {
            "text/plain": [
              "LinearRegression(copy_X=True, fit_intercept=True, n_jobs=None, normalize=False)"
            ]
          },
          "metadata": {
            "tags": []
          },
          "execution_count": 44
        }
      ]
    },
    {
      "cell_type": "markdown",
      "metadata": {
        "colab_type": "text",
        "id": "Ja1u0YS2Fg03"
      },
      "source": [
        "[More details of Scikit-Learn and algorithms are available here](https://github.com/DSC-UTDallas/explore-ml/blob/beginner/resources/scikitlearn.ipynb)"
      ]
    },
    {
      "cell_type": "markdown",
      "metadata": {
        "colab_type": "text",
        "id": "vI0r1j9sFg05"
      },
      "source": [
        "#### Make predictions"
      ]
    },
    {
      "cell_type": "code",
      "metadata": {
        "colab_type": "code",
        "id": "iy6T-3N1Fg05",
        "colab": {}
      },
      "source": [
        "prediction = lm.predict(X_train)"
      ],
      "execution_count": null,
      "outputs": []
    },
    {
      "cell_type": "markdown",
      "metadata": {
        "colab_type": "text",
        "id": "ahaBeRoEMtJx"
      },
      "source": [
        "##### Plot the best line fitting to the training data"
      ]
    },
    {
      "cell_type": "code",
      "metadata": {
        "colab_type": "code",
        "id": "we2njj7iMtbA",
        "colab": {
          "base_uri": "https://localhost:8080/",
          "height": 279
        },
        "outputId": "c6b543ec-0b20-4a25-9f92-fb4934dd4e68"
      },
      "source": [
        "plt.scatter(y_train, prediction)\n",
        "plt.plot([0,50], [0, 50], 'k-')\n",
        "plt.xlabel('labels')\n",
        "plt.ylabel('predictions')\n",
        "plt.show()"
      ],
      "execution_count": null,
      "outputs": [
        {
          "output_type": "display_data",
          "data": {
            "image/png": "[encoded data removed]",
            "text/plain": [
              "<Figure size 432x288 with 1 Axes>"
            ]
          },
          "metadata": {
            "tags": [],
            "needs_background": "light"
          }
        }
      ]
    },
    {
      "cell_type": "markdown",
      "metadata": {
        "colab_type": "text",
        "id": "p_836oV-Fg07"
      },
      "source": [
        "### What is behind Linear Regression?"
      ]
    },
    {
      "cell_type": "markdown",
      "metadata": {
        "colab_type": "text",
        "id": "Nuq5WGLfFg07"
      },
      "source": [
        "#### **1.  Linear Regression comes from Linear Formula**\n",
        "### **y = w*x + b** that \n",
        "* **x, y** are input and output\n",
        "* **w, b** are weight and bias that are initialized randomly.\n",
        "\n",
        "### ==> Output of Univariate Linear Regression: **y = w*x + b**. That's it"
      ]
    },
    {
      "cell_type": "code",
      "metadata": {
        "id": "LpqWys2zEFTP",
        "colab_type": "code",
        "colab": {}
      },
      "source": [
        "# define inputs\n",
        "inputs = np.array([0, 1, 2, 3])"
      ],
      "execution_count": null,
      "outputs": []
    },
    {
      "cell_type": "code",
      "metadata": {
        "id": "Ff0gfHG2EGn9",
        "colab_type": "code",
        "colab": {}
      },
      "source": [
        "# define weight and bias\n",
        "weight = 0.8\n",
        "bias = 0.4"
      ],
      "execution_count": null,
      "outputs": []
    },
    {
      "cell_type": "code",
      "metadata": {
        "colab_type": "code",
        "id": "R00ZhzHnazqf",
        "colab": {
          "base_uri": "https://localhost:8080/",
          "height": 35
        },
        "outputId": "025dea34-72a4-4cbd-810e-ccbcd0368170"
      },
      "source": [
        "# Making Linear Regression predictions\n",
        "predictions = weight * inputs + bias\n",
        "predictions"
      ],
      "execution_count": null,
      "outputs": [
        {
          "output_type": "execute_result",
          "data": {
            "text/plain": [
              "array([0.4, 1.2, 2. , 2.8])"
            ]
          },
          "metadata": {
            "tags": []
          },
          "execution_count": 9
        }
      ]
    },
    {
      "cell_type": "markdown",
      "metadata": {
        "colab_type": "text",
        "id": "804uN2jlFg07"
      },
      "source": [
        "#### **2. Cost (Loss) functions:**\n",
        "* **MSE (Mean Squared Error)**\n",
        "* **MAE (Mean Absolute Error)**\n",
        "\\\n",
        "![alt text](https://econbrowser.com/wp-content/uploads/2019/07/msemae.png)"
      ]
    },
    {
      "cell_type": "markdown",
      "metadata": {
        "colab_type": "text",
        "id": "F7YkKY8GFg08"
      },
      "source": [
        "##### Steps to compute MSE (Mean-Squared-Error)\n",
        "* Calculate from Right to Left\n",
        "* Given labels = [1, 2, 3, 4]"
      ]
    },
    {
      "cell_type": "code",
      "metadata": {
        "colab_type": "code",
        "id": "8HUFiA8dNspn",
        "colab": {}
      },
      "source": [
        "labels = np.array([1, 2, 3, 4])"
      ],
      "execution_count": null,
      "outputs": []
    },
    {
      "cell_type": "markdown",
      "metadata": {
        "colab_type": "text",
        "id": "PxZ9C5l6NyQE"
      },
      "source": [
        "###### Error"
      ]
    },
    {
      "cell_type": "code",
      "metadata": {
        "colab_type": "code",
        "id": "zMYi76B5OD2r",
        "colab": {
          "base_uri": "https://localhost:8080/",
          "height": 35
        },
        "outputId": "ab4fb47f-b6a5-4cae-96bf-eef8e6c8b10a"
      },
      "source": [
        "error = labels - predictions\n",
        "error"
      ],
      "execution_count": null,
      "outputs": [
        {
          "output_type": "execute_result",
          "data": {
            "text/plain": [
              "array([0.6, 0.8, 1. , 1.2])"
            ]
          },
          "metadata": {
            "tags": []
          },
          "execution_count": 11
        }
      ]
    },
    {
      "cell_type": "markdown",
      "metadata": {
        "colab_type": "text",
        "id": "8iyORk61N5Hu"
      },
      "source": [
        "###### Squared-Error"
      ]
    },
    {
      "cell_type": "code",
      "metadata": {
        "colab_type": "code",
        "id": "ExhbODpTOPP2",
        "colab": {
          "base_uri": "https://localhost:8080/",
          "height": 35
        },
        "outputId": "9ed7f277-bfb8-427e-9595-1d56dab5e892"
      },
      "source": [
        "squared_error = np.square(error)\n",
        "squared_error"
      ],
      "execution_count": null,
      "outputs": [
        {
          "output_type": "execute_result",
          "data": {
            "text/plain": [
              "array([0.36, 0.64, 1.  , 1.44])"
            ]
          },
          "metadata": {
            "tags": []
          },
          "execution_count": 12
        }
      ]
    },
    {
      "cell_type": "markdown",
      "metadata": {
        "colab_type": "text",
        "id": "zXeefkZXN5R-"
      },
      "source": [
        "###### Mean-Squared-Eror"
      ]
    },
    {
      "cell_type": "code",
      "metadata": {
        "colab_type": "code",
        "id": "qlgRrNH6OVEi",
        "colab": {
          "base_uri": "https://localhost:8080/",
          "height": 35
        },
        "outputId": "55739ba3-8076-42d6-ac2c-1b3b896ef443"
      },
      "source": [
        "mean_squared_error = np.mean(squared_error)\n",
        "mean_squared_error"
      ],
      "execution_count": null,
      "outputs": [
        {
          "output_type": "execute_result",
          "data": {
            "text/plain": [
              "0.8599999999999997"
            ]
          },
          "metadata": {
            "tags": []
          },
          "execution_count": 13
        }
      ]
    },
    {
      "cell_type": "markdown",
      "metadata": {
        "colab_type": "text",
        "id": "VYSJfdRTFg08"
      },
      "source": [
        "#### 3. Optimize\n",
        "* Using Gradient Descent to optimize weights"
      ]
    },
    {
      "cell_type": "markdown",
      "metadata": {
        "colab_type": "text",
        "id": "r_ov3SYBRKCk"
      },
      "source": [
        "##### Using Gradient Descent\n",
        "Weight:\n",
        "* is updated for **every iteration through the training dataset**\n",
        "* is updated until **loss reaches global minium**\n",
        "\n",
        "![alt text](https://ml-cheatsheet.readthedocs.io/en/latest/_images/gradient_descent_demystified.png) "
      ]
    },
    {
      "cell_type": "markdown",
      "metadata": {
        "colab_type": "text",
        "id": "VwylF83CP0mW"
      },
      "source": [
        "##### - To update weight\n",
        "With calculated loss, we update weight:\\\n",
        "==> **new_weight = old_weight - d-loss** [1]\n",
        "\n",
        "that **d-loss** is **the magnitude of weight change** or **derivate of loss w.r.t old_weight**"
      ]
    },
    {
      "cell_type": "code",
      "metadata": {
        "colab_type": "code",
        "id": "EXSGsVadbUzx",
        "colab": {
          "base_uri": "https://localhost:8080/",
          "height": 35
        },
        "outputId": "d4fa1832-43e4-46a6-9b93-b1b64e1bac55"
      },
      "source": [
        "weight -= mean_squared_error #notice: this is for demo. This formula is truly correct in reality\n",
        "weight"
      ],
      "execution_count": null,
      "outputs": [
        {
          "output_type": "execute_result",
          "data": {
            "text/plain": [
              "-0.05999999999999961"
            ]
          },
          "metadata": {
            "tags": []
          },
          "execution_count": 14
        }
      ]
    },
    {
      "cell_type": "markdown",
      "metadata": {
        "id": "vNaSunp9CBEL",
        "colab_type": "text"
      },
      "source": [
        "### Overfitting & Underfitting"
      ]
    },
    {
      "cell_type": "markdown",
      "metadata": {
        "colab_type": "text",
        "id": "QVtqHdDATf2U"
      },
      "source": [
        "##### Error for Training Predictions"
      ]
    },
    {
      "cell_type": "code",
      "metadata": {
        "id": "OvKIbJ9QCJpS",
        "colab_type": "code",
        "colab": {}
      },
      "source": [
        "plt.scatter(y_train, prediction)\n",
        "plt.plot([0,50], [0, 50], 'k-')\n",
        "plt.xlabel('labels')\n",
        "plt.ylabel('predictions')\n",
        "plt.show()"
      ],
      "execution_count": null,
      "outputs": []
    },
    {
      "cell_type": "code",
      "metadata": {
        "colab_type": "code",
        "id": "78OA16Qrl0ZY",
        "colab": {
          "base_uri": "https://localhost:8080/",
          "height": 104
        },
        "outputId": "ec368a92-eedf-471d-b271-c5149f624fee"
      },
      "source": [
        "from sklearn import metrics\n",
        "from sklearn.metrics import r2_score\n",
        "print(\"Training accuracy\")\n",
        "print('MAE', metrics.mean_absolute_error(y_train, prediction))\n",
        "print('MSE', metrics.mean_squared_error(y_train, prediction))\n",
        "print('RMSE', np.sqrt(metrics.mean_squared_error(y_train, prediction)))\n",
        "print('R squared error', r2_score(y_train, prediction))"
      ],
      "execution_count": null,
      "outputs": [
        {
          "output_type": "stream",
          "text": [
            "Training accuracy\n",
            "MAE 3.8409685099866575\n",
            "MSE 35.255560175706464\n",
            "RMSE 5.937639276320722\n",
            "R squared error 0.5419026611745101\n"
          ],
          "name": "stdout"
        }
      ]
    },
    {
      "cell_type": "markdown",
      "metadata": {
        "colab_type": "text",
        "id": "OkNA7VGATlyv"
      },
      "source": [
        "##### Error for Testing Predictions"
      ]
    },
    {
      "cell_type": "code",
      "metadata": {
        "colab_type": "code",
        "id": "lnRsZSJ6TRKv",
        "colab": {}
      },
      "source": [
        "# making test predictions\n",
        "prediction = lm.predict(X_test)"
      ],
      "execution_count": null,
      "outputs": []
    },
    {
      "cell_type": "code",
      "metadata": {
        "colab_type": "code",
        "id": "olwmPS6CDWEp",
        "colab": {
          "base_uri": "https://localhost:8080/",
          "height": 279
        },
        "outputId": "3a5600e9-16aa-4ce7-ce45-f0191c045230"
      },
      "source": [
        "prediction = lm.predict(X_test)\n",
        "plt.plot([0,50], [0, 50], 'k-')\n",
        "plt.scatter(y_test, prediction)\n",
        "plt.xlabel('labels')\n",
        "plt.ylabel('predictions')\n",
        "plt.show()"
      ],
      "execution_count": null,
      "outputs": [
        {
          "output_type": "display_data",
          "data": {
            "image/png": "[encoded data removed]",
            "text/plain": [
              "<Figure size 432x288 with 1 Axes>"
            ]
          },
          "metadata": {
            "tags": [],
            "needs_background": "light"
          }
        }
      ]
    },
    {
      "cell_type": "code",
      "metadata": {
        "colab_type": "code",
        "id": "rz9wq8hwTtvn",
        "colab": {
          "base_uri": "https://localhost:8080/",
          "height": 86
        },
        "outputId": "d8e92eec-aa32-4608-994c-bbcecc43f177"
      },
      "source": [
        "from sklearn import metrics\n",
        "from sklearn.metrics import r2_score\n",
        "print('MAE', metrics.mean_absolute_error(y_test, prediction))\n",
        "print('MSE', metrics.mean_squared_error(y_test, prediction))\n",
        "print('RMSE', np.sqrt(metrics.mean_squared_error(y_test, prediction)))\n",
        "print('R squared error', r2_score(y_test, prediction))"
      ],
      "execution_count": null,
      "outputs": [
        {
          "output_type": "stream",
          "text": [
            "MAE 4.427223771981926\n",
            "MSE 41.2569827474618\n",
            "RMSE 6.423159872481908\n",
            "R squared error 0.6055011508764698\n"
          ],
          "name": "stdout"
        }
      ]
    },
    {
      "cell_type": "markdown",
      "metadata": {
        "colab_type": "text",
        "id": "JLOcpCavFg1H"
      },
      "source": [
        "---\n",
        "**Overfitting** If the model does really great on the training data but poorly on the testing data, this means you may have overfitted.\n",
        "  * **Reasons** : \n",
        "      * Mostly due to the limited dataset that the model cannot be trained to be generalized.\n",
        "      * In this notebook, due to the limited Iris dataset, the logistic model in this notebook may easily encouter **overfitting** when it makes predictions against unseen data.\n",
        "  * **Solutions** : \n",
        "      * Simplify ML algorithms/models\n",
        "      * Add regularization\n",
        "\n",
        "**Underfitting** is when your model does not capture all the detail of the data while overfitting is when your model captures too much detail and ends up showcasing random noise as well.\n",
        "  * **Reason** : happen due to \n",
        "      * The simplicity of Machine Learning algorithms\n",
        "      * Too few data features. \n",
        "  * **Solutions** : \n",
        "      * Build more complex ML algorithms/models\n",
        "      * Add model parameters and data features.\n",
        "\n",
        "  ![Overfitting & Underfitting](https://miro.medium.com/max/1125/1*_7OPgojau8hkiPUiHoGK_w.png)"
      ]
    },
    {
      "cell_type": "markdown",
      "metadata": {
        "colab_type": "text",
        "id": "CJqljPP9sSeZ"
      },
      "source": [
        "In our case, our testing model did have a slighly higher RMSE so some noise may have been picked up but it is only a slight increase. Some ways to help reduce overfitting is cross-validation, training with more data, or removing features."
      ]
    },
    {
      "cell_type": "markdown",
      "metadata": {
        "colab_type": "text",
        "id": "7AivkB_yvoQL"
      },
      "source": [
        "### **Feature Engineering**\n",
        "![alt text](https://venturebeat.com/wp-content/uploads/2018/07/feature_engineering.jpg?resize=680%2C198&strip=all)\n",
        "Feature Engineering is when you change aspects of your features to try and improve accuracy. You try to change raw data into features that better represent the data and can uncover hidden patterns. This includes normalizing columns, turning features into factors, or reducing the complexity of features (etc. changing percents 0-100 to a factor of 0-1, being over and under 50)."
      ]
    },
    {
      "cell_type": "markdown",
      "metadata": {
        "colab_type": "text",
        "id": "9YZ6CZ3-UGv4"
      },
      "source": [
        "##### Normalizing numerical features\n",
        "---\n",
        "MinMaxScaler - a class in **scikit-learn** package to normalize samples into range 0-1 by finiding Max and Min values in every numerical feature.\n",
        "\n",
        "StandardScaler - a class in **scikit-learn** package to standardize sampels by substracting Mean from sample and divide by Standard-Deviation"
      ]
    },
    {
      "cell_type": "code",
      "metadata": {
        "colab_type": "code",
        "id": "C2ucwkUXFg1J",
        "colab": {}
      },
      "source": [
        "from sklearn.preprocessing import MinMaxScaler, StandardScaler"
      ],
      "execution_count": null,
      "outputs": []
    },
    {
      "cell_type": "code",
      "metadata": {
        "colab_type": "code",
        "id": "f_XsZObjFg1L",
        "colab": {}
      },
      "source": [
        "bos_df = bos.copy() # make a copy of boston df"
      ],
      "execution_count": null,
      "outputs": []
    },
    {
      "cell_type": "markdown",
      "metadata": {
        "colab_type": "text",
        "id": "xIkWGKDNFg1N"
      },
      "source": [
        "##### Normalize samples to range 0-1"
      ]
    },
    {
      "cell_type": "code",
      "metadata": {
        "colab_type": "code",
        "id": "sPVQQX6zFg1N",
        "colab": {}
      },
      "source": [
        "mm_scaler = MinMaxScaler().fit(bos_df[['TAX', 'RAD', 'AGE', 'RM']])\n",
        "bos_df[['TAX', 'RAD', 'AGE', 'RM']] = mm_scaler.transform(bos_df[['TAX', 'RAD', 'AGE', 'RM']])"
      ],
      "execution_count": null,
      "outputs": []
    },
    {
      "cell_type": "code",
      "metadata": {
        "colab_type": "code",
        "id": "EEjH42fCFg1P",
        "colab": {
          "base_uri": "https://localhost:8080/",
          "height": 308
        },
        "outputId": "7cb58489-91e0-42fa-9a4f-933f50f35b25"
      },
      "source": [
        "bos_df.describe()"
      ],
      "execution_count": null,
      "outputs": [
        {
          "output_type": "execute_result",
          "data": {
            "text/html": [
              "<div>\n",
              "<style scoped>\n",
              "    .dataframe tbody tr th:only-of-type {\n",
              "        vertical-align: middle;\n",
              "    }\n",
              "\n",
              "    .dataframe tbody tr th {\n",
              "        vertical-align: top;\n",
              "    }\n",
              "\n",
              "    .dataframe thead th {\n",
              "        text-align: right;\n",
              "    }\n",
              "</style>\n",
              "<table border=\"1\" class=\"dataframe\">\n",
              "  <thead>\n",
              "    <tr style=\"text-align: right;\">\n",
              "      <th></th>\n",
              "      <th>CRIM</th>\n",
              "      <th>ZN</th>\n",
              "      <th>INDUS</th>\n",
              "      <th>CHAS</th>\n",
              "      <th>NOX</th>\n",
              "      <th>RM</th>\n",
              "      <th>AGE</th>\n",
              "      <th>DIS</th>\n",
              "      <th>RAD</th>\n",
              "      <th>TAX</th>\n",
              "      <th>PTRATIO</th>\n",
              "      <th>B</th>\n",
              "      <th>LSTAT</th>\n",
              "      <th>MEDV</th>\n",
              "    </tr>\n",
              "  </thead>\n",
              "  <tbody>\n",
              "    <tr>\n",
              "      <th>count</th>\n",
              "      <td>506.000000</td>\n",
              "      <td>506.000000</td>\n",
              "      <td>506.000000</td>\n",
              "      <td>506.000000</td>\n",
              "      <td>506.000000</td>\n",
              "      <td>506.000000</td>\n",
              "      <td>506.000000</td>\n",
              "      <td>5.060000e+02</td>\n",
              "      <td>506.000000</td>\n",
              "      <td>506.000000</td>\n",
              "      <td>5.060000e+02</td>\n",
              "      <td>5.060000e+02</td>\n",
              "      <td>5.060000e+02</td>\n",
              "      <td>506.000000</td>\n",
              "    </tr>\n",
              "    <tr>\n",
              "      <th>mean</th>\n",
              "      <td>0.040544</td>\n",
              "      <td>0.113636</td>\n",
              "      <td>0.391378</td>\n",
              "      <td>0.069170</td>\n",
              "      <td>0.349167</td>\n",
              "      <td>0.521869</td>\n",
              "      <td>0.676364</td>\n",
              "      <td>8.293761e-17</td>\n",
              "      <td>0.371713</td>\n",
              "      <td>0.422208</td>\n",
              "      <td>4.493551e-16</td>\n",
              "      <td>-1.451408e-16</td>\n",
              "      <td>-1.595123e-16</td>\n",
              "      <td>22.532806</td>\n",
              "    </tr>\n",
              "    <tr>\n",
              "      <th>std</th>\n",
              "      <td>0.096679</td>\n",
              "      <td>0.233225</td>\n",
              "      <td>0.251479</td>\n",
              "      <td>0.253994</td>\n",
              "      <td>0.238431</td>\n",
              "      <td>0.134627</td>\n",
              "      <td>0.289896</td>\n",
              "      <td>1.000990e+00</td>\n",
              "      <td>0.378576</td>\n",
              "      <td>0.321636</td>\n",
              "      <td>1.000990e+00</td>\n",
              "      <td>1.000990e+00</td>\n",
              "      <td>1.000990e+00</td>\n",
              "      <td>9.197104</td>\n",
              "    </tr>\n",
              "    <tr>\n",
              "      <th>min</th>\n",
              "      <td>0.000000</td>\n",
              "      <td>0.000000</td>\n",
              "      <td>0.000000</td>\n",
              "      <td>0.000000</td>\n",
              "      <td>0.000000</td>\n",
              "      <td>0.000000</td>\n",
              "      <td>0.000000</td>\n",
              "      <td>-1.267069e+00</td>\n",
              "      <td>0.000000</td>\n",
              "      <td>0.000000</td>\n",
              "      <td>-2.707379e+00</td>\n",
              "      <td>-3.907193e+00</td>\n",
              "      <td>-1.531127e+00</td>\n",
              "      <td>5.000000</td>\n",
              "    </tr>\n",
              "    <tr>\n",
              "      <th>25%</th>\n",
              "      <td>0.000851</td>\n",
              "      <td>0.000000</td>\n",
              "      <td>0.173387</td>\n",
              "      <td>0.000000</td>\n",
              "      <td>0.131687</td>\n",
              "      <td>0.445392</td>\n",
              "      <td>0.433831</td>\n",
              "      <td>-8.056878e-01</td>\n",
              "      <td>0.130435</td>\n",
              "      <td>0.175573</td>\n",
              "      <td>-4.880391e-01</td>\n",
              "      <td>2.050715e-01</td>\n",
              "      <td>-7.994200e-01</td>\n",
              "      <td>17.025000</td>\n",
              "    </tr>\n",
              "    <tr>\n",
              "      <th>50%</th>\n",
              "      <td>0.002812</td>\n",
              "      <td>0.000000</td>\n",
              "      <td>0.338343</td>\n",
              "      <td>0.000000</td>\n",
              "      <td>0.314815</td>\n",
              "      <td>0.507281</td>\n",
              "      <td>0.768280</td>\n",
              "      <td>-2.793234e-01</td>\n",
              "      <td>0.173913</td>\n",
              "      <td>0.272901</td>\n",
              "      <td>2.748590e-01</td>\n",
              "      <td>3.811865e-01</td>\n",
              "      <td>-1.812536e-01</td>\n",
              "      <td>21.200000</td>\n",
              "    </tr>\n",
              "    <tr>\n",
              "      <th>75%</th>\n",
              "      <td>0.041258</td>\n",
              "      <td>0.125000</td>\n",
              "      <td>0.646628</td>\n",
              "      <td>0.000000</td>\n",
              "      <td>0.491770</td>\n",
              "      <td>0.586798</td>\n",
              "      <td>0.938980</td>\n",
              "      <td>6.623709e-01</td>\n",
              "      <td>1.000000</td>\n",
              "      <td>0.914122</td>\n",
              "      <td>8.065758e-01</td>\n",
              "      <td>4.336510e-01</td>\n",
              "      <td>6.030188e-01</td>\n",
              "      <td>25.000000</td>\n",
              "    </tr>\n",
              "    <tr>\n",
              "      <th>max</th>\n",
              "      <td>1.000000</td>\n",
              "      <td>1.000000</td>\n",
              "      <td>1.000000</td>\n",
              "      <td>1.000000</td>\n",
              "      <td>1.000000</td>\n",
              "      <td>1.000000</td>\n",
              "      <td>1.000000</td>\n",
              "      <td>3.960518e+00</td>\n",
              "      <td>1.000000</td>\n",
              "      <td>1.000000</td>\n",
              "      <td>1.638828e+00</td>\n",
              "      <td>4.410519e-01</td>\n",
              "      <td>3.548771e+00</td>\n",
              "      <td>50.000000</td>\n",
              "    </tr>\n",
              "  </tbody>\n",
              "</table>\n",
              "</div>"
            ],
            "text/plain": [
              "             CRIM          ZN  ...         LSTAT        MEDV\n",
              "count  506.000000  506.000000  ...  5.060000e+02  506.000000\n",
              "mean     0.040544    0.113636  ... -1.595123e-16   22.532806\n",
              "std      0.096679    0.233225  ...  1.000990e+00    9.197104\n",
              "min      0.000000    0.000000  ... -1.531127e+00    5.000000\n",
              "25%      0.000851    0.000000  ... -7.994200e-01   17.025000\n",
              "50%      0.002812    0.000000  ... -1.812536e-01   21.200000\n",
              "75%      0.041258    0.125000  ...  6.030188e-01   25.000000\n",
              "max      1.000000    1.000000  ...  3.548771e+00   50.000000\n",
              "\n",
              "[8 rows x 14 columns]"
            ]
          },
          "metadata": {
            "tags": []
          },
          "execution_count": 64
        }
      ]
    },
    {
      "cell_type": "markdown",
      "metadata": {
        "colab_type": "text",
        "id": "2uVdg3X2Fg1U"
      },
      "source": [
        "##### Select features for training (not all features)"
      ]
    },
    {
      "cell_type": "code",
      "metadata": {
        "colab_type": "code",
        "id": "YhgRUWvEFg1U",
        "colab": {}
      },
      "source": [
        "X = bos_df[['TAX', 'RAD', 'AGE', 'RM']]\n",
        "y = bos_df['MEDV']"
      ],
      "execution_count": null,
      "outputs": []
    },
    {
      "cell_type": "markdown",
      "metadata": {
        "colab_type": "text",
        "id": "WzfkM-ojFg1W"
      },
      "source": [
        "##### Split data into Train and Test subsets"
      ]
    },
    {
      "cell_type": "code",
      "metadata": {
        "colab_type": "code",
        "id": "nro-OqdBFg1W",
        "colab": {}
      },
      "source": [
        "from sklearn.model_selection import train_test_split\n",
        "X_train, X_test, y_train, y_test = train_test_split(X, y, test_size = 0.2, random_state = 10)"
      ],
      "execution_count": null,
      "outputs": []
    },
    {
      "cell_type": "markdown",
      "metadata": {
        "colab_type": "text",
        "id": "jEZLebl3Fg1Y"
      },
      "source": [
        "##### Define and train model"
      ]
    },
    {
      "cell_type": "code",
      "metadata": {
        "colab_type": "code",
        "id": "XXi_a2H2Fg1Y",
        "colab": {
          "base_uri": "https://localhost:8080/",
          "height": 35
        },
        "outputId": "0fb6ef64-4b1e-4fb6-debd-f9910dd6172a"
      },
      "source": [
        "from sklearn.linear_model import LinearRegression\n",
        "lm = LinearRegression()\n",
        "lm.fit(X_train, y_train)"
      ],
      "execution_count": null,
      "outputs": [
        {
          "output_type": "execute_result",
          "data": {
            "text/plain": [
              "LinearRegression(copy_X=True, fit_intercept=True, n_jobs=None, normalize=False)"
            ]
          },
          "metadata": {
            "tags": []
          },
          "execution_count": 68
        }
      ]
    },
    {
      "cell_type": "markdown",
      "metadata": {
        "colab_type": "text",
        "id": "A_hz8BOAFg1a"
      },
      "source": [
        "##### Make Training predictions"
      ]
    },
    {
      "cell_type": "code",
      "metadata": {
        "colab_type": "code",
        "id": "0MrcAn-oFg1a",
        "colab": {
          "base_uri": "https://localhost:8080/",
          "height": 295
        },
        "outputId": "6736cbc8-fa30-4c8b-a4df-62d7b0c1ac95"
      },
      "source": [
        "prediction = lm.predict(X_train)\n",
        "plt.scatter(y_train, prediction)\n",
        "plt.plot([0,50], [0, 50], 'k-')\n",
        "plt.xlabel('labels')\n",
        "plt.ylabel('predictions')\n",
        "plt.title(\"Plot of the best line of fit\")\n",
        "plt.show()"
      ],
      "execution_count": null,
      "outputs": [
        {
          "output_type": "display_data",
          "data": {
            "image/png": "[encoded data removed]",
            "text/plain": [
              "<Figure size 432x288 with 1 Axes>"
            ]
          },
          "metadata": {
            "tags": [],
            "needs_background": "light"
          }
        }
      ]
    },
    {
      "cell_type": "markdown",
      "metadata": {
        "colab_type": "text",
        "id": "B0U_65FXUhSO"
      },
      "source": [
        "##### Check Errors"
      ]
    },
    {
      "cell_type": "code",
      "metadata": {
        "colab_type": "code",
        "id": "bUdBMJriFg1c",
        "colab": {},
        "outputId": "c45c3126-c50a-46d0-ffac-deb2d514552e"
      },
      "source": [
        "from sklearn import metrics\n",
        "from sklearn.metrics import r2_score\n",
        "print(\"Training accuracy\")\n",
        "print('MAE', metrics.mean_absolute_error(y_train, prediction))\n",
        "print('MSE', metrics.mean_squared_error(y_train, prediction))\n",
        "print('RMSE', np.sqrt(metrics.mean_squared_error(y_train, prediction)))\n",
        "print('R squared error', r2_score(y_train, prediction))"
      ],
      "execution_count": null,
      "outputs": [
        {
          "output_type": "stream",
          "text": [
            "Training accuracy\n",
            "MAE 3.074171477363067\n",
            "MSE 19.293058218495393\n",
            "RMSE 4.39238639221271\n",
            "R squared error 0.7493133399767096\n"
          ],
          "name": "stdout"
        }
      ]
    },
    {
      "cell_type": "markdown",
      "metadata": {
        "colab_type": "text",
        "id": "Yjed0vh8Fg1e"
      },
      "source": [
        "##### Make Testing predictions"
      ]
    },
    {
      "cell_type": "code",
      "metadata": {
        "colab_type": "code",
        "id": "NQRI_WqqFg1f",
        "colab": {
          "base_uri": "https://localhost:8080/",
          "height": 295
        },
        "outputId": "d880dde6-d628-49c3-b5c7-4b0162496ac0"
      },
      "source": [
        "prediction = lm.predict(X_test)\n",
        "plt.scatter(y_test, prediction)\n",
        "plt.plot([0,50], [0, 50], 'k-')\n",
        "plt.xlabel('labels')\n",
        "plt.ylabel('predictions')\n",
        "plt.title(\"Plot of the best line of fit\")\n",
        "plt.show()"
      ],
      "execution_count": null,
      "outputs": [
        {
          "output_type": "display_data",
          "data": {
            "image/png": "[encoded data removed]",
            "text/plain": [
              "<Figure size 432x288 with 1 Axes>"
            ]
          },
          "metadata": {
            "tags": [],
            "needs_background": "light"
          }
        }
      ]
    },
    {
      "cell_type": "code",
      "metadata": {
        "colab_type": "code",
        "id": "0ddrz7kRFg1h",
        "colab": {
          "base_uri": "https://localhost:8080/",
          "height": 86
        },
        "outputId": "2475d4fd-7afc-47e9-f961-c4686cb1d13f"
      },
      "source": [
        "from sklearn import metrics\n",
        "from sklearn.metrics import r2_score\n",
        "print('MAE', metrics.mean_absolute_error(y_test, prediction))\n",
        "print('MSE', metrics.mean_squared_error(y_test, prediction))\n",
        "print('RMSE', np.sqrt(metrics.mean_squared_error(y_test, prediction)))\n",
        "print('R squared error', r2_score(y_test, prediction))"
      ],
      "execution_count": null,
      "outputs": [
        {
          "output_type": "stream",
          "text": [
            "MAE 4.427223771981927\n",
            "MSE 41.256982747461834\n",
            "RMSE 6.423159872481911\n",
            "R squared error 0.6055011508764694\n"
          ],
          "name": "stdout"
        }
      ]
    },
    {
      "cell_type": "code",
      "metadata": {
        "colab_type": "code",
        "id": "Ab9W3PZPFg1j",
        "colab": {}
      },
      "source": [
        ""
      ],
      "execution_count": null,
      "outputs": []
    }
  ]
}