{
 "cells": [
  {
   "cell_type": "markdown",
   "metadata": {
    "colab_type": "text",
    "id": "HHzKmj2odt28"
   },
   "source": [
    "# Developer Student Club (DSC) - Beginner Machine Learning Track "
   ]
  },
  {
   "cell_type": "markdown",
   "metadata": {
    "colab_type": "text",
    "id": "a1FmN-4W9M4M"
   },
   "source": [
    "### Classification\n",
    "Is a problem of identifying which categories an observation belongs to based on the training data.\n",
    "\n",
    "Examples of Classification include:\n",
    "* Detect *Spam* and *Non-Span* Email\n",
    "* Detect cancer or not"
   ]
  },
  {
   "cell_type": "markdown",
   "metadata": {
    "colab_type": "text",
    "id": "sSV2ND8o9Ydi"
   },
   "source": [
    "### Logistic Regression\n",
    "* Is a binary classifier\n",
    "* Examines the linear relationship between features and label. \n",
    "* Uses [Sigmoid Function](https://www.stat.cmu.edu/~cshalizi/uADA/12/lectures/ch12.pdf) to compute the probability for which categories an observation belongs to.\n",
    "![alt text](https://www.researchgate.net/profile/Knut_Kvaal/publication/239269767/figure/fig2/AS:643520205430784@1530438581076/An-illustration-of-the-signal-processing-in-a-sigmoid-function.png)"
   ]
  },
  {
   "cell_type": "markdown",
   "metadata": {
    "colab_type": "text",
    "id": "TUmGveO7-XQN"
   },
   "source": [
    "* Probability *f(x)* ranges from minimum 0 to maximum 1 that the closer f(x) to 1, the more likely the observation is in one category; and the closer f(x) to 0, the less likely the observation is in that cateogry.\n",
    "* E.g. Logistic Regression to detect *Spam* and *Non-Span* Email with *Spam email* when f(x) = 1 and *Non-Spam email* when f(x) = 0. The f(x) = 0.9 means that there is 90% of likeliness that the email is Spam. \n",
    "* Logistic Regression can be used for both **Binary Classification** and **Multi-Label Classification**"
   ]
  },
  {
   "cell_type": "markdown",
   "metadata": {
    "colab_type": "text",
    "id": "Uh1te5RMIbiQ"
   },
   "source": [
    "### Logistic Regression for identifying Iris flower types. \n",
    "### [Iris Flower Dataset](https://www.kaggle.com/arshid/iris-flower-dataset)\n",
    "* The Iris flower data set is a multivariate data set introduced by the British statistician and biologist Ronald Fisher in his 1936 paper The **use of multiple measurements** in taxonomic problems. It is sometimes called Anderson's Iris data set because Edgar Anderson collected the data to **quantify the morphologic variation of Iris flowers of three related species**. \n",
    "* The data set consists of **50 samples from each of three species** of Iris (Iris Setosa, Iris virginica, and Iris versicolor). **Four features** were measured from each sample: **the length and the width of the sepals and petals,** in centimeters.\n",
    "\n",
    "![alt text](https://miro.medium.com/max/2006/1*8BQGOzI2cgNZxiqnjZPfMg.jpeg)"
   ]
  },
  {
   "cell_type": "markdown",
   "metadata": {
    "colab_type": "text",
    "id": "YmFJUWgZKwOG"
   },
   "source": [
    "#### **Goal:** identify which specifici species of Iris the flower observation falls under"
   ]
  },
  {
   "cell_type": "markdown",
   "metadata": {
    "colab_type": "text",
    "id": "4tLeHtxQLHBK"
   },
   "source": [
    "#### Import dependencies"
   ]
  },
  {
   "cell_type": "code",
   "execution_count": 1,
   "metadata": {
    "colab": {},
    "colab_type": "code",
    "id": "dpP82wNF9KzL"
   },
   "outputs": [],
   "source": [
    "import numpy as np\n",
    "import matplotlib.pyplot as plt\n",
    "from sklearn.datasets import load_iris\n",
    "import pandas as pd\n",
    "from sklearn.metrics import confusion_matrix, accuracy_score, plot_confusion_matrix"
   ]
  },
  {
   "cell_type": "markdown",
   "metadata": {
    "colab_type": "text",
    "id": "Y8DFEz4BLQM6"
   },
   "source": [
    "#### Load data"
   ]
  },
  {
   "cell_type": "code",
   "execution_count": 2,
   "metadata": {
    "colab": {},
    "colab_type": "code",
    "id": "iRlvFISbLPsX"
   },
   "outputs": [],
   "source": [
    "#load iris data\n",
    "iris = load_iris()\n",
    "data = iris.data\n",
    "labels = iris.target"
   ]
  },
  {
   "cell_type": "code",
   "execution_count": 3,
   "metadata": {
    "colab": {},
    "colab_type": "code",
    "id": "PDyuKunqLoTY"
   },
   "outputs": [],
   "source": [
    "#parse data and labels into pandas.DataFrames for easy data manipulation\n",
    "#df - DataFrame\n",
    "df = pd.DataFrame(data, columns = ['sepal_length', 'sepal_width', 'petal_length', 'petal_width'])\n",
    "df['species_id'] = labels\n",
    "\n",
    "#label encoding\n",
    "species_map = {0 : 'sentosa', 1 : 'versicolor', 2 : 'virginica'}\n",
    "df['species_name'] = df['species_id'].map(species_map)"
   ]
  },
  {
   "cell_type": "markdown",
   "metadata": {
    "colab_type": "text",
    "id": "p-UshCdBLVSu"
   },
   "source": [
    "#### Explanatory Data Analysis (EDA)"
   ]
  },
  {
   "cell_type": "markdown",
   "metadata": {
    "colab_type": "text",
    "id": "4SsGo0-sLagn"
   },
   "source": [
    "##### Inspect first 5 rows of Iris dataset"
   ]
  },
  {
   "cell_type": "code",
   "execution_count": 4,
   "metadata": {
    "colab": {
     "base_uri": "https://localhost:8080/",
     "height": 198
    },
    "colab_type": "code",
    "id": "Q_D1wq15LTOT",
    "outputId": "0014b174-c18e-4536-e3ac-68cab6ea632c"
   },
   "outputs": [
    {
     "data": {
      "text/html": [
       "<div>\n",
       "<style scoped>\n",
       "    .dataframe tbody tr th:only-of-type {\n",
       "        vertical-align: middle;\n",
       "    }\n",
       "\n",
       "    .dataframe tbody tr th {\n",
       "        vertical-align: top;\n",
       "    }\n",
       "\n",
       "    .dataframe thead th {\n",
       "        text-align: right;\n",
       "    }\n",
       "</style>\n",
       "<table border=\"1\" class=\"dataframe\">\n",
       "  <thead>\n",
       "    <tr style=\"text-align: right;\">\n",
       "      <th></th>\n",
       "      <th>sepal_length</th>\n",
       "      <th>sepal_width</th>\n",
       "      <th>petal_length</th>\n",
       "      <th>petal_width</th>\n",
       "      <th>species_id</th>\n",
       "      <th>species_name</th>\n",
       "    </tr>\n",
       "  </thead>\n",
       "  <tbody>\n",
       "    <tr>\n",
       "      <th>0</th>\n",
       "      <td>5.1</td>\n",
       "      <td>3.5</td>\n",
       "      <td>1.4</td>\n",
       "      <td>0.2</td>\n",
       "      <td>0</td>\n",
       "      <td>sentosa</td>\n",
       "    </tr>\n",
       "    <tr>\n",
       "      <th>1</th>\n",
       "      <td>4.9</td>\n",
       "      <td>3.0</td>\n",
       "      <td>1.4</td>\n",
       "      <td>0.2</td>\n",
       "      <td>0</td>\n",
       "      <td>sentosa</td>\n",
       "    </tr>\n",
       "    <tr>\n",
       "      <th>2</th>\n",
       "      <td>4.7</td>\n",
       "      <td>3.2</td>\n",
       "      <td>1.3</td>\n",
       "      <td>0.2</td>\n",
       "      <td>0</td>\n",
       "      <td>sentosa</td>\n",
       "    </tr>\n",
       "    <tr>\n",
       "      <th>3</th>\n",
       "      <td>4.6</td>\n",
       "      <td>3.1</td>\n",
       "      <td>1.5</td>\n",
       "      <td>0.2</td>\n",
       "      <td>0</td>\n",
       "      <td>sentosa</td>\n",
       "    </tr>\n",
       "    <tr>\n",
       "      <th>4</th>\n",
       "      <td>5.0</td>\n",
       "      <td>3.6</td>\n",
       "      <td>1.4</td>\n",
       "      <td>0.2</td>\n",
       "      <td>0</td>\n",
       "      <td>sentosa</td>\n",
       "    </tr>\n",
       "  </tbody>\n",
       "</table>\n",
       "</div>"
      ],
      "text/plain": [
       "   sepal_length  sepal_width  petal_length  petal_width  species_id  \\\n",
       "0           5.1          3.5           1.4          0.2           0   \n",
       "1           4.9          3.0           1.4          0.2           0   \n",
       "2           4.7          3.2           1.3          0.2           0   \n",
       "3           4.6          3.1           1.5          0.2           0   \n",
       "4           5.0          3.6           1.4          0.2           0   \n",
       "\n",
       "  species_name  \n",
       "0      sentosa  \n",
       "1      sentosa  \n",
       "2      sentosa  \n",
       "3      sentosa  \n",
       "4      sentosa  "
      ]
     },
     "execution_count": 4,
     "metadata": {},
     "output_type": "execute_result"
    }
   ],
   "source": [
    "df.head()"
   ]
  },
  {
   "cell_type": "markdown",
   "metadata": {
    "colab_type": "text",
    "id": "2ELkpx8IMLC_"
   },
   "source": [
    "##### Inspect statistics of Iris dataset"
   ]
  },
  {
   "cell_type": "code",
   "execution_count": 5,
   "metadata": {
    "colab": {
     "base_uri": "https://localhost:8080/",
     "height": 288
    },
    "colab_type": "code",
    "id": "CJTvfNBSLenA",
    "outputId": "edfce39b-0f75-470c-dc26-4eabb2db378b"
   },
   "outputs": [
    {
     "data": {
      "text/html": [
       "<div>\n",
       "<style scoped>\n",
       "    .dataframe tbody tr th:only-of-type {\n",
       "        vertical-align: middle;\n",
       "    }\n",
       "\n",
       "    .dataframe tbody tr th {\n",
       "        vertical-align: top;\n",
       "    }\n",
       "\n",
       "    .dataframe thead th {\n",
       "        text-align: right;\n",
       "    }\n",
       "</style>\n",
       "<table border=\"1\" class=\"dataframe\">\n",
       "  <thead>\n",
       "    <tr style=\"text-align: right;\">\n",
       "      <th></th>\n",
       "      <th>sepal_length</th>\n",
       "      <th>sepal_width</th>\n",
       "      <th>petal_length</th>\n",
       "      <th>petal_width</th>\n",
       "      <th>species_id</th>\n",
       "    </tr>\n",
       "  </thead>\n",
       "  <tbody>\n",
       "    <tr>\n",
       "      <th>count</th>\n",
       "      <td>150.000000</td>\n",
       "      <td>150.000000</td>\n",
       "      <td>150.000000</td>\n",
       "      <td>150.000000</td>\n",
       "      <td>150.000000</td>\n",
       "    </tr>\n",
       "    <tr>\n",
       "      <th>mean</th>\n",
       "      <td>5.843333</td>\n",
       "      <td>3.057333</td>\n",
       "      <td>3.758000</td>\n",
       "      <td>1.199333</td>\n",
       "      <td>1.000000</td>\n",
       "    </tr>\n",
       "    <tr>\n",
       "      <th>std</th>\n",
       "      <td>0.828066</td>\n",
       "      <td>0.435866</td>\n",
       "      <td>1.765298</td>\n",
       "      <td>0.762238</td>\n",
       "      <td>0.819232</td>\n",
       "    </tr>\n",
       "    <tr>\n",
       "      <th>min</th>\n",
       "      <td>4.300000</td>\n",
       "      <td>2.000000</td>\n",
       "      <td>1.000000</td>\n",
       "      <td>0.100000</td>\n",
       "      <td>0.000000</td>\n",
       "    </tr>\n",
       "    <tr>\n",
       "      <th>25%</th>\n",
       "      <td>5.100000</td>\n",
       "      <td>2.800000</td>\n",
       "      <td>1.600000</td>\n",
       "      <td>0.300000</td>\n",
       "      <td>0.000000</td>\n",
       "    </tr>\n",
       "    <tr>\n",
       "      <th>50%</th>\n",
       "      <td>5.800000</td>\n",
       "      <td>3.000000</td>\n",
       "      <td>4.350000</td>\n",
       "      <td>1.300000</td>\n",
       "      <td>1.000000</td>\n",
       "    </tr>\n",
       "    <tr>\n",
       "      <th>75%</th>\n",
       "      <td>6.400000</td>\n",
       "      <td>3.300000</td>\n",
       "      <td>5.100000</td>\n",
       "      <td>1.800000</td>\n",
       "      <td>2.000000</td>\n",
       "    </tr>\n",
       "    <tr>\n",
       "      <th>max</th>\n",
       "      <td>7.900000</td>\n",
       "      <td>4.400000</td>\n",
       "      <td>6.900000</td>\n",
       "      <td>2.500000</td>\n",
       "      <td>2.000000</td>\n",
       "    </tr>\n",
       "  </tbody>\n",
       "</table>\n",
       "</div>"
      ],
      "text/plain": [
       "       sepal_length  sepal_width  petal_length  petal_width  species_id\n",
       "count    150.000000   150.000000    150.000000   150.000000  150.000000\n",
       "mean       5.843333     3.057333      3.758000     1.199333    1.000000\n",
       "std        0.828066     0.435866      1.765298     0.762238    0.819232\n",
       "min        4.300000     2.000000      1.000000     0.100000    0.000000\n",
       "25%        5.100000     2.800000      1.600000     0.300000    0.000000\n",
       "50%        5.800000     3.000000      4.350000     1.300000    1.000000\n",
       "75%        6.400000     3.300000      5.100000     1.800000    2.000000\n",
       "max        7.900000     4.400000      6.900000     2.500000    2.000000"
      ]
     },
     "execution_count": 5,
     "metadata": {},
     "output_type": "execute_result"
    }
   ],
   "source": [
    "df.describe()"
   ]
  },
  {
   "cell_type": "markdown",
   "metadata": {
    "colab_type": "text",
    "id": "7eK2hkx0NSNJ"
   },
   "source": [
    "##### Check missing values"
   ]
  },
  {
   "cell_type": "code",
   "execution_count": 6,
   "metadata": {
    "colab": {
     "base_uri": "https://localhost:8080/",
     "height": 138
    },
    "colab_type": "code",
    "id": "0Ch7Ps1hMQbD",
    "outputId": "c44676ce-d92a-4057-ab82-82afbbca3d95"
   },
   "outputs": [
    {
     "data": {
      "text/plain": [
       "sepal_length    False\n",
       "sepal_width     False\n",
       "petal_length    False\n",
       "petal_width     False\n",
       "species_id      False\n",
       "species_name    False\n",
       "dtype: bool"
      ]
     },
     "execution_count": 6,
     "metadata": {},
     "output_type": "execute_result"
    }
   ],
   "source": [
    "df.isnull().any()"
   ]
  },
  {
   "cell_type": "markdown",
   "metadata": {
    "colab_type": "text",
    "id": "2G2q2HvmTpvU"
   },
   "source": [
    "##### Check Iris types"
   ]
  },
  {
   "cell_type": "code",
   "execution_count": 7,
   "metadata": {
    "colab": {
     "base_uri": "https://localhost:8080/",
     "height": 35
    },
    "colab_type": "code",
    "id": "YenTgAAZTyWx",
    "outputId": "a9928f65-4582-47b9-a48a-be77bfedbe02"
   },
   "outputs": [
    {
     "name": "stdout",
     "output_type": "stream",
     "text": [
      "['sentosa' 'versicolor' 'virginica']\n"
     ]
    }
   ],
   "source": [
    "print(df['species_name'].unique())"
   ]
  },
  {
   "cell_type": "markdown",
   "metadata": {
    "colab_type": "text",
    "id": "VAeQkvIgOP3s"
   },
   "source": [
    "##### Inspecting by visualization"
   ]
  },
  {
   "cell_type": "markdown",
   "metadata": {
    "colab_type": "text",
    "id": "zTmiPCKxQOP8"
   },
   "source": [
    "###### Inspecting the balance of labels"
   ]
  },
  {
   "cell_type": "code",
   "execution_count": 8,
   "metadata": {
    "colab": {
     "base_uri": "https://localhost:8080/",
     "height": 282
    },
    "colab_type": "code",
    "id": "-KS7rswgQRln",
    "outputId": "4f2fff98-eaf9-47a5-aadf-15988fd15ff7"
   },
   "outputs": [
    {
     "data": {
      "text/plain": [
       "<function matplotlib.pyplot.show(*args, **kw)>"
      ]
     },
     "execution_count": 8,
     "metadata": {},
     "output_type": "execute_result"
    },
    {
     "data": {
      "image/png": "[encoded data removed]",
      "text/plain": [
       "<Figure size 432x288 with 1 Axes>"
      ]
     },
     "metadata": {
      "needs_background": "light"
     },
     "output_type": "display_data"
    }
   ],
   "source": [
    "plt.hist(df['species_name'])\n",
    "plt.show"
   ]
  },
  {
   "cell_type": "markdown",
   "metadata": {
    "colab_type": "text",
    "id": "m5rd5SarOi9I"
   },
   "source": [
    "###### Inspecting **Septal** feature by Length and Width"
   ]
  },
  {
   "cell_type": "code",
   "execution_count": 9,
   "metadata": {
    "colab": {
     "base_uri": "https://localhost:8080/",
     "height": 296
    },
    "colab_type": "code",
    "id": "HgjK5BQmOIRD",
    "outputId": "139d452f-8178-4461-9245-f9f94b52cf71"
   },
   "outputs": [
    {
     "data": {
      "text/plain": [
       "<function matplotlib.pyplot.show(*args, **kw)>"
      ]
     },
     "execution_count": 9,
     "metadata": {},
     "output_type": "execute_result"
    },
    {
     "data": {
      "image/png": "[encoded data removed]",
      "text/plain": [
       "<Figure size 432x288 with 1 Axes>"
      ]
     },
     "metadata": {
      "needs_background": "light"
     },
     "output_type": "display_data"
    }
   ],
   "source": [
    "# By length\n",
    "plt.scatter(df[df['species_id'] == 0]['sepal_length'], df[df['species_id'] == 0]['petal_length'], label = 'sentosa')\n",
    "plt.scatter(df[df['species_id'] == 1]['sepal_length'], df[df['species_id'] == 1]['petal_length'], label = 'versicolor')\n",
    "plt.scatter(df[df['species_id'] == 2]['sepal_length'], df[df['species_id'] == 2]['petal_length'], label = 'virginica')\n",
    "plt.legend()\n",
    "plt.xlabel('Sepal Width')\n",
    "plt.ylabel('Petal Width')\n",
    "plt.show"
   ]
  },
  {
   "cell_type": "code",
   "execution_count": 10,
   "metadata": {
    "colab": {
     "base_uri": "https://localhost:8080/",
     "height": 296
    },
    "colab_type": "code",
    "id": "zBfOZMqePy9Y",
    "outputId": "d2afa2f7-22cc-4873-e59b-e5a738459568"
   },
   "outputs": [
    {
     "data": {
      "text/plain": [
       "<function matplotlib.pyplot.show(*args, **kw)>"
      ]
     },
     "execution_count": 10,
     "metadata": {},
     "output_type": "execute_result"
    },
    {
     "data": {
      "image/png": "[encoded data removed]",
      "text/plain": [
       "<Figure size 432x288 with 1 Axes>"
      ]
     },
     "metadata": {
      "needs_background": "light"
     },
     "output_type": "display_data"
    }
   ],
   "source": [
    "# By width\n",
    "plt.scatter(df[df['species_id'] == 0]['sepal_width'], df[df['species_id'] == 0]['petal_width'], label = 'sentosa')\n",
    "plt.scatter(df[df['species_id'] == 1]['sepal_width'], df[df['species_id'] == 1]['petal_width'], label = 'versicolor')\n",
    "plt.scatter(df[df['species_id'] == 2]['sepal_width'], df[df['species_id'] == 2]['petal_width'], label = 'virginica')\n",
    "plt.legend()\n",
    "plt.xlabel('Sepal Width')\n",
    "plt.ylabel('Petal Width')\n",
    "plt.show"
   ]
  },
  {
   "cell_type": "markdown",
   "metadata": {
    "colab_type": "text",
    "id": "amwnWwOCRDl9"
   },
   "source": [
    "#### Split dataset into Train and Test subsets: *80% for training and 20% for testing*"
   ]
  },
  {
   "cell_type": "code",
   "execution_count": 11,
   "metadata": {
    "colab": {},
    "colab_type": "code",
    "id": "aB7LHT9ARRwW"
   },
   "outputs": [],
   "source": [
    "from sklearn.model_selection import train_test_split\n",
    "features = df.drop(['species_id', 'species_name'], axis = \"columns\") #drop columns\n",
    "labels = df['species_id']\n",
    "train_features, test_features, train_labels, test_labels = train_test_split(features, labels, test_size = 0.2, shuffle = True, random_state = 100)"
   ]
  },
  {
   "cell_type": "markdown",
   "metadata": {
    "colab_type": "text",
    "id": "yeT6leSpQeZA"
   },
   "source": [
    "#### Train Logistic Regression model"
   ]
  },
  {
   "cell_type": "code",
   "execution_count": 12,
   "metadata": {
    "colab": {},
    "colab_type": "code",
    "id": "3aocY8ctQd9C"
   },
   "outputs": [],
   "source": [
    "from sklearn.linear_model import LogisticRegression"
   ]
  },
  {
   "cell_type": "code",
   "execution_count": 13,
   "metadata": {
    "colab": {},
    "colab_type": "code",
    "id": "gDe5t5zQQlZ9"
   },
   "outputs": [],
   "source": [
    "#create an instance of LogisticRegression model with: iteration_num = 100 and verbose = 1\n",
    "logit_model = LogisticRegression(max_iter = 100, verbose = 1)"
   ]
  },
  {
   "cell_type": "markdown",
   "metadata": {
    "colab_type": "text",
    "id": "3NmU0ZqZjBQN"
   },
   "source": [
    "**Logistic Regression: How it is trained?** 🤔"
   ]
  },
  {
   "cell_type": "markdown",
   "metadata": {
    "colab_type": "text",
    "id": "RkOSIWzhQ7oR"
   },
   "source": [
    "#### Train **Logisitc Regression** model"
   ]
  },
  {
   "cell_type": "code",
   "execution_count": 14,
   "metadata": {
    "colab": {
     "base_uri": "https://localhost:8080/",
     "height": 138
    },
    "colab_type": "code",
    "id": "wYXLxzywQ5T4",
    "outputId": "00ee3848-46f6-41c7-8e74-93a6d10cf4f2"
   },
   "outputs": [
    {
     "name": "stderr",
     "output_type": "stream",
     "text": [
      "[Parallel(n_jobs=1)]: Using backend SequentialBackend with 1 concurrent workers.\n",
      "[Parallel(n_jobs=1)]: Done   1 out of   1 | elapsed:    0.0s finished\n"
     ]
    },
    {
     "data": {
      "text/plain": [
       "LogisticRegression(C=1.0, class_weight=None, dual=False, fit_intercept=True,\n",
       "                   intercept_scaling=1, l1_ratio=None, max_iter=100,\n",
       "                   multi_class='auto', n_jobs=None, penalty='l2',\n",
       "                   random_state=None, solver='lbfgs', tol=0.0001, verbose=1,\n",
       "                   warm_start=False)"
      ]
     },
     "execution_count": 14,
     "metadata": {},
     "output_type": "execute_result"
    }
   ],
   "source": [
    "logit_model.fit(train_features, train_labels)"
   ]
  },
  {
   "cell_type": "markdown",
   "metadata": {},
   "source": [
    "#### Training steps"
   ]
  },
  {
   "cell_type": "markdown",
   "metadata": {},
   "source": [
    "##### 1. Linear Formula\n",
    "**y = w*x + b** that \n",
    "* **x, y** are input and output\n",
    "* **w, b** are weight and bias that are initialized randomly. **GOAL** is to optimize **w, b** to minimize **LOSS**"
   ]
  },
  {
   "cell_type": "markdown",
   "metadata": {},
   "source": [
    "##### 2. Sigmoid Function\n",
    "- convert **y = f(x) = w*x + b** from **Linear Formula** above to probability between 0 and 1\n",
    "![alt text](https://www.researchgate.net/profile/Knut_Kvaal/publication/239269767/figure/fig2/AS:643520205430784@1530438581076/An-illustration-of-the-signal-processing-in-a-sigmoid-function.png)"
   ]
  },
  {
   "cell_type": "markdown",
   "metadata": {},
   "source": [
    "##### 3. Final formula of Losgistic Regression\n",
    "* **Logistic regresion: f(X)** = σ(X) = 1 / (1 + e^(-X))\n",
    "* **Sigmoid: σ(x)** = 1 / (1 + e^(-w*x - b))\n",
    "* **Linear formua: y** = w*x + b\n",
    "### => Logistic Regression y^ = 1 / (1 + e^(-w*x - b))"
   ]
  },
  {
   "cell_type": "markdown",
   "metadata": {},
   "source": [
    "##### 4. Cost (Loss) functions: Cross Entropy (aka Log Loss)\n",
    "![alt text](https://miro.medium.com/max/1122/1*KY8QcvVOz1sdUnVKKhxWyA@2x.png)\n"
   ]
  },
  {
   "cell_type": "markdown",
   "metadata": {},
   "source": [
    "##### 5. Update weights and optimize\n",
    "* With calculated loss, update weight **new_w = old_w +/- ɑ * loss [1]**\n",
    "\n",
    "* Apply Calculus, **compute derivative of [1] and find old_w that new_w is minized**.\n",
    "\n",
    "* Repeat this process over iterations, we got **Gradient Descent** that **cost** for each iteration will move to the **global minimum**\n",
    "\n",
    "![alt text](https://ml-cheatsheet.readthedocs.io/en/latest/_images/gradient_descent_demystified.png) "
   ]
  },
  {
   "cell_type": "markdown",
   "metadata": {
    "colab_type": "text",
    "id": "bL8ec1F3SW3F"
   },
   "source": [
    "#### Making predictions"
   ]
  },
  {
   "cell_type": "markdown",
   "metadata": {
    "colab_type": "text",
    "id": "GdTwqpZ8ZExc"
   },
   "source": [
    "##### Making **Train** predictions"
   ]
  },
  {
   "cell_type": "code",
   "execution_count": 16,
   "metadata": {
    "colab": {},
    "colab_type": "code",
    "id": "cHQUxxnjSFat"
   },
   "outputs": [],
   "source": [
    "train_preds = logit_model.predict(train_features)\n",
    "train_pred_probabilities = logit_model.predict_proba(train_features)"
   ]
  },
  {
   "cell_type": "code",
   "execution_count": 17,
   "metadata": {
    "colab": {
     "base_uri": "https://localhost:8080/",
     "height": 313
    },
    "colab_type": "code",
    "id": "7LHUZYdgaux6",
    "outputId": "dab930e2-23cc-4230-a7dc-30dd9c237181"
   },
   "outputs": [
    {
     "name": "stdout",
     "output_type": "stream",
     "text": [
      "Accuracy score: \n",
      "0.975\n"
     ]
    },
    {
     "data": {
      "image/png": "[encoded data removed]",
      "text/plain": [
       "<Figure size 432x288 with 2 Axes>"
      ]
     },
     "metadata": {
      "needs_background": "light"
     },
     "output_type": "display_data"
    }
   ],
   "source": [
    "#test accuracy\n",
    "train_confusion_matrix = confusion_matrix(train_preds, train_labels)\n",
    "train_accuracy_score = accuracy_score(train_preds, train_labels)\n",
    "train_disp = plot_confusion_matrix(logit_model, train_features, train_labels, cmap = plt.cm.Blues)\n",
    "print(\"Accuracy score: \")\n",
    "print(train_accuracy_score)"
   ]
  },
  {
   "cell_type": "markdown",
   "metadata": {
    "colab_type": "text",
    "id": "EV4D48xpXHZh"
   },
   "source": [
    "###### Visualizing Logistic Regression's train performance"
   ]
  },
  {
   "cell_type": "code",
   "execution_count": 24,
   "metadata": {},
   "outputs": [
    {
     "data": {
      "text/plain": [
       "(array([[-0.42028703,  0.90776111, -2.39052682, -1.02908856],\n",
       "        [ 0.49992936, -0.34354659, -0.20184884, -0.79989468],\n",
       "        [-0.07964232, -0.56421451,  2.59237567,  1.82898324]]),\n",
       " array([  9.39879797,   2.23932633, -11.63812429]))"
      ]
     },
     "execution_count": 24,
     "metadata": {},
     "output_type": "execute_result"
    }
   ],
   "source": [
    "#get coefficeints and intercepts\n",
    "train_W, train_b = logit_model.coef_, logit_model.intercept_\n",
    "train_W, train_b"
   ]
  },
  {
   "cell_type": "code",
   "execution_count": 25,
   "metadata": {
    "colab": {
     "base_uri": "https://localhost:8080/",
     "height": 266
    },
    "colab_type": "code",
    "id": "MPykT_wXXDby",
    "outputId": "778291d3-b752-4bd5-e5dc-71df050b51d8"
   },
   "outputs": [
    {
     "data": {
      "image/png": "[encoded data removed]",
      "text/plain": [
       "<Figure size 432x288 with 1 Axes>"
      ]
     },
     "metadata": {
      "needs_background": "light"
     },
     "output_type": "display_data"
    }
   ],
   "source": [
    "plt.scatter(train_features['sepal_length'], train_features['sepal_width'], c = train_labels)\n",
    "ax = plt.gca()\n",
    "ax.autoscale = False\n",
    "xvals = np.array(ax.get_xlim())\n",
    "yvals = -(xvals * train_W[0][0]) / train_W[0][1]\n",
    "plt.plot(xvals, yvals)\n",
    "plt.show()"
   ]
  },
  {
   "cell_type": "markdown",
   "metadata": {
    "colab_type": "text",
    "id": "buk5BQy6ZJQN"
   },
   "source": [
    "##### Making **Test** predictions"
   ]
  },
  {
   "cell_type": "code",
   "execution_count": 26,
   "metadata": {
    "colab": {},
    "colab_type": "code",
    "id": "M4A3ALJtXYSu"
   },
   "outputs": [],
   "source": [
    "test_preds = logit_model.predict(test_features)\n",
    "test_pred_probabilities = logit_model.predict_proba(test_features)"
   ]
  },
  {
   "cell_type": "code",
   "execution_count": 27,
   "metadata": {
    "colab": {
     "base_uri": "https://localhost:8080/",
     "height": 313
    },
    "colab_type": "code",
    "id": "6biq29PBaI_1",
    "outputId": "ead08e49-f739-4b27-dbf6-cda699355609"
   },
   "outputs": [
    {
     "name": "stdout",
     "output_type": "stream",
     "text": [
      "Accuracy score: \n",
      "0.9666666666666667\n"
     ]
    },
    {
     "data": {
      "image/png": "[encoded data removed]",
      "text/plain": [
       "<Figure size 432x288 with 2 Axes>"
      ]
     },
     "metadata": {
      "needs_background": "light"
     },
     "output_type": "display_data"
    }
   ],
   "source": [
    "#test accuracy\n",
    "test_confusion_matrix = confusion_matrix(test_preds, test_labels)\n",
    "test_accuracy_score = accuracy_score(test_preds, test_labels)\n",
    "test_disp = plot_confusion_matrix(logit_model, test_features, test_labels, cmap = plt.cm.Blues)\n",
    "print(\"Accuracy score: \")\n",
    "print(test_accuracy_score)"
   ]
  },
  {
   "cell_type": "markdown",
   "metadata": {
    "colab_type": "text",
    "id": "ccg-eWVAZumq"
   },
   "source": [
    "###### Visualizing Logisitc Regression's Test performance"
   ]
  },
  {
   "cell_type": "code",
   "execution_count": 28,
   "metadata": {},
   "outputs": [
    {
     "data": {
      "text/plain": [
       "(array([[-0.42028703,  0.90776111, -2.39052682, -1.02908856],\n",
       "        [ 0.49992936, -0.34354659, -0.20184884, -0.79989468],\n",
       "        [-0.07964232, -0.56421451,  2.59237567,  1.82898324]]),\n",
       " array([  9.39879797,   2.23932633, -11.63812429]))"
      ]
     },
     "execution_count": 28,
     "metadata": {},
     "output_type": "execute_result"
    }
   ],
   "source": [
    "#get coefficeints and intercepts\n",
    "test_W, test_b = logit_model.coef_, logit_model.intercept_\n",
    "test_W, test_b"
   ]
  },
  {
   "cell_type": "code",
   "execution_count": 29,
   "metadata": {
    "colab": {
     "base_uri": "https://localhost:8080/",
     "height": 265
    },
    "colab_type": "code",
    "id": "wEjdn5n5ZmrG",
    "outputId": "955ca327-5740-41b7-d1ad-99fbe8c5766a"
   },
   "outputs": [
    {
     "data": {
      "image/png": "[encoded data removed]",
      "text/plain": [
       "<Figure size 432x288 with 1 Axes>"
      ]
     },
     "metadata": {
      "needs_background": "light"
     },
     "output_type": "display_data"
    }
   ],
   "source": [
    "plt.scatter(test_features['sepal_length'], test_features['sepal_width'], c = test_labels)\n",
    "ax = plt.gca()\n",
    "ax.autoscale = False\n",
    "xvals = np.array(ax.get_xlim())\n",
    "yvals = -(xvals * test_W[0][0]) / test_W[0][1]\n",
    "plt.plot(xvals, yvals)\n",
    "plt.show()"
   ]
  },
  {
   "cell_type": "markdown",
   "metadata": {
    "colab_type": "text",
    "id": "oLw7JVC5aEKY"
   },
   "source": [
    "### Some thoughts\n",
    "* **Does accuracy score look good?** \n",
    "=> Yes\n",
    "* **Does the model work that well in reality?** \n",
    "=> Yes, but not really. The dataset is too small (150 records) to conclude the model's performance\n",
    "* **How to improve?**\n",
    "=> Support Vector Machine (SVM) or Decision tree"
   ]
  },
  {
   "cell_type": "markdown",
   "metadata": {
    "colab_type": "text",
    "id": "-Rpqf_ulbWU9"
   },
   "source": [
    "#### Accuracy performance\n",
    "---\n",
    "In this notebook, the accuracy is high in both training and testing. However, the model may not maintain high accuracy against larger and rea-life datasets because this Iris dataset contains only 120 samples that do not represent variation.\n"
   ]
  },
  {
   "cell_type": "markdown",
   "metadata": {
    "colab_type": "text",
    "id": "5mbycL0ccanS"
   },
   "source": [
    "#### Overfitting & Underfitting\n",
    "---\n",
    "**Overfitting** If the model does really great on the training data but poorly on the testing data, this means you may have overfitted.\n",
    "  * **Reasons** : \n",
    "      * Mostly due to the limited dataset that the model cannot be trained to be generalized.\n",
    "      * In this notebook, due to the limited Iris dataset, the logistic model in this notebook may easily encouter **overfitting** when it makes predictions against unseen data.\n",
    "  * **Solutions** : \n",
    "      * Simplify ML algorithms/models\n",
    "      * Add regularization\n",
    "\n",
    "**Underfitting** is when your model does not capture all the detail of the data while overfitting is when your model captures too much detail and ends up showcasing random noise as well.\n",
    "  * **Reason** : happen due to \n",
    "      * The simplicity of Machine Learning algorithms\n",
    "      * Too few data features. \n",
    "  * **Solutions** : \n",
    "      * Build more complex ML algorithms/models\n",
    "      * Add model parameters and data features.\n",
    "\n",
    "  ![Overfitting & Underfitting](https://miro.medium.com/max/1125/1*_7OPgojau8hkiPUiHoGK_w.png)"
   ]
  },
  {
   "cell_type": "markdown",
   "metadata": {
    "colab_type": "text",
    "id": "UlqGV98udcaO"
   },
   "source": [
    "**References**\n",
    "* Logistic Regression in Sci-Kit Learn, https://blog.goodaudience.com/classifying-flowers-using-logistic-regression-in-sci-kit-learn-38262416e4c6\n",
    "* Sigmoid Function, https://www.stat.cmu.edu/~cshalizi/uADA/12/lectures/ch12.pdf"
   ]
  },
  {
   "cell_type": "code",
   "execution_count": null,
   "metadata": {},
   "outputs": [],
   "source": []
  }
 ],
 "metadata": {
  "colab": {
   "collapsed_sections": [
    "oLw7JVC5aEKY",
    "5mbycL0ccanS"
   ],
   "name": "Beginner_ML_Logistic_Regression.ipynb",
   "provenance": []
  },
  "kernelspec": {
   "display_name": "Python 3",
   "language": "python",
   "name": "python3"
  },
  "language_info": {
   "codemirror_mode": {
    "name": "ipython",
    "version": 3
   },
   "file_extension": ".py",
   "mimetype": "text/x-python",
   "name": "python",
   "nbconvert_exporter": "python",
   "pygments_lexer": "ipython3",
   "version": "3.7.5"
  }
 },
 "nbformat": 4,
 "nbformat_minor": 1
}
