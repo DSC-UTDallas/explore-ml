{
  "nbformat": 4,
  "nbformat_minor": 0,
  "metadata": {
    "kernelspec": {
      "display_name": "Python 3",
      "language": "python",
      "name": "python3"
    },
    "language_info": {
      "codemirror_mode": {
        "name": "ipython",
        "version": 3
      },
      "file_extension": ".py",
      "mimetype": "text/x-python",
      "name": "python",
      "nbconvert_exporter": "python",
      "pygments_lexer": "ipython3",
      "version": "3.6.9"
    },
    "colab": {
      "name": "SequenceTagger.ipynb",
      "provenance": [],
      "collapsed_sections": [
        "pCH4lpnq7PRP",
        "Nkk3DkvX2UjX"
      ]
    },
    "accelerator": "GPU"
  },
  "cells": [
    {
      "cell_type": "markdown",
      "metadata": {
        "id": "uhBk_wpdj6ep",
        "colab_type": "text"
      },
      "source": [
        "## Natural Language Understanding (NLU)\n",
        "* NLU is an AI subfielf to interpret text and unstructured data\n",
        "* Applciations: Siri, Alex, Google Assistant\n",
        "\n",
        "[Reference: Stanford NLU](http://web.stanford.edu/class/cs224u/materials/cs224u-2020-intro-handout.pdf)\n"
      ]
    },
    {
      "cell_type": "markdown",
      "metadata": {
        "id": "tqMIygXTQlFp",
        "colab_type": "text"
      },
      "source": [
        "\n",
        "![alt text](data:image/jpeg;base64,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)\n",
        "\n",
        "![alt text](https://encrypted-tbn0.gstatic.com/images?q=tbn%3AANd9GcR-WiigLm2AB6pCcPjko2-EdhYrtiSdgDFtYQ&usqp=CAU)"
      ]
    },
    {
      "cell_type": "markdown",
      "metadata": {
        "id": "jI3Azl9_SWVv",
        "colab_type": "text"
      },
      "source": [
        "### Overview of Chat Bot and Language Assistant"
      ]
    },
    {
      "cell_type": "markdown",
      "metadata": {
        "id": "xA3PMICISTvp",
        "colab_type": "text"
      },
      "source": [
        "![alt text](https://miro.medium.com/max/2560/1*pbuIMJNy5gqnbHBoUaRsVQ.jpeg)"
      ]
    },
    {
      "cell_type": "markdown",
      "metadata": {
        "id": "USsD3z2fPIGs",
        "colab_type": "text"
      },
      "source": [
        "## Name Entity Recognition (NER)\n",
        "* Labels sequences of words in a text which are the names of things, such as person and company names, or gene and protein names\n",
        "[References: NER](https://nlp.stanford.edu/software/CRF-NER.html)"
      ]
    },
    {
      "cell_type": "markdown",
      "metadata": {
        "id": "UGwf_pscO8HM",
        "colab_type": "text"
      },
      "source": [
        "![alt text](https://miro.medium.com/max/2972/1*7DkqpU3E-E9yknyw9c7vCQ.png)"
      ]
    },
    {
      "cell_type": "markdown",
      "metadata": {
        "id": "4j1lbK6QO1Bu",
        "colab_type": "text"
      },
      "source": [
        "## Bidirectional-LSTM-CRF model\n",
        "![alt text](https://raw.githubusercontent.com/scofield7419/sequence-labeling-BiLSTM-CRF/master/snapshot/BiLSTM_CRF.png)\n",
        "\n",
        "**Composed of:**\n",
        "* [Word Embedding](https://lilianweng.github.io/lil-log/2017/10/15/learning-word-embedding.html)\n",
        "* [Bidirection Long-Short-Term-Memory](https://machinelearningmastery.com/develop-bidirectional-lstm-sequence-classification-python-keras/)\n",
        "* [Conditional Random Field](https://people.cs.umass.edu/~mccallum/papers/crf-tutorial.pdf)\n",
        "\n",
        "[Reference: Bidirectional LSTM for Sequence Tagging](https://arxiv.org/abs/1508.01991)"
      ]
    },
    {
      "cell_type": "markdown",
      "metadata": {
        "id": "pY_fpX6gOr7Y",
        "colab_type": "text"
      },
      "source": [
        "### Import dependenceis"
      ]
    },
    {
      "cell_type": "code",
      "metadata": {
        "id": "FTWPwDKej6eu",
        "colab_type": "code",
        "colab": {}
      },
      "source": [
        "import pandas as pd\n",
        "import numpy as np\n",
        "import os\n",
        "import tensorflow as tf\n",
        "import tensorflow_addons\n",
        "from sklearn.utils import shuffle\n",
        "from tensorflow.keras.utils import Sequence, to_categorical\n",
        "from tensorflow.keras.preprocessing.sequence import pad_sequences"
      ],
      "execution_count": null,
      "outputs": []
    },
    {
      "cell_type": "code",
      "metadata": {
        "id": "xSqtHz2dowmv",
        "colab_type": "code",
        "colab": {
          "base_uri": "https://localhost:8080/",
          "height": 34
        },
        "outputId": "608676a2-d327-4171-c2ba-6865e3e05c56"
      },
      "source": [
        "tf.keras.backend.clear_session"
      ],
      "execution_count": null,
      "outputs": [
        {
          "output_type": "execute_result",
          "data": {
            "text/plain": [
              "<function tensorflow.python.keras.backend.clear_session>"
            ]
          },
          "metadata": {
            "tags": []
          },
          "execution_count": 28
        }
      ]
    },
    {
      "cell_type": "code",
      "metadata": {
        "id": "_D9Qc2CLwK3m",
        "colab_type": "code",
        "colab": {
          "base_uri": "https://localhost:8080/",
          "height": 156
        },
        "outputId": "d9e607f5-c76f-4b3c-b2fe-54963b0c8e7a"
      },
      "source": [
        "!git clone https://github.com/DSC-UTDallas/explore-ml.git -b advanced\n",
        "!mv explore-ml explore_ml\n",
        "!mv explore_ml/BiLSTM-CRF explore_ml/BiLSTM_CRF"
      ],
      "execution_count": null,
      "outputs": [
        {
          "output_type": "stream",
          "text": [
            "Cloning into 'explore-ml'...\n",
            "remote: Enumerating objects: 119, done.\u001b[K\n",
            "remote: Counting objects: 100% (119/119), done.\u001b[K\n",
            "remote: Compressing objects: 100% (96/96), done.\u001b[K\n",
            "remote: Total 391 (delta 49), reused 61 (delta 22), pack-reused 272\u001b[K\n",
            "Receiving objects: 100% (391/391), 35.90 MiB | 44.67 MiB/s, done.\n",
            "Resolving deltas: 100% (146/146), done.\n",
            "mv: cannot stat 'explore_ml/BiLSTM-CRF': No such file or directory\n"
          ],
          "name": "stdout"
        }
      ]
    },
    {
      "cell_type": "code",
      "metadata": {
        "id": "uFPPze5znmrc",
        "colab_type": "code",
        "colab": {}
      },
      "source": [
        "from explore_ml.BiLSTM_CRF.src.utils import SentenceGetter\n",
        "from explore_ml.BiLSTM_CRF.src.model import bilstm_crf, embedding_layer, CRF"
      ],
      "execution_count": null,
      "outputs": []
    },
    {
      "cell_type": "markdown",
      "metadata": {
        "id": "QfLfdbGOnXwa",
        "colab_type": "text"
      },
      "source": [
        "### Download data"
      ]
    },
    {
      "cell_type": "code",
      "metadata": {
        "id": "ONak5e42nCVh",
        "colab_type": "code",
        "colab": {
          "base_uri": "https://localhost:8080/",
          "height": 382
        },
        "outputId": "767e7d3c-ce6f-4187-9726-b7465ebadbfc"
      },
      "source": [
        "!wget https://github.com/DSC-UTDallas/explore-ml/raw/master/name-entity-recognition-corpus.zip\n",
        "!unzip name-entity-recognition-corpus.zip"
      ],
      "execution_count": null,
      "outputs": [
        {
          "output_type": "stream",
          "text": [
            "--2020-09-10 00:21:22--  https://github.com/DSC-UTDallas/explore-ml/raw/master/name-entity-recognition-corpus.zip\n",
            "Resolving github.com (github.com)... 192.30.255.113\n",
            "Connecting to github.com (github.com)|192.30.255.113|:443... connected.\n",
            "HTTP request sent, awaiting response... 302 Found\n",
            "Location: https://raw.githubusercontent.com/DSC-UTDallas/explore-ml/master/name-entity-recognition-corpus.zip [following]\n",
            "--2020-09-10 00:21:22--  https://raw.githubusercontent.com/DSC-UTDallas/explore-ml/master/name-entity-recognition-corpus.zip\n",
            "Resolving raw.githubusercontent.com (raw.githubusercontent.com)... 151.101.0.133, 151.101.64.133, 151.101.128.133, ...\n",
            "Connecting to raw.githubusercontent.com (raw.githubusercontent.com)|151.101.0.133|:443... connected.\n",
            "HTTP request sent, awaiting response... 200 OK\n",
            "Length: 27703149 (26M) [application/zip]\n",
            "Saving to: ‘name-entity-recognition-corpus.zip.1’\n",
            "\n",
            "name-entity-recogni 100%[===================>]  26.42M  54.9MB/s    in 0.5s    \n",
            "\n",
            "2020-09-10 00:21:23 (54.9 MB/s) - ‘name-entity-recognition-corpus.zip.1’ saved [27703149/27703149]\n",
            "\n",
            "Archive:  name-entity-recognition-corpus.zip\n",
            "replace ner.csv? [y]es, [n]o, [A]ll, [N]one, [r]ename: y\n",
            "  inflating: ner.csv                 \n",
            "replace ner_dataset.csv? [y]es, [n]o, [A]ll, [N]one, [r]ename: y\n",
            "  inflating: ner_dataset.csv         \n"
          ],
          "name": "stdout"
        }
      ]
    },
    {
      "cell_type": "markdown",
      "metadata": {
        "id": "P0dXUAzhj6fi",
        "colab_type": "text"
      },
      "source": [
        "### Import corpus"
      ]
    },
    {
      "cell_type": "code",
      "metadata": {
        "id": "0bHRIHgrj6fk",
        "colab_type": "code",
        "colab": {}
      },
      "source": [
        "data = pd.read_csv('ner_dataset.csv', encoding = 'latin1')\n",
        "data = data.fillna(method=\"ffill\")"
      ],
      "execution_count": null,
      "outputs": []
    },
    {
      "cell_type": "code",
      "metadata": {
        "id": "ZXCmi-p1j6fv",
        "colab_type": "code",
        "colab": {
          "base_uri": "https://localhost:8080/",
          "height": 206
        },
        "outputId": "ca7c7a39-cd23-44aa-e177-5f13ddd40ece"
      },
      "source": [
        "data.head()"
      ],
      "execution_count": null,
      "outputs": [
        {
          "output_type": "execute_result",
          "data": {
            "text/html": [
              "<div>\n",
              "<style scoped>\n",
              "    .dataframe tbody tr th:only-of-type {\n",
              "        vertical-align: middle;\n",
              "    }\n",
              "\n",
              "    .dataframe tbody tr th {\n",
              "        vertical-align: top;\n",
              "    }\n",
              "\n",
              "    .dataframe thead th {\n",
              "        text-align: right;\n",
              "    }\n",
              "</style>\n",
              "<table border=\"1\" class=\"dataframe\">\n",
              "  <thead>\n",
              "    <tr style=\"text-align: right;\">\n",
              "      <th></th>\n",
              "      <th>Sentence #</th>\n",
              "      <th>Word</th>\n",
              "      <th>POS</th>\n",
              "      <th>Tag</th>\n",
              "    </tr>\n",
              "  </thead>\n",
              "  <tbody>\n",
              "    <tr>\n",
              "      <th>0</th>\n",
              "      <td>Sentence: 1</td>\n",
              "      <td>Thousands</td>\n",
              "      <td>NNS</td>\n",
              "      <td>O</td>\n",
              "    </tr>\n",
              "    <tr>\n",
              "      <th>1</th>\n",
              "      <td>Sentence: 1</td>\n",
              "      <td>of</td>\n",
              "      <td>IN</td>\n",
              "      <td>O</td>\n",
              "    </tr>\n",
              "    <tr>\n",
              "      <th>2</th>\n",
              "      <td>Sentence: 1</td>\n",
              "      <td>demonstrators</td>\n",
              "      <td>NNS</td>\n",
              "      <td>O</td>\n",
              "    </tr>\n",
              "    <tr>\n",
              "      <th>3</th>\n",
              "      <td>Sentence: 1</td>\n",
              "      <td>have</td>\n",
              "      <td>VBP</td>\n",
              "      <td>O</td>\n",
              "    </tr>\n",
              "    <tr>\n",
              "      <th>4</th>\n",
              "      <td>Sentence: 1</td>\n",
              "      <td>marched</td>\n",
              "      <td>VBN</td>\n",
              "      <td>O</td>\n",
              "    </tr>\n",
              "  </tbody>\n",
              "</table>\n",
              "</div>"
            ],
            "text/plain": [
              "    Sentence #           Word  POS Tag\n",
              "0  Sentence: 1      Thousands  NNS   O\n",
              "1  Sentence: 1             of   IN   O\n",
              "2  Sentence: 1  demonstrators  NNS   O\n",
              "3  Sentence: 1           have  VBP   O\n",
              "4  Sentence: 1        marched  VBN   O"
            ]
          },
          "metadata": {
            "tags": []
          },
          "execution_count": 33
        }
      ]
    },
    {
      "cell_type": "markdown",
      "metadata": {
        "id": "AgOyuf-kj6f7",
        "colab_type": "text"
      },
      "source": [
        "#### Build Dictionary of Words and Tags"
      ]
    },
    {
      "cell_type": "markdown",
      "metadata": {
        "id": "YzP0m5zj4Rh1",
        "colab_type": "text"
      },
      "source": [
        "###### Build list of distinct words"
      ]
    },
    {
      "cell_type": "code",
      "metadata": {
        "id": "9jVoFMlmj6f9",
        "colab_type": "code",
        "colab": {
          "base_uri": "https://localhost:8080/",
          "height": 34
        },
        "outputId": "beb6ea89-e302-4199-98ae-4cee7001b441"
      },
      "source": [
        "# build list of distinct words\n",
        "words = list(set(data[\"Word\"].values))\n",
        "words.append(\"ENDPAD\")\n",
        "n_words = len(words); n_words "
      ],
      "execution_count": null,
      "outputs": [
        {
          "output_type": "execute_result",
          "data": {
            "text/plain": [
              "35179"
            ]
          },
          "metadata": {
            "tags": []
          },
          "execution_count": 35
        }
      ]
    },
    {
      "cell_type": "markdown",
      "metadata": {
        "id": "Bb2YUWv14VlY",
        "colab_type": "text"
      },
      "source": [
        "###### Build list of distinct tags"
      ]
    },
    {
      "cell_type": "code",
      "metadata": {
        "id": "AQ4cDFNcj6gH",
        "colab_type": "code",
        "colab": {
          "base_uri": "https://localhost:8080/",
          "height": 34
        },
        "outputId": "f135b6c8-34e4-4b40-8e1a-85e1d9302e89"
      },
      "source": [
        "# build list of distinct tags\n",
        "tags = list(set(data[\"Tag\"].values))\n",
        "n_tags = len(tags);\n",
        "print(\"Tags: \", tags)"
      ],
      "execution_count": null,
      "outputs": [
        {
          "output_type": "stream",
          "text": [
            "Tags:  ['B-geo', 'I-geo', 'B-org', 'I-org', 'I-eve', 'B-art', 'I-tim', 'B-nat', 'I-art', 'I-per', 'I-nat', 'B-per', 'I-gpe', 'B-tim', 'O', 'B-eve', 'B-gpe']\n"
          ],
          "name": "stdout"
        }
      ]
    },
    {
      "cell_type": "markdown",
      "metadata": {
        "id": "sU4Ez8AO4YZQ",
        "colab_type": "text"
      },
      "source": [
        "###### Build dictionary of words and tags"
      ]
    },
    {
      "cell_type": "code",
      "metadata": {
        "id": "4HtwDFtcj6gQ",
        "colab_type": "code",
        "colab": {}
      },
      "source": [
        "# build dictionary of words and tags\n",
        "max_len = 75\n",
        "word2dix = {w : i + 1 for i, w in enumerate(words)}\n",
        "tag2dix = {t : i for i, t in enumerate(tags)}"
      ],
      "execution_count": null,
      "outputs": []
    },
    {
      "cell_type": "code",
      "metadata": {
        "id": "A0uOa7s0j6gY",
        "colab_type": "code",
        "colab": {
          "base_uri": "https://localhost:8080/",
          "height": 34
        },
        "outputId": "04036456-efdc-4937-c5c6-767d87009faf"
      },
      "source": [
        "word2dix['Obama']"
      ],
      "execution_count": null,
      "outputs": [
        {
          "output_type": "execute_result",
          "data": {
            "text/plain": [
              "20566"
            ]
          },
          "metadata": {
            "tags": []
          },
          "execution_count": 11
        }
      ]
    },
    {
      "cell_type": "code",
      "metadata": {
        "id": "OYKx-9Thj6gh",
        "colab_type": "code",
        "colab": {
          "base_uri": "https://localhost:8080/",
          "height": 34
        },
        "outputId": "78a6b90a-e463-45ca-a721-e1e7700b2d18"
      },
      "source": [
        "tag2dix['O']"
      ],
      "execution_count": null,
      "outputs": [
        {
          "output_type": "execute_result",
          "data": {
            "text/plain": [
              "14"
            ]
          },
          "metadata": {
            "tags": []
          },
          "execution_count": 12
        }
      ]
    },
    {
      "cell_type": "markdown",
      "metadata": {
        "id": "jhgqNwUbj6gq",
        "colab_type": "text"
      },
      "source": [
        "### Generate Sentence Getter"
      ]
    },
    {
      "cell_type": "code",
      "metadata": {
        "id": "xu_7uJI7j6gs",
        "colab_type": "code",
        "colab": {}
      },
      "source": [
        "batch_size = 32\n",
        "getter = SentenceGetter(data = data, words = words, tags = tags, maxlen = max_len, batch_size = batch_size)"
      ],
      "execution_count": null,
      "outputs": []
    },
    {
      "cell_type": "code",
      "metadata": {
        "id": "B6h4SbeWj6g0",
        "colab_type": "code",
        "colab": {
          "base_uri": "https://localhost:8080/",
          "height": 434
        },
        "outputId": "baa9d567-b1e3-4eb4-ad37-ad2c17a0103e"
      },
      "source": [
        "sentences = getter.sentences\n",
        "sentences[0]"
      ],
      "execution_count": null,
      "outputs": [
        {
          "output_type": "execute_result",
          "data": {
            "text/plain": [
              "[('Thousands', 'NNS', 'O'),\n",
              " ('of', 'IN', 'O'),\n",
              " ('demonstrators', 'NNS', 'O'),\n",
              " ('have', 'VBP', 'O'),\n",
              " ('marched', 'VBN', 'O'),\n",
              " ('through', 'IN', 'O'),\n",
              " ('London', 'NNP', 'B-geo'),\n",
              " ('to', 'TO', 'O'),\n",
              " ('protest', 'VB', 'O'),\n",
              " ('the', 'DT', 'O'),\n",
              " ('war', 'NN', 'O'),\n",
              " ('in', 'IN', 'O'),\n",
              " ('Iraq', 'NNP', 'B-geo'),\n",
              " ('and', 'CC', 'O'),\n",
              " ('demand', 'VB', 'O'),\n",
              " ('the', 'DT', 'O'),\n",
              " ('withdrawal', 'NN', 'O'),\n",
              " ('of', 'IN', 'O'),\n",
              " ('British', 'JJ', 'B-gpe'),\n",
              " ('troops', 'NNS', 'O'),\n",
              " ('from', 'IN', 'O'),\n",
              " ('that', 'DT', 'O'),\n",
              " ('country', 'NN', 'O'),\n",
              " ('.', '.', 'O')]"
            ]
          },
          "metadata": {
            "tags": []
          },
          "execution_count": 36
        }
      ]
    },
    {
      "cell_type": "markdown",
      "metadata": {
        "id": "w4sIsft7j6g-",
        "colab_type": "text"
      },
      "source": [
        "##### Tokenize and pad sentences"
      ]
    },
    {
      "cell_type": "code",
      "metadata": {
        "id": "snED-JKmj6hG",
        "colab_type": "code",
        "colab": {}
      },
      "source": [
        "# tokenize : split a sentence into words\n",
        "# pad_sequences : pad all sentences with trivial values in order to ensure size-consistency of samples in a batch\n",
        "from tensorflow.keras.preprocessing.sequence import pad_sequences\n",
        "X = [[word2dix[w[0]] for w in s] for s in sentences]\n",
        "X = pad_sequences(maxlen = max_len, sequences = X, padding = 'post', value = 0)"
      ],
      "execution_count": null,
      "outputs": []
    },
    {
      "cell_type": "code",
      "metadata": {
        "id": "r45lHffEj6hX",
        "colab_type": "code",
        "colab": {
          "base_uri": "https://localhost:8080/",
          "height": 173
        },
        "outputId": "c0ffdd3f-d5c7-4da2-a2a9-9c731a1e622b"
      },
      "source": [
        "print(\"Pad size: \", X[0].shape)\n",
        "print(\"Numerated sequences\\n\", X[0])"
      ],
      "execution_count": null,
      "outputs": [
        {
          "output_type": "stream",
          "text": [
            "Pad size:  (75,)\n",
            "Numerated sequences\n",
            " [35040 17481 13000 23516 17060 13383 16827  8634 31378 29419  5473  6611\n",
            "  1206  7752 31117 29419 18132 17481 34715   376 19760 25629 19325 10076\n",
            "     0     0     0     0     0     0     0     0     0     0     0     0\n",
            "     0     0     0     0     0     0     0     0     0     0     0     0\n",
            "     0     0     0     0     0     0     0     0     0     0     0     0\n",
            "     0     0     0     0     0     0     0     0     0     0     0     0\n",
            "     0     0     0]\n"
          ],
          "name": "stdout"
        }
      ]
    },
    {
      "cell_type": "code",
      "metadata": {
        "id": "PzwOHOdLj6hf",
        "colab_type": "code",
        "colab": {}
      },
      "source": [
        "y = [[tag2dix[w[2]] for w in s] for s in sentences]\n",
        "y = pad_sequences(maxlen=max_len, sequences=y, padding=\"post\", value=tag2dix[\"O\"])"
      ],
      "execution_count": null,
      "outputs": []
    },
    {
      "cell_type": "code",
      "metadata": {
        "id": "tvYkYNw3j6hk",
        "colab_type": "code",
        "colab": {
          "base_uri": "https://localhost:8080/",
          "height": 121
        },
        "outputId": "32d5cff1-1969-4d03-fa74-7d1c87597662"
      },
      "source": [
        "print(\"Tags: \", tags)\n",
        "print(\"Numerated tags of a sequence\\n\", y[0])"
      ],
      "execution_count": null,
      "outputs": [
        {
          "output_type": "stream",
          "text": [
            "Tags:  ['B-geo', 'I-geo', 'B-org', 'I-org', 'I-eve', 'B-art', 'I-tim', 'B-nat', 'I-art', 'I-per', 'I-nat', 'B-per', 'I-gpe', 'B-tim', 'O', 'B-eve', 'B-gpe']\n",
            "Numerated tags of a sequence\n",
            " [14 14 14 14 14 14  0 14 14 14 14 14  0 14 14 14 14 14 16 14 14 14 14 14\n",
            " 14 14 14 14 14 14 14 14 14 14 14 14 14 14 14 14 14 14 14 14 14 14 14 14\n",
            " 14 14 14 14 14 14 14 14 14 14 14 14 14 14 14 14 14 14 14 14 14 14 14 14\n",
            " 14 14 14]\n"
          ],
          "name": "stdout"
        }
      ]
    },
    {
      "cell_type": "markdown",
      "metadata": {
        "id": "asG9UdIwj6hs",
        "colab_type": "text"
      },
      "source": [
        "### Build BiLSTM-CRF model"
      ]
    },
    {
      "cell_type": "code",
      "metadata": {
        "id": "UX2-gCmp1aDX",
        "colab_type": "code",
        "colab": {
          "base_uri": "https://localhost:8080/",
          "height": 123
        },
        "outputId": "96f628a2-74ff-42ba-ba12-c850f252e83c"
      },
      "source": [
        "\"\"\"\n",
        "from tensorflow.keras.layers import Input, Bidirectional, LSTM, TimeDistributed, Dense\n",
        "from tensorflow.keras import Model\n",
        "def bilstm_crf(maxlen, n_tags, embedding_dim, n_words, mask_zero, training = True):\n",
        "    '''\n",
        "    bilstm_crf - module to build BiLSTM-CRF model\n",
        "    Inputs:\n",
        "        - input_shape : tuple\n",
        "            Tensor shape of inputs, excluding batch size\n",
        "    Outputs:\n",
        "        - output : tensorflow.keras.outputs.output\n",
        "            BiLSTM-CRF output\n",
        "    '''\n",
        "    input = Input(shape = (maxlen,))\n",
        "    # Embedding layer\n",
        "    embeddings = embedding_layer(input_dim = n_words + 1, output_dim = embedding_dim, input_length = maxlen, mask_zero = mask_zero)\n",
        "    output = embeddings(input)\n",
        "\n",
        "    # BiLSTM layer\n",
        "    output = Bidirectional(LSTM(units = 50, return_sequences = True, recurrent_dropout = 0.1))(output)\n",
        "\n",
        "    # CRF layer\n",
        "    output = TimeDistributed(Dense(n_tags, activation = 'relu'))(output)\n",
        "    output = CRF(n_tags, name = 'crf_layer')(output)\n",
        "    return Model(input, output)\n",
        "\"\"\""
      ],
      "execution_count": null,
      "outputs": [
        {
          "output_type": "execute_result",
          "data": {
            "application/vnd.google.colaboratory.intrinsic+json": {
              "type": "string"
            },
            "text/plain": [
              "\"\\nfrom tensorflow.keras.layers import Input, Bidirectional, LSTM, TimeDistributed, Dense\\nfrom tensorflow.keras import Model\\ndef bilstm_crf(maxlen, n_tags, embedding_dim, n_words, mask_zero, training = True):\\n    '''\\n    bilstm_crf - module to build BiLSTM-CRF model\\n    Inputs:\\n        - input_shape : tuple\\n            Tensor shape of inputs, excluding batch size\\n    Outputs:\\n        - output : tensorflow.keras.outputs.output\\n            BiLSTM-CRF output\\n    '''\\n    input = Input(shape = (maxlen,))\\n    # Embedding layer\\n    embeddings = embedding_layer(input_dim = n_words + 1, output_dim = embedding_dim, input_length = maxlen, mask_zero = mask_zero)\\n    output = embeddings(input)\\n\\n    # BiLSTM layer\\n    output = Bidirectional(LSTM(units = 50, return_sequences = True, recurrent_dropout = 0.1))(output)\\n\\n    # Dense layer\\n    output = TimeDistributed(Dense(n_tags, activation = 'relu'))(output)\\n    \\n    output = CRF(n_tags, name = 'crf_layer')(output)\\n    return Model(input, output)\\n\""
            ]
          },
          "metadata": {
            "tags": []
          },
          "execution_count": 20
        }
      ]
    },
    {
      "cell_type": "code",
      "metadata": {
        "id": "oid0TQNPj6h0",
        "colab_type": "code",
        "colab": {
          "base_uri": "https://localhost:8080/",
          "height": 382
        },
        "outputId": "a772a1f3-e78e-4fb2-f660-d3d52fd9e034"
      },
      "source": [
        "model = bilstm_crf(maxlen = max_len, n_tags = n_tags, embedding_dim = 20, n_words = n_words, mask_zero = True)\n",
        "model.summary()"
      ],
      "execution_count": null,
      "outputs": [
        {
          "output_type": "stream",
          "text": [
            "WARNING:tensorflow:Layer lstm_1 will not use cuDNN kernel since it doesn't meet the cuDNN kernel criteria. It will use generic GPU kernel as fallback when running on GPU\n",
            "WARNING:tensorflow:Layer lstm_1 will not use cuDNN kernel since it doesn't meet the cuDNN kernel criteria. It will use generic GPU kernel as fallback when running on GPU\n",
            "WARNING:tensorflow:Layer lstm_1 will not use cuDNN kernel since it doesn't meet the cuDNN kernel criteria. It will use generic GPU kernel as fallback when running on GPU\n",
            "Model: \"functional_3\"\n",
            "_________________________________________________________________\n",
            "Layer (type)                 Output Shape              Param #   \n",
            "=================================================================\n",
            "input_2 (InputLayer)         [(None, 75)]              0         \n",
            "_________________________________________________________________\n",
            "embedding_1 (Embedding)      (None, 75, 20)            703600    \n",
            "_________________________________________________________________\n",
            "bidirectional_1 (Bidirection (None, 75, 100)           28400     \n",
            "_________________________________________________________________\n",
            "time_distributed_1 (TimeDist (None, 75, 17)            1717      \n",
            "_________________________________________________________________\n",
            "crf_layer (CRF)              (None, 75, 17)            289       \n",
            "=================================================================\n",
            "Total params: 734,006\n",
            "Trainable params: 734,006\n",
            "Non-trainable params: 0\n",
            "_________________________________________________________________\n"
          ],
          "name": "stdout"
        }
      ]
    },
    {
      "cell_type": "markdown",
      "metadata": {
        "id": "Q_uT6UlioJJK",
        "colab_type": "text"
      },
      "source": [
        "#### Configure and train model"
      ]
    },
    {
      "cell_type": "markdown",
      "metadata": {
        "id": "OLSf8L0hu1d0",
        "colab_type": "text"
      },
      "source": [
        "#### Configure hyperparameters: Learning Rate, CRF_Loss, Viberti Accuracy"
      ]
    },
    {
      "cell_type": "code",
      "metadata": {
        "id": "OsLE42mmj6h8",
        "colab_type": "code",
        "colab": {}
      },
      "source": [
        "from tensorflow.keras.optimizers import Adam\n",
        "model.compile(optimizer = Adam(learning_rate = 0.01), loss = model.layers[-1].loss, metrics = model.layers[-1].accuracy)"
      ],
      "execution_count": null,
      "outputs": []
    },
    {
      "cell_type": "markdown",
      "metadata": {
        "id": "HSDLnRN9u_jM",
        "colab_type": "text"
      },
      "source": [
        "#### Configure Logging, Checkpoint, Reduce_LR, Early_Stopping"
      ]
    },
    {
      "cell_type": "code",
      "metadata": {
        "id": "d-3kUKtnvIjI",
        "colab_type": "code",
        "colab": {
          "base_uri": "https://localhost:8080/",
          "height": 34
        },
        "outputId": "7e4fcc3c-6c58-4dc2-be21-088731102846"
      },
      "source": [
        "from tensorflow.keras.callbacks import TensorBoard, ModelCheckpoint, ReduceLROnPlateau, EarlyStopping\n",
        "logging = TensorBoard(log_dir = './logs/' + 'version_1')\n",
        "checkpoint = ModelCheckpoint('logs' + '/v1/ep{epoch:03d}-oss{loss:.3f}.h5', monitor = 'loss', save_weights_only = True, save_best_only = True, period = 3)\n",
        "reduce_lr = ReduceLROnPlateau(monitor = 'loss', factor = 0.1, patience = 5, verbose = 1)\n",
        "early_stopping = EarlyStopping(monitor = 'loss', min_delta = 0, patience = 10, verbose = 1)"
      ],
      "execution_count": null,
      "outputs": [
        {
          "output_type": "stream",
          "text": [
            "WARNING:tensorflow:`period` argument is deprecated. Please use `save_freq` to specify the frequency in number of batches seen.\n"
          ],
          "name": "stdout"
        }
      ]
    },
    {
      "cell_type": "markdown",
      "metadata": {
        "id": "eI42QdIKvJuL",
        "colab_type": "text"
      },
      "source": [
        "#### Train model"
      ]
    },
    {
      "cell_type": "code",
      "metadata": {
        "id": "9IjQTAv3j6iF",
        "colab_type": "code",
        "colab": {
          "base_uri": "https://localhost:8080/",
          "height": 106
        },
        "outputId": "2df96539-5f5f-49b8-8a55-8fae38d2f3a9"
      },
      "source": [
        "steps_per_epoch = getter.__len__() / 4\n",
        "model.fit(getter, epochs = 1, initial_epoch = 0, steps_per_epoch=steps_per_epoch, callbacks = [logging, checkpoint, reduce_lr], verbose = 1, shuffle = True)"
      ],
      "execution_count": null,
      "outputs": [
        {
          "output_type": "stream",
          "text": [
            "WARNING:tensorflow:Model failed to serialize as JSON. Ignoring... Layer CRF has arguments in `__init__` and therefore must override `get_config`.\n",
            "  2/374 [..............................] - ETA: 15:36 - loss: 62.1841 - viterbi_accuracy: 0.0288WARNING:tensorflow:Callbacks method `on_train_batch_end` is slow compared to the batch time (batch time: 1.2531s vs `on_train_batch_end` time: 3.7743s). Check your callbacks.\n",
            "375/374 [==============================] - 323s 861ms/step - loss: 10.3008 - viterbi_accuracy: 0.9372\n"
          ],
          "name": "stdout"
        },
        {
          "output_type": "execute_result",
          "data": {
            "text/plain": [
              "<tensorflow.python.keras.callbacks.History at 0x7fe90031f048>"
            ]
          },
          "metadata": {
            "tags": []
          },
          "execution_count": 42
        }
      ]
    },
    {
      "cell_type": "markdown",
      "metadata": {
        "id": "vuitwdo_vOqV",
        "colab_type": "text"
      },
      "source": [
        "### Save mode for Fine-Tunning and Deployment"
      ]
    },
    {
      "cell_type": "code",
      "metadata": {
        "id": "sVCVDs7Kj6iL",
        "colab_type": "code",
        "colab": {
          "base_uri": "https://localhost:8080/",
          "height": 159
        },
        "outputId": "4ec31a35-e985-4a79-f61d-b4e416ac5483"
      },
      "source": [
        "# save weights\n",
        "model.save_weights('saved_model/bilstm_crf_weights/sequence_tagger')\n",
        "# save model for deployment\n",
        "model.save('saved_model/bilstm_crf_model')"
      ],
      "execution_count": null,
      "outputs": [
        {
          "output_type": "stream",
          "text": [
            "WARNING:tensorflow:From /usr/local/lib/python3.6/dist-packages/tensorflow/python/training/tracking/tracking.py:111: Model.state_updates (from tensorflow.python.keras.engine.training) is deprecated and will be removed in a future version.\n",
            "Instructions for updating:\n",
            "This property should not be used in TensorFlow 2.0, as updates are applied automatically.\n",
            "WARNING:tensorflow:From /usr/local/lib/python3.6/dist-packages/tensorflow/python/training/tracking/tracking.py:111: Layer.updates (from tensorflow.python.keras.engine.base_layer) is deprecated and will be removed in a future version.\n",
            "Instructions for updating:\n",
            "This property should not be used in TensorFlow 2.0, as updates are applied automatically.\n",
            "INFO:tensorflow:Assets written to: saved_model/bilstm_crf_model/assets\n"
          ],
          "name": "stdout"
        }
      ]
    },
    {
      "cell_type": "markdown",
      "metadata": {
        "id": "_2IcYKTJ2GuM",
        "colab_type": "text"
      },
      "source": [
        "### In-depth Details of Bi-LSTM-CRF"
      ]
    },
    {
      "cell_type": "markdown",
      "metadata": {
        "id": "tjWuE_zP2SEn",
        "colab_type": "text"
      },
      "source": [
        "#### Word Embedding"
      ]
    },
    {
      "cell_type": "markdown",
      "metadata": {
        "id": "My6-VZ_L3njC",
        "colab_type": "text"
      },
      "source": [
        "##### Past method for Text Representation: One-Hot Encoding\n",
        "![alt text](https://hackernoon.com/images/yop32ir.jpg)"
      ]
    },
    {
      "cell_type": "code",
      "metadata": {
        "id": "Fom-89sT38qe",
        "colab_type": "code",
        "colab": {
          "base_uri": "https://localhost:8080/",
          "height": 173
        },
        "outputId": "982bcaf6-3b27-4e0f-9061-25417ec4b1ed"
      },
      "source": [
        "# One-Hot Encoding for \"I want to join DSC\"\n",
        "example = ['I', 'want', 'to', 'join', 'DSC']\n",
        "\n",
        "# word2dix encoding\n",
        "for i in range(len(example)):\n",
        "  if example[i] in word2dix.keys():\n",
        "    example[i] = word2dix[example[i]]\n",
        "  else:\n",
        "    example[i] = -1\n",
        "\n",
        "print(\"word2dix encoding\", example)\n",
        "\n",
        "# convert to one-hots\n",
        "processed = []\n",
        "for token in example:\n",
        "  x = [0] * len(word2dix)\n",
        "  if token > 0:\n",
        "    x[token] = 1\n",
        "  processed.append(x)\n",
        "\n",
        "processed = np.array(processed)\n",
        "print('One-hot-encoded sequence', processed, \"and its shape\", processed.shape)\n",
        "\n",
        "print(\"Problem:\\n * Big matrix -> Large computations \\n * Sparse matrix -> effect to model performance\")"
      ],
      "execution_count": null,
      "outputs": [
        {
          "output_type": "stream",
          "text": [
            "word2dix encoding [11331, 25555, 8634, 3098, -1]\n",
            "One-hot-encoded sequence [[0 0 0 ... 0 0 0]\n",
            " [0 0 0 ... 0 0 0]\n",
            " [0 0 0 ... 0 0 0]\n",
            " [0 0 0 ... 0 0 0]\n",
            " [0 0 0 ... 0 0 0]] and its shape (5, 35179)\n",
            "Problem:\n",
            " * Big matrix -> Large computations \n",
            " * Sparse matrix -> effect to model performance\n"
          ],
          "name": "stdout"
        }
      ]
    },
    {
      "cell_type": "markdown",
      "metadata": {
        "id": "pCH4lpnq7PRP",
        "colab_type": "text"
      },
      "source": [
        "##### Current Text Representation: Word Embedding\n",
        "![alt text](https://journals.plos.org/plosone/article/figure/image?download&size=large&id=info:doi/10.1371/journal.pone.0231189.g008)"
      ]
    },
    {
      "cell_type": "code",
      "metadata": {
        "id": "yq5vQn-c8F-m",
        "colab_type": "code",
        "colab": {
          "base_uri": "https://localhost:8080/",
          "height": 121
        },
        "outputId": "88b2892e-840b-43d4-a58d-f3c0924943c1"
      },
      "source": [
        "# embeddings\n",
        "embedding_size = 4\n",
        "embeddings = np.array([np.array([np.random.rand() for _ in range(embedding_size)]) for _ in range(processed.shape[0])])\n",
        "print(\"Word embeddings\\n\", embeddings, \"and its shape\", embeddings.shape)"
      ],
      "execution_count": null,
      "outputs": [
        {
          "output_type": "stream",
          "text": [
            "Word embeddings\n",
            " [[0.6782384  0.41156225 0.61491966 0.95841285]\n",
            " [0.57615846 0.4623422  0.43293438 0.5905533 ]\n",
            " [0.74720272 0.08532538 0.43009563 0.94390402]\n",
            " [0.80759978 0.5544003  0.37381653 0.27397512]\n",
            " [0.33949399 0.56357281 0.22235352 0.35397393]] and its shape (5, 4)\n"
          ],
          "name": "stdout"
        }
      ]
    },
    {
      "cell_type": "markdown",
      "metadata": {
        "id": "Nkk3DkvX2UjX",
        "colab_type": "text"
      },
      "source": [
        "#### Bidirectional Long-Short-Term-Memory\n"
      ]
    },
    {
      "cell_type": "markdown",
      "metadata": {
        "id": "05TkOs6NA_Yh",
        "colab_type": "text"
      },
      "source": [
        "![alt text](https://miro.medium.com/max/913/1*B5NHtY8_Y4we0DE4Y-acBA.png)\n",
        "\n",
        "**Keys:**\n",
        "* Model runs through sentence forward Past-to-Future and backward Future-to-Past. This extracts more text context that the model can learn both the past and future features.\n",
        "\n",
        "![alt text](https://miro.medium.com/max/794/1*wODEqmbZyAPH4lihCgpjdQ.gif)"
      ]
    },
    {
      "cell_type": "markdown",
      "metadata": {
        "id": "yiENyAD4BBSP",
        "colab_type": "text"
      },
      "source": [
        "\n",
        "![alt text](https://miro.medium.com/max/913/1*hOESDAR5XsIGtdUk13rcmg.jpeg)\n",
        "**LSTM**:\n",
        "* Forget Gate: decide which info of the past info to be forgotten\n",
        "* Update Gate: update info on the past and previous info\n",
        "* Output Gate: make predictions"
      ]
    },
    {
      "cell_type": "markdown",
      "metadata": {
        "id": "hdb88-SQ2YUs",
        "colab_type": "text"
      },
      "source": [
        "#### Conditional Random Field"
      ]
    },
    {
      "cell_type": "markdown",
      "metadata": {
        "id": "J7wTfLUKBq3j",
        "colab_type": "text"
      },
      "source": [
        "![alt text](https://miro.medium.com/max/681/1*8hOWH7YF5INMF2OPhKjVxA.png)\n",
        "\n",
        "![alt text](https://miro.medium.com/max/8048/1*IPU1I5R9n22Ogq-NhnsOdA.jpeg)"
      ]
    },
    {
      "cell_type": "markdown",
      "metadata": {
        "id": "qCiIO_LHDo3F",
        "colab_type": "text"
      },
      "source": [
        "CFR is the combination of **Linear-Chain CRF** and **Viberti Algorithm** (named after Dr. Viberti, founder of Viberti Engineering School of USC).\n",
        "* **Linear-Chain CRF** is a Statistical algorithm that consider dependent relationships. This means that each word is determined by **the current inpt and the past info/words** by matrix multiplication.\n",
        "* **Viberti Algorithm** is a Dynamic Programming to accelerate the **Linear-Chain CRF**\n",
        "\n",
        "![alt text](https://lh3.googleusercontent.com/proxy/zwcIWtWzdpgMCkmuRw3QRDMgc_Vout-RzyL2LJB3cqfQE1a1VYJ9JcaAhL_eJgMQPD5Ujtj1oKs8-voLZi57REG9HYeNOZlfUc9P1SuvRARCJuikK68OYcpTQn93v1rUo6o1KQ)"
      ]
    },
    {
      "cell_type": "markdown",
      "metadata": {
        "id": "UC4r6mL2Tjxy",
        "colab_type": "text"
      },
      "source": [
        "### Make predictions"
      ]
    },
    {
      "cell_type": "code",
      "metadata": {
        "id": "W2RyYVdGTuQg",
        "colab_type": "code",
        "colab": {}
      },
      "source": [
        ""
      ],
      "execution_count": null,
      "outputs": []
    },
    {
      "cell_type": "markdown",
      "metadata": {
        "id": "qeXkBoKyE3Qq",
        "colab_type": "text"
      },
      "source": [
        "## Deploy on AWS SageMaker"
      ]
    },
    {
      "cell_type": "code",
      "metadata": {
        "id": "i-Wumeb7FdaL",
        "colab_type": "code",
        "colab": {
          "base_uri": "https://localhost:8080/",
          "height": 52
        },
        "outputId": "2fdafd90-9c98-4de0-f6f3-e3da770b459f"
      },
      "source": [
        "loaded = tf.saved_model.load('saved_model/bilstm_crf_model')\n",
        "print(\"Signature Keys\", list(loaded.signatures.keys()))\n",
        "infer = loaded.signatures[\"serving_default\"]\n",
        "print(\"Outputs\", infer.structured_outputs)"
      ],
      "execution_count": null,
      "outputs": [
        {
          "output_type": "stream",
          "text": [
            "Signature Keys ['serving_default']\n",
            "Outputs {'crf_layer': TensorSpec(shape=(None, 75, 17), dtype=tf.float32, name='crf_layer')}\n"
          ],
          "name": "stdout"
        }
      ]
    },
    {
      "cell_type": "markdown",
      "metadata": {
        "id": "Mh9cbFVe3Lxg",
        "colab_type": "text"
      },
      "source": [
        "## References:\n",
        "Please look at repo: https://github.com/DSC-UTDallas/explore-ml/tree/advanced"
      ]
    }
  ]
}