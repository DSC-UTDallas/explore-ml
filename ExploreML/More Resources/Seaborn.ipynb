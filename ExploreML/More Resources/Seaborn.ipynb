{
  "nbformat": 4,
  "nbformat_minor": 0,
  "metadata": {
    "colab": {
      "name": "Seaborn.ipynb",
      "provenance": [],
      "collapsed_sections": []
    },
    "kernelspec": {
      "name": "python3",
      "display_name": "Python 3"
    }
  },
  "cells": [
    {
      "cell_type": "markdown",
      "metadata": {
        "id": "mmzA92nUHHIj",
        "colab_type": "text"
      },
      "source": [
        "# Statistical Data Visualization With Seaborn\n",
        "The Python visualization library Seaborn is based on matplotlib (another plotting library) and provides a high-level interface for drawing attractive statistical graphics."
      ]
    },
    {
      "cell_type": "markdown",
      "metadata": {
        "id": "4YEjXr-4Ilex",
        "colab_type": "text"
      },
      "source": [
        "## Step 1: Importing Libraries and Preparing Data\n",
        "\n",
        "You can use local data or data from other libraries. Seaborn also offers built-in data sets:"
      ]
    },
    {
      "cell_type": "code",
      "metadata": {
        "id": "bDumjMHcIoHI",
        "colab_type": "code",
        "colab": {}
      },
      "source": [
        "import seaborn as sns\n",
        "df = sns.load_dataset(\"iris\")\n",
        "df"
      ],
      "execution_count": null,
      "outputs": []
    },
    {
      "cell_type": "markdown",
      "metadata": {
        "id": "7Vb6tAKIJQVf",
        "colab_type": "text"
      },
      "source": [
        "## Step 2:  Control Figure Aesthetics (Optional)\n",
        "\n",
        "Context, style, palette and font can be set up in one step or individually\n",
        "\n",
        "\n"
      ]
    },
    {
      "cell_type": "code",
      "metadata": {
        "id": "Wng8H9wBJo7M",
        "colab_type": "code",
        "colab": {}
      },
      "source": [
        "sns.set(context='notebook', style='darkgrid', palette='deep', font='sans-serif', font_scale=1, color_codes=True, rc=None)\n",
        "sns.set_style(\"darkgrid\")\n",
        "sns.set_context(\"notebook\")"
      ],
      "execution_count": null,
      "outputs": []
    },
    {
      "cell_type": "markdown",
      "metadata": {
        "id": "M4xA9E0AQHQr",
        "colab_type": "text"
      },
      "source": [
        "## Step 3: Plotting With Seaborn\n"
      ]
    },
    {
      "cell_type": "markdown",
      "metadata": {
        "id": "zH9u2ZqsgnhH",
        "colab_type": "text"
      },
      "source": [
        "### Correlation Matrix\n",
        "\n",
        "Correlation matrices proivde a visual representation of the relativity of all parameters to each other."
      ]
    },
    {
      "cell_type": "code",
      "metadata": {
        "id": "23jr5FIzrTHm",
        "colab_type": "code",
        "colab": {}
      },
      "source": [
        "corr = df.corr()\n",
        "sns.heatmap(corr, xticklabels=corr.columns, yticklabels=corr.columns)"
      ],
      "execution_count": null,
      "outputs": []
    },
    {
      "cell_type": "markdown",
      "metadata": {
        "id": "JNdRf4W-J6xq",
        "colab_type": "text"
      },
      "source": [
        "### Distribution Plot\n",
        "\n",
        "The code below plots the petal length column of the data frame. The parameter `kde=True` plots the curve on top of the distribution. The parameter `rug=True` makes tick marks for observations across the bottom of the chart."
      ]
    },
    {
      "cell_type": "code",
      "metadata": {
        "id": "zCHErh8BrUeP",
        "colab_type": "code",
        "colab": {}
      },
      "source": [
        "sns.distplot(df['petal_length'], kde=True, rug=True)"
      ],
      "execution_count": null,
      "outputs": []
    },
    {
      "cell_type": "markdown",
      "metadata": {
        "id": "AXaEXiZvMYdA",
        "colab_type": "text"
      },
      "source": [
        "### Relational Plot\n",
        "\n",
        "Plotting quantitative arrays on the x and y axes shows the relationship between the two variables. In the code below, the species is altered according to both, the petal length and width"
      ]
    },
    {
      "cell_type": "code",
      "metadata": {
        "id": "Be3v4m7XrVZ9",
        "colab_type": "code",
        "colab": {}
      },
      "source": [
        "sns.relplot(x='petal_length', y='petal_width', data=df, hue=df.species)"
      ],
      "execution_count": null,
      "outputs": []
    },
    {
      "cell_type": "markdown",
      "metadata": {
        "id": "YlA5o5RwizhE",
        "colab_type": "text"
      },
      "source": [
        "### Box Plot\n",
        "\n",
        "The boxes symbolize the lower quartiles to upper quartile ranges. The horizontal line inside the boxes symbolize the median. The vertical line outside the boxes symbolize the range of data."
      ]
    },
    {
      "cell_type": "code",
      "metadata": {
        "id": "IhSjEWZHrWfQ",
        "colab_type": "code",
        "colab": {}
      },
      "source": [
        "sns.boxplot(x=\"species\", y=\"petal_length\", data=df)"
      ],
      "execution_count": null,
      "outputs": []
    },
    {
      "cell_type": "markdown",
      "metadata": {
        "id": "u1dTLb79WlyO",
        "colab_type": "text"
      },
      "source": [
        "### Other Plots\n",
        "\n",
        "\n",
        "* Regression Plots\n",
        "* Categorical Plots\n",
        "* Distribution Plots\n",
        "* Regression Plots\n",
        "* Distribution Plots"
      ]
    },
    {
      "cell_type": "markdown",
      "metadata": {
        "id": "rV30sb8fc9ds",
        "colab_type": "text"
      },
      "source": [
        "## Step 4: Further Customizations (Optional)\n",
        "\n",
        "\n",
        "Matplotlib is a great Python 2D plotting library to customize plots"
      ]
    },
    {
      "cell_type": "code",
      "metadata": {
        "id": "nfypFqhdes2s",
        "colab_type": "code",
        "colab": {}
      },
      "source": [
        "sns.regplot(x='petal_length', y='petal_width', data=df)\n",
        "\n",
        "import matplotlib.pyplot as plt\n",
        "plt.xlabel(\"Petal Length\")\n",
        "plt.ylabel(\"Petal Width\")\n",
        "plt.title(\"Petal Length vs Width\")"
      ],
      "execution_count": null,
      "outputs": []
    },
    {
      "cell_type": "markdown",
      "metadata": {
        "id": "0t1E2KpnwWuS",
        "colab_type": "text"
      },
      "source": [
        "## Step 5: Show or Save Plot  (Optional)"
      ]
    },
    {
      "cell_type": "code",
      "metadata": {
        "id": "Y-Zf9G_rwZdf",
        "colab_type": "code",
        "colab": {}
      },
      "source": [
        "sns.regplot(x='petal_length', y='petal_width', data=df)\n",
        "\n",
        "import matplotlib.pyplot as plt\n",
        "plt.show()\n",
        "plt.savefig(\"foo.png\")"
      ],
      "execution_count": null,
      "outputs": []
    },
    {
      "cell_type": "markdown",
      "metadata": {
        "id": "p14_-4LUKNWF",
        "colab_type": "text"
      },
      "source": [
        "## More Resources\n",
        "\n",
        "* Oficial documentation: https://seaborn.pydata.org/\n",
        "* Cheat sheet: https://s3.amazonaws.com/assets.datacamp.com/blog_assets/Python_Seaborn_Cheat_Sheet.pdf\n",
        "* Example Gallery: http://seaborn.pydata.org/examples/index.html\n",
        "\n",
        "\n",
        "\n"
      ]
    }
  ]
}