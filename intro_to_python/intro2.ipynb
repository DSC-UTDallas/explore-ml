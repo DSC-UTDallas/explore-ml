{
  "nbformat": 4,
  "nbformat_minor": 0,
  "metadata": {
    "colab": {
      "name": "Intro To Python Functions/Files/Classes.ipynb",
      "provenance": [],
      "collapsed_sections": [],
      "toc_visible": true
    },
    "kernelspec": {
      "name": "python3",
      "display_name": "Python 3"
    }
  },
  "cells": [
    {
      "cell_type": "markdown",
      "metadata": {
        "id": "B3_KXWHuC0H_",
        "colab_type": "text"
      },
      "source": [
        "# Functions "
      ]
    },
    {
      "cell_type": "markdown",
      "metadata": {
        "id": "Wark8qz2C-69",
        "colab_type": "text"
      },
      "source": [
        "A function is a block of code that can be reused multiple times. This increases the modularity and prevents redundant code. \n",
        "\n",
        "There are several inbuilt functions in Python. One example is the ```print()``` function. "
      ]
    },
    {
      "cell_type": "code",
      "metadata": {
        "id": "DKzsfwxVD_NQ",
        "colab_type": "code",
        "colab": {}
      },
      "source": [
        "print(\"this is an inbuilt function that prints to stdout\")"
      ],
      "execution_count": null,
      "outputs": []
    },
    {
      "cell_type": "markdown",
      "metadata": {
        "id": "QerRGyRBEMzA",
        "colab_type": "text"
      },
      "source": [
        "Part of a function is the function declaration, which includes the function name and parameters that are passed into the function. Functions begin with the word ```def```, which tell the interpreter that the next lines will be a function. It is followed by the name, then the parameters inside of the paraenthesis. Parameters are optional based on what you want your function to do.\n",
        "\n"
      ]
    },
    {
      "cell_type": "markdown",
      "metadata": {
        "id": "QD3UWfEbEMw6",
        "colab_type": "text"
      },
      "source": [
        "Here we are going to pass 2 numbers, x and y, into the function and then add the numbers. "
      ]
    },
    {
      "cell_type": "code",
      "metadata": {
        "id": "tmmaVCS-CqZS",
        "colab_type": "code",
        "colab": {}
      },
      "source": [
        "def addNums(x,y): \n",
        "  x+y"
      ],
      "execution_count": null,
      "outputs": []
    },
    {
      "cell_type": "markdown",
      "metadata": {
        "id": "24vqUMZWFbHU",
        "colab_type": "text"
      },
      "source": [
        "This function runs but does not print anything. This is because we did not add the ```return``` statement. This statement tells the function what to output when the function is called. However, this is different from the ```print()``` function, since ```print()``` outputs to stdout (covered in a previous section).  "
      ]
    },
    {
      "cell_type": "code",
      "metadata": {
        "id": "eqvZezx-GU9q",
        "colab_type": "code",
        "colab": {}
      },
      "source": [
        "def addNums(x,y): \n",
        "  return x+y"
      ],
      "execution_count": null,
      "outputs": []
    },
    {
      "cell_type": "markdown",
      "metadata": {
        "id": "XPxivsCHEeJH",
        "colab_type": "text"
      },
      "source": [
        "In reality, functions would have much more functionality, but this contains everything required for a complete function. Although the code is inside of the function, we will still need to tell the computer to run the function. This is called a function call. "
      ]
    },
    {
      "cell_type": "code",
      "metadata": {
        "id": "9pF9CPfdE9EU",
        "colab_type": "code",
        "colab": {
          "base_uri": "https://localhost:8080/",
          "height": 51
        },
        "outputId": "dc463b50-bc1f-4cf4-b71e-d35aecf75dee"
      },
      "source": [
        "def addNums(x,y): \n",
        "  return x+y\n",
        "  \n",
        "print(addNums(5,10))\n",
        "z = addNums(5,10)\n",
        "print(z)"
      ],
      "execution_count": null,
      "outputs": [
        {
          "output_type": "stream",
          "text": [
            "15\n",
            "15\n"
          ],
          "name": "stdout"
        }
      ]
    },
    {
      "cell_type": "markdown",
      "metadata": {
        "id": "BHycAsqpHXNM",
        "colab_type": "text"
      },
      "source": [
        "Here is a more complex example of a function (Running Sum #1480). This function takes an array of numbers and outputs the running sum of the numbers. "
      ]
    },
    {
      "cell_type": "code",
      "metadata": {
        "id": "O9DFnI3fFJ6X",
        "colab_type": "code",
        "colab": {
          "base_uri": "https://localhost:8080/",
          "height": 52
        },
        "outputId": "d5e0bef2-16a4-4c4d-d7c0-737c3d70ddce"
      },
      "source": [
        "#Input: nums = [1,2,3,4]\n",
        "#Output: [1,3,6,10]\n",
        "#Explanation: Running sum is obtained as follows: [1, 1+2, 1+2+3, 1+2+3+4].\n",
        "\n",
        "def runningSum(nums): \n",
        "  print(\"Numbers: \" + str(nums))\n",
        "  sumArr = []\n",
        "  curSum = 0 \n",
        "  for i in nums: \n",
        "    curSum += i\n",
        "    sumArr.append(curSum)\n",
        "  return \"Running Sum: \" + str(sumArr)\n",
        "\n",
        "nums = [1,2,3,4]\n",
        "print(runningSum(nums))"
      ],
      "execution_count": 1,
      "outputs": [
        {
          "output_type": "stream",
          "text": [
            "Numbers: [1, 2, 3, 4]\n",
            "Running Sum: [1, 3, 6, 10]\n"
          ],
          "name": "stdout"
        }
      ]
    },
    {
      "cell_type": "markdown",
      "metadata": {
        "id": "1QBJ6OLBJQzD",
        "colab_type": "text"
      },
      "source": [
        "Now try writing your own function to count the number of odd integers in a list. The structure of the function will be similar to the example above. Hint: \"%\" is the modulus operator "
      ]
    },
    {
      "cell_type": "code",
      "metadata": {
        "id": "06nDijZeJZyQ",
        "colab_type": "code",
        "colab": {}
      },
      "source": [
        "nums = [1,2,3,4,5,10,20,21] #input \n",
        "#output should be: [1,3,5,21]"
      ],
      "execution_count": null,
      "outputs": []
    },
    {
      "cell_type": "markdown",
      "metadata": {
        "id": "AnTUXaFa8ZEp",
        "colab_type": "text"
      },
      "source": [
        "#Files\n"
      ]
    },
    {
      "cell_type": "markdown",
      "metadata": {
        "id": "gUZlqBrP8j83",
        "colab_type": "text"
      },
      "source": [
        "Python has inbuilt functions for creating, reading, and writing to files. \n",
        "\n",
        "The ```open()``` function has 2 parameters, the name of the file and the method (read = 'r', write = 'w', append = 'a', create = 'x'). Lets create the sample file and write to it. "
      ]
    },
    {
      "cell_type": "code",
      "metadata": {
        "id": "9Ct32zrm_lGX",
        "colab_type": "code",
        "colab": {}
      },
      "source": [
        "f = open('/sample1.txt','w') \n",
        "text = f.write(\"\"\"Natural language processing (NLP) is a field of computer science, artificial intelligence \n",
        "and computational linguistics concerned with the interactions between computers and human \n",
        "(natural) languages, and, in particular, concerned with programming computers to fruitfully \n",
        "process large natural language corpora. Challenges in natural language processing frequently \n",
        "involve natural language understanding, natural language generation (frequently from formal, \n",
        "machine-readable logical forms), connecting language and machine perception, \n",
        "managing human-computer dialog systems, or some combination thereof.\n",
        "Source: https://en.wikipedia.org/wiki/Natural_language_processing\"\"\")\n",
        "f.close()"
      ],
      "execution_count": null,
      "outputs": []
    },
    {
      "cell_type": "markdown",
      "metadata": {
        "id": "J0LrRsRj_l_g",
        "colab_type": "text"
      },
      "source": [
        "Now lets open and read it. "
      ]
    },
    {
      "cell_type": "code",
      "metadata": {
        "id": "7IHJWJ3V-Vxa",
        "colab_type": "code",
        "colab": {
          "base_uri": "https://localhost:8080/",
          "height": 173
        },
        "outputId": "4904d79f-5f7e-4b37-db7a-9198198b29a0"
      },
      "source": [
        "f = open('/sample1.txt','r') \n",
        "text = f.read()\n",
        "print('You read:\\n', text)\n",
        "f.close()"
      ],
      "execution_count": null,
      "outputs": [
        {
          "output_type": "stream",
          "text": [
            "You read:\n",
            " Natural language processing (NLP) is a field of computer science, artificial intelligence \n",
            "and computational linguistics concerned with the interactions between computers and human \n",
            "(natural) languages, and, in particular, concerned with programming computers to fruitfully \n",
            "process large natural language corpora. Challenges in natural language processing frequently \n",
            "involve natural language understanding, natural language generation (frequently from formal, \n",
            "machine-readable logical forms), connecting language and machine perception, \n",
            "managing human-computer dialog systems, or some combination thereof.\n",
            "Source: https://en.wikipedia.org/wiki/Natural_language_processing\n"
          ],
          "name": "stdout"
        }
      ]
    },
    {
      "cell_type": "markdown",
      "metadata": {
        "id": "1xcmVY4k_Dmb",
        "colab_type": "text"
      },
      "source": [
        "You can also read files line by line"
      ]
    },
    {
      "cell_type": "code",
      "metadata": {
        "id": "i8FnyccV_Kfi",
        "colab_type": "code",
        "colab": {
          "base_uri": "https://localhost:8080/",
          "height": 277
        },
        "outputId": "c39a7908-b143-4e72-a9b8-4a7b90dd06ba"
      },
      "source": [
        "f = open('/sample1.txt', 'r')\n",
        "for line in f:\n",
        "    print(line)\n",
        "f.close()"
      ],
      "execution_count": null,
      "outputs": [
        {
          "output_type": "stream",
          "text": [
            "Natural language processing (NLP) is a field of computer science, artificial intelligence \n",
            "\n",
            "and computational linguistics concerned with the interactions between computers and human \n",
            "\n",
            "(natural) languages, and, in particular, concerned with programming computers to fruitfully \n",
            "\n",
            "process large natural language corpora. Challenges in natural language processing frequently \n",
            "\n",
            "involve natural language understanding, natural language generation (frequently from formal, \n",
            "\n",
            "machine-readable logical forms), connecting language and machine perception, \n",
            "\n",
            "managing human-computer dialog systems, or some combination thereof.\n",
            "\n",
            "Source: https://en.wikipedia.org/wiki/Natural_language_processing\n"
          ],
          "name": "stdout"
        }
      ]
    },
    {
      "cell_type": "markdown",
      "metadata": {
        "id": "TjAlr_CP_Vx5",
        "colab_type": "text"
      },
      "source": [
        "The with statement starts a block of code. When we are through with the block of code, Python will close the file automatically."
      ]
    },
    {
      "cell_type": "code",
      "metadata": {
        "id": "7Cov62gK_VUo",
        "colab_type": "code",
        "colab": {
          "base_uri": "https://localhost:8080/",
          "height": 351
        },
        "outputId": "5840e190-e82f-46d7-ae10-95a50c4c1b53"
      },
      "source": [
        "with open('/sample1.txt', 'r') as f:\n",
        "    text = f.read()\n",
        "print(\"You read:\\n\", text)\n",
        "f.read()"
      ],
      "execution_count": null,
      "outputs": [
        {
          "output_type": "stream",
          "text": [
            "You read:\n",
            " Natural language processing (NLP) is a field of computer science, artificial intelligence \n",
            "and computational linguistics concerned with the interactions between computers and human \n",
            "(natural) languages, and, in particular, concerned with programming computers to fruitfully \n",
            "process large natural language corpora. Challenges in natural language processing frequently \n",
            "involve natural language understanding, natural language generation (frequently from formal, \n",
            "machine-readable logical forms), connecting language and machine perception, \n",
            "managing human-computer dialog systems, or some combination thereof.\n",
            "Source: https://en.wikipedia.org/wiki/Natural_language_processing\n"
          ],
          "name": "stdout"
        },
        {
          "output_type": "error",
          "ename": "ValueError",
          "evalue": "ignored",
          "traceback": [
            "\u001b[0;31m---------------------------------------------------------------------------\u001b[0m",
            "\u001b[0;31mValueError\u001b[0m                                Traceback (most recent call last)",
            "\u001b[0;32m<ipython-input-17-1fc0fa50d876>\u001b[0m in \u001b[0;36m<module>\u001b[0;34m()\u001b[0m\n\u001b[1;32m      2\u001b[0m     \u001b[0mtext\u001b[0m \u001b[0;34m=\u001b[0m \u001b[0mf\u001b[0m\u001b[0;34m.\u001b[0m\u001b[0mread\u001b[0m\u001b[0;34m(\u001b[0m\u001b[0;34m)\u001b[0m\u001b[0;34m\u001b[0m\u001b[0;34m\u001b[0m\u001b[0m\n\u001b[1;32m      3\u001b[0m \u001b[0mprint\u001b[0m\u001b[0;34m(\u001b[0m\u001b[0;34m\"You read:\\n\"\u001b[0m\u001b[0;34m,\u001b[0m \u001b[0mtext\u001b[0m\u001b[0;34m)\u001b[0m\u001b[0;34m\u001b[0m\u001b[0;34m\u001b[0m\u001b[0m\n\u001b[0;32m----> 4\u001b[0;31m \u001b[0mf\u001b[0m\u001b[0;34m.\u001b[0m\u001b[0mread\u001b[0m\u001b[0;34m(\u001b[0m\u001b[0;34m)\u001b[0m\u001b[0;34m\u001b[0m\u001b[0;34m\u001b[0m\u001b[0m\n\u001b[0m",
            "\u001b[0;31mValueError\u001b[0m: I/O operation on closed file."
          ]
        }
      ]
    },
    {
      "cell_type": "markdown",
      "metadata": {
        "id": "MQIs3FY-AwKv",
        "colab_type": "text"
      },
      "source": [
        "# Classes & Objects"
      ]
    },
    {
      "cell_type": "markdown",
      "metadata": {
        "id": "D-8UL8oyA8Vx",
        "colab_type": "text"
      },
      "source": [
        "Classes are the foundation of object oriented programming. A class represents a new \"type\" of object, allowing instances of the type to be made. Here is an example of a very basic class "
      ]
    },
    {
      "cell_type": "code",
      "metadata": {
        "id": "4f2ANDmNBR85",
        "colab_type": "code",
        "colab": {
          "base_uri": "https://localhost:8080/",
          "height": 51
        },
        "outputId": "52351209-f870-4c4b-87e9-10e1e1fe46e7"
      },
      "source": [
        "class Cat: \n",
        "  age = 0 \n",
        "  weight = 0 \n",
        "  breed = None \n",
        "  def talk(self):\n",
        "    print(\"Meow\")\n",
        "  def changeAge(self, newAge): \n",
        "    self.age = newAge\n",
        "  def birthday(self): \n",
        "    self.age += 1\n",
        "\n",
        "jefferies = Cat()\n",
        "jefferies.talk()\n",
        "\n",
        "jefferies.changeAge(14)\n",
        "print(jefferies.age)"
      ],
      "execution_count": null,
      "outputs": [
        {
          "output_type": "stream",
          "text": [
            "Meow\n",
            "14\n"
          ],
          "name": "stdout"
        }
      ]
    },
    {
      "cell_type": "markdown",
      "metadata": {
        "id": "htxkpjjpCMaD",
        "colab_type": "text"
      },
      "source": [
        "Lets go over the parts of the class. First we have the class declaration, which is similar to a function definition. However, take note that classes do not have parenthesis after the class name. \n"
      ]
    },
    {
      "cell_type": "code",
      "metadata": {
        "id": "30XQp4-JC4RA",
        "colab_type": "code",
        "colab": {}
      },
      "source": [
        "class Cat:"
      ],
      "execution_count": null,
      "outputs": []
    },
    {
      "cell_type": "markdown",
      "metadata": {
        "id": "NWjv3hwmC8dN",
        "colab_type": "text"
      },
      "source": [
        "Then we have member variables and member functions. The member variables in the class Cat are ```age, weight, breed```. These variables are created whenever a new instance of the class is created. You can create an instance of the class by calling it and saving it to the variable. The variable then holds the class. "
      ]
    },
    {
      "cell_type": "code",
      "metadata": {
        "id": "0mD7amvSD1jz",
        "colab_type": "code",
        "colab": {
          "base_uri": "https://localhost:8080/",
          "height": 51
        },
        "outputId": "c5a663dc-2af8-4154-eddf-596aa6b88843"
      },
      "source": [
        "steve = Cat() #new instance of the Cat class named steve \n",
        "print(\"The default age for the cat class is \" + str(steve.age)) #prints steve's age\n",
        "steve.age = 10 \n",
        "print(\"We now made steve \" + str(steve.age) + \" years old\")  #prints steve's new age after we change it to 10"
      ],
      "execution_count": null,
      "outputs": [
        {
          "output_type": "stream",
          "text": [
            "The default age for the cat class is 0\n",
            "We now made steve 10 years old\n"
          ],
          "name": "stdout"
        }
      ]
    },
    {
      "cell_type": "markdown",
      "metadata": {
        "id": "VQ_cKFzzDXS9",
        "colab_type": "text"
      },
      "source": [
        "The ```self``` keyword is used to reference the classes' member functions and variables inside of the class. When you create an instance, you then reference the instance's variables and classes with the variable that you created the class with. "
      ]
    },
    {
      "cell_type": "markdown",
      "metadata": {
        "id": "ixbUEgDTErwe",
        "colab_type": "text"
      },
      "source": [
        "Calling a member function is similar to accessing the instance's member variables. "
      ]
    },
    {
      "cell_type": "code",
      "metadata": {
        "id": "w7U25tYJEypF",
        "colab_type": "code",
        "colab": {
          "base_uri": "https://localhost:8080/",
          "height": 51
        },
        "outputId": "75d5d228-76ad-46b8-89f1-a0d8b66402e7"
      },
      "source": [
        "print(\"Steve was \" + str(steve.age) + \" years old\")\n",
        "\n",
        "steve.birthday() # we call the birthday class function, which adds one to steve's birthday\n",
        "\n",
        "print(\"Steve is now \" + str(steve.age) + \" years old\") #he's now 1 year older"
      ],
      "execution_count": null,
      "outputs": [
        {
          "output_type": "stream",
          "text": [
            "Steve was 10 years old\n",
            "Steve is now 11 years old\n"
          ],
          "name": "stdout"
        }
      ]
    },
    {
      "cell_type": "markdown",
      "metadata": {
        "id": "Bymb6euPGeG9",
        "colab_type": "text"
      },
      "source": [
        "Classes provide the structure for very powerful programming concepts, such as inheritance, polymorphism, and abstraction. "
      ]
    }
  ]
}
