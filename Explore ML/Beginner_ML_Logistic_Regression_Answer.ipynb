{
  "nbformat": 4,
  "nbformat_minor": 0,
  "metadata": {
    "colab": {
      "name": "Beginner_ML_Logistic_Regression-Answer.ipynb",
      "provenance": [],
      "collapsed_sections": [],
      "toc_visible": true
    },
    "kernelspec": {
      "display_name": "Python 3",
      "language": "python",
      "name": "python3"
    },
    "language_info": {
      "codemirror_mode": {
        "name": "ipython",
        "version": 3
      },
      "file_extension": ".py",
      "mimetype": "text/x-python",
      "name": "python",
      "nbconvert_exporter": "python",
      "pygments_lexer": "ipython3",
      "version": "3.7.5"
    }
  },
  "cells": [
    {
      "cell_type": "markdown",
      "metadata": {
        "colab_type": "text",
        "id": "HHzKmj2odt28"
      },
      "source": [
        "### Developer Student Club (DSC) - Beginner Machine Learning Track "
      ]
    },
    {
      "cell_type": "markdown",
      "metadata": {
        "colab_type": "text",
        "id": "a1FmN-4W9M4M"
      },
      "source": [
        "### Classification\n",
        "Is a problem of **identifying which categories an observation belongs to** based on the training data.\n",
        "\n",
        "Examples of Classification include:\n",
        "* Detect *Spam* and *Non-Span* Email\n",
        "* Detect cancer or not"
      ]
    },
    {
      "cell_type": "markdown",
      "metadata": {
        "colab_type": "text",
        "id": "sSV2ND8o9Ydi"
      },
      "source": [
        "### Logistic Regression\n",
        "* Is a **binary classifier**\n",
        "* Examines the **linear relationship between features and label**. \n",
        "* Uses [Sigmoid Function](https://www.stat.cmu.edu/~cshalizi/uADA/12/lectures/ch12.pdf) to compute the probability for which categories an observation belongs to.\n",
        "* Output of Logistic Regression: **0.9 that 90% the email is spam**\n",
        "![alt text](https://www.researchgate.net/profile/Knut_Kvaal/publication/239269767/figure/fig2/AS:643520205430784@1530438581076/An-illustration-of-the-signal-processing-in-a-sigmoid-function.png)"
      ]
    },
    {
      "cell_type": "markdown",
      "metadata": {
        "colab_type": "text",
        "id": "Uh1te5RMIbiQ"
      },
      "source": [
        "### Logistic Regression for identifying Iris flower types. \n",
        "### [Iris Flower Dataset](https://www.kaggle.com/arshid/iris-flower-dataset)\n",
        "* The Iris flower data set is a multivariate data set introduced by the British statistician and biologist Ronald Fisher in his 1936 paper The **use of multiple measurements** in taxonomic problems. It is sometimes called Anderson's Iris data set because Edgar Anderson collected the data to **quantify the morphologic variation of Iris flowers of three related species**. \n",
        "* The data set consists of **50 samples from each of three species** of Iris (Iris Setosa, Iris virginica, and Iris versicolor). **Four features** were measured from each sample: **the length and the width of the sepals and petals,** in centimeters.\n",
        "\n",
        "![alt text](https://miro.medium.com/max/2006/1*8BQGOzI2cgNZxiqnjZPfMg.jpeg)"
      ]
    },
    {
      "cell_type": "markdown",
      "metadata": {
        "colab_type": "text",
        "id": "YmFJUWgZKwOG"
      },
      "source": [
        "#### **Goal:** identify which specifici species of Iris the flower observation falls under"
      ]
    },
    {
      "cell_type": "markdown",
      "metadata": {
        "colab_type": "text",
        "id": "4tLeHtxQLHBK"
      },
      "source": [
        "### Import dependencies"
      ]
    },
    {
      "cell_type": "code",
      "metadata": {
        "colab_type": "code",
        "id": "dpP82wNF9KzL",
        "colab": {}
      },
      "source": [
        "import numpy as np\n",
        "import matplotlib.pyplot as plt\n",
        "from sklearn.datasets import load_iris\n",
        "import pandas as pd\n",
        "from sklearn.metrics import confusion_matrix, accuracy_score, plot_confusion_matrix"
      ],
      "execution_count": null,
      "outputs": []
    },
    {
      "cell_type": "markdown",
      "metadata": {
        "colab_type": "text",
        "id": "Y8DFEz4BLQM6"
      },
      "source": [
        "### Load data"
      ]
    },
    {
      "cell_type": "code",
      "metadata": {
        "colab_type": "code",
        "id": "iRlvFISbLPsX",
        "colab": {}
      },
      "source": [
        "#load iris data\n",
        "iris = load_iris()\n",
        "data = iris.data\n",
        "labels = iris.target"
      ],
      "execution_count": null,
      "outputs": []
    },
    {
      "cell_type": "markdown",
      "metadata": {
        "colab_type": "text",
        "id": "xmzWykUkXhRM"
      },
      "source": [
        "#### Create DataFrame object to store data"
      ]
    },
    {
      "cell_type": "code",
      "metadata": {
        "colab_type": "code",
        "id": "PDyuKunqLoTY",
        "colab": {}
      },
      "source": [
        "df = pd.DataFrame(data, columns = ['sepal_length', 'sepal_width', 'petal_length', 'petal_width'])\n",
        "df['species_id'] = labels"
      ],
      "execution_count": null,
      "outputs": []
    },
    {
      "cell_type": "markdown",
      "metadata": {
        "colab_type": "text",
        "id": "4SsGo0-sLagn"
      },
      "source": [
        "#### Inspect first 5 rows of Iris dataset"
      ]
    },
    {
      "cell_type": "code",
      "metadata": {
        "colab_type": "code",
        "id": "Q_D1wq15LTOT",
        "colab": {
          "base_uri": "https://localhost:8080/",
          "height": 198
        },
        "outputId": "0014b174-c18e-4536-e3ac-68cab6ea632c"
      },
      "source": [
        "df.head()"
      ],
      "execution_count": null,
      "outputs": [
        {
          "output_type": "execute_result",
          "data": {
            "text/html": [
              "<div>\n",
              "<style scoped>\n",
              "    .dataframe tbody tr th:only-of-type {\n",
              "        vertical-align: middle;\n",
              "    }\n",
              "\n",
              "    .dataframe tbody tr th {\n",
              "        vertical-align: top;\n",
              "    }\n",
              "\n",
              "    .dataframe thead th {\n",
              "        text-align: right;\n",
              "    }\n",
              "</style>\n",
              "<table border=\"1\" class=\"dataframe\">\n",
              "  <thead>\n",
              "    <tr style=\"text-align: right;\">\n",
              "      <th></th>\n",
              "      <th>sepal_length</th>\n",
              "      <th>sepal_width</th>\n",
              "      <th>petal_length</th>\n",
              "      <th>petal_width</th>\n",
              "      <th>species_id</th>\n",
              "    </tr>\n",
              "  </thead>\n",
              "  <tbody>\n",
              "    <tr>\n",
              "      <th>0</th>\n",
              "      <td>5.1</td>\n",
              "      <td>3.5</td>\n",
              "      <td>1.4</td>\n",
              "      <td>0.2</td>\n",
              "      <td>0</td>\n",
              "    </tr>\n",
              "    <tr>\n",
              "      <th>1</th>\n",
              "      <td>4.9</td>\n",
              "      <td>3.0</td>\n",
              "      <td>1.4</td>\n",
              "      <td>0.2</td>\n",
              "      <td>0</td>\n",
              "    </tr>\n",
              "    <tr>\n",
              "      <th>2</th>\n",
              "      <td>4.7</td>\n",
              "      <td>3.2</td>\n",
              "      <td>1.3</td>\n",
              "      <td>0.2</td>\n",
              "      <td>0</td>\n",
              "    </tr>\n",
              "    <tr>\n",
              "      <th>3</th>\n",
              "      <td>4.6</td>\n",
              "      <td>3.1</td>\n",
              "      <td>1.5</td>\n",
              "      <td>0.2</td>\n",
              "      <td>0</td>\n",
              "    </tr>\n",
              "    <tr>\n",
              "      <th>4</th>\n",
              "      <td>5.0</td>\n",
              "      <td>3.6</td>\n",
              "      <td>1.4</td>\n",
              "      <td>0.2</td>\n",
              "      <td>0</td>\n",
              "    </tr>\n",
              "  </tbody>\n",
              "</table>\n",
              "</div>"
            ],
            "text/plain": [
              "   sepal_length  sepal_width  petal_length  petal_width  species_id\n",
              "0           5.1          3.5           1.4          0.2           0\n",
              "1           4.9          3.0           1.4          0.2           0\n",
              "2           4.7          3.2           1.3          0.2           0\n",
              "3           4.6          3.1           1.5          0.2           0\n",
              "4           5.0          3.6           1.4          0.2           0"
            ]
          },
          "metadata": {
            "tags": []
          },
          "execution_count": 12
        }
      ]
    },
    {
      "cell_type": "markdown",
      "metadata": {
        "colab_type": "text",
        "id": "2ELkpx8IMLC_"
      },
      "source": [
        "#### Inspect statistics of Iris dataset"
      ]
    },
    {
      "cell_type": "code",
      "metadata": {
        "colab_type": "code",
        "id": "CJTvfNBSLenA",
        "colab": {
          "base_uri": "https://localhost:8080/",
          "height": 288
        },
        "outputId": "edfce39b-0f75-470c-dc26-4eabb2db378b"
      },
      "source": [
        "df.describe()"
      ],
      "execution_count": null,
      "outputs": [
        {
          "output_type": "execute_result",
          "data": {
            "text/html": [
              "<div>\n",
              "<style scoped>\n",
              "    .dataframe tbody tr th:only-of-type {\n",
              "        vertical-align: middle;\n",
              "    }\n",
              "\n",
              "    .dataframe tbody tr th {\n",
              "        vertical-align: top;\n",
              "    }\n",
              "\n",
              "    .dataframe thead th {\n",
              "        text-align: right;\n",
              "    }\n",
              "</style>\n",
              "<table border=\"1\" class=\"dataframe\">\n",
              "  <thead>\n",
              "    <tr style=\"text-align: right;\">\n",
              "      <th></th>\n",
              "      <th>sepal_length</th>\n",
              "      <th>sepal_width</th>\n",
              "      <th>petal_length</th>\n",
              "      <th>petal_width</th>\n",
              "      <th>species_id</th>\n",
              "    </tr>\n",
              "  </thead>\n",
              "  <tbody>\n",
              "    <tr>\n",
              "      <th>count</th>\n",
              "      <td>150.000000</td>\n",
              "      <td>150.000000</td>\n",
              "      <td>150.000000</td>\n",
              "      <td>150.000000</td>\n",
              "      <td>150.000000</td>\n",
              "    </tr>\n",
              "    <tr>\n",
              "      <th>mean</th>\n",
              "      <td>5.843333</td>\n",
              "      <td>3.057333</td>\n",
              "      <td>3.758000</td>\n",
              "      <td>1.199333</td>\n",
              "      <td>1.000000</td>\n",
              "    </tr>\n",
              "    <tr>\n",
              "      <th>std</th>\n",
              "      <td>0.828066</td>\n",
              "      <td>0.435866</td>\n",
              "      <td>1.765298</td>\n",
              "      <td>0.762238</td>\n",
              "      <td>0.819232</td>\n",
              "    </tr>\n",
              "    <tr>\n",
              "      <th>min</th>\n",
              "      <td>4.300000</td>\n",
              "      <td>2.000000</td>\n",
              "      <td>1.000000</td>\n",
              "      <td>0.100000</td>\n",
              "      <td>0.000000</td>\n",
              "    </tr>\n",
              "    <tr>\n",
              "      <th>25%</th>\n",
              "      <td>5.100000</td>\n",
              "      <td>2.800000</td>\n",
              "      <td>1.600000</td>\n",
              "      <td>0.300000</td>\n",
              "      <td>0.000000</td>\n",
              "    </tr>\n",
              "    <tr>\n",
              "      <th>50%</th>\n",
              "      <td>5.800000</td>\n",
              "      <td>3.000000</td>\n",
              "      <td>4.350000</td>\n",
              "      <td>1.300000</td>\n",
              "      <td>1.000000</td>\n",
              "    </tr>\n",
              "    <tr>\n",
              "      <th>75%</th>\n",
              "      <td>6.400000</td>\n",
              "      <td>3.300000</td>\n",
              "      <td>5.100000</td>\n",
              "      <td>1.800000</td>\n",
              "      <td>2.000000</td>\n",
              "    </tr>\n",
              "    <tr>\n",
              "      <th>max</th>\n",
              "      <td>7.900000</td>\n",
              "      <td>4.400000</td>\n",
              "      <td>6.900000</td>\n",
              "      <td>2.500000</td>\n",
              "      <td>2.000000</td>\n",
              "    </tr>\n",
              "  </tbody>\n",
              "</table>\n",
              "</div>"
            ],
            "text/plain": [
              "       sepal_length  sepal_width  petal_length  petal_width  species_id\n",
              "count    150.000000   150.000000    150.000000   150.000000  150.000000\n",
              "mean       5.843333     3.057333      3.758000     1.199333    1.000000\n",
              "std        0.828066     0.435866      1.765298     0.762238    0.819232\n",
              "min        4.300000     2.000000      1.000000     0.100000    0.000000\n",
              "25%        5.100000     2.800000      1.600000     0.300000    0.000000\n",
              "50%        5.800000     3.000000      4.350000     1.300000    1.000000\n",
              "75%        6.400000     3.300000      5.100000     1.800000    2.000000\n",
              "max        7.900000     4.400000      6.900000     2.500000    2.000000"
            ]
          },
          "metadata": {
            "tags": []
          },
          "execution_count": 13
        }
      ]
    },
    {
      "cell_type": "markdown",
      "metadata": {
        "colab_type": "text",
        "id": "7eK2hkx0NSNJ"
      },
      "source": [
        "#### Check missing values"
      ]
    },
    {
      "cell_type": "code",
      "metadata": {
        "colab_type": "code",
        "id": "0Ch7Ps1hMQbD",
        "colab": {
          "base_uri": "https://localhost:8080/",
          "height": 138
        },
        "outputId": "c44676ce-d92a-4057-ab82-82afbbca3d95"
      },
      "source": [
        "df.isnull().any()"
      ],
      "execution_count": null,
      "outputs": [
        {
          "output_type": "execute_result",
          "data": {
            "text/plain": [
              "sepal_length    False\n",
              "sepal_width     False\n",
              "petal_length    False\n",
              "petal_width     False\n",
              "species_id      False\n",
              "dtype: bool"
            ]
          },
          "metadata": {
            "tags": []
          },
          "execution_count": 14
        }
      ]
    },
    {
      "cell_type": "markdown",
      "metadata": {
        "id": "TwNFfHmNfxPb",
        "colab_type": "text"
      },
      "source": [
        "#### Label Encoding"
      ]
    },
    {
      "cell_type": "code",
      "metadata": {
        "id": "aGGx2c_rfxPb",
        "colab_type": "code",
        "colab": {}
      },
      "source": [
        "species_map = {0 : 'sentosa', 1 : 'versicolor', 2 : 'virginica'}\n",
        "df['species_name'] = df['species_id'].map(species_map)"
      ],
      "execution_count": null,
      "outputs": []
    },
    {
      "cell_type": "markdown",
      "metadata": {
        "colab_type": "text",
        "id": "2G2q2HvmTpvU"
      },
      "source": [
        "#### Check Iris flower types (our labels)"
      ]
    },
    {
      "cell_type": "code",
      "metadata": {
        "colab_type": "code",
        "id": "YenTgAAZTyWx",
        "colab": {
          "base_uri": "https://localhost:8080/",
          "height": 35
        },
        "outputId": "a9928f65-4582-47b9-a48a-be77bfedbe02"
      },
      "source": [
        "print(df['species_name'].unique())"
      ],
      "execution_count": null,
      "outputs": [
        {
          "output_type": "stream",
          "text": [
            "['sentosa' 'versicolor' 'virginica']\n"
          ],
          "name": "stdout"
        }
      ]
    },
    {
      "cell_type": "markdown",
      "metadata": {
        "colab_type": "text",
        "id": "IJtuAmnzXdE3"
      },
      "source": [
        "#### Label Encoding"
      ]
    },
    {
      "cell_type": "code",
      "metadata": {
        "colab_type": "code",
        "id": "dQmCD_rMXey_",
        "colab": {}
      },
      "source": [
        "#label encoding\n",
        "species_map = {0 : 'sentosa', 1 : 'versicolor', 2 : 'virginica'}\n",
        "df['species_name'] = df['species_id'].map(species_map)"
      ],
      "execution_count": null,
      "outputs": []
    },
    {
      "cell_type": "markdown",
      "metadata": {
        "colab_type": "text",
        "id": "p-UshCdBLVSu"
      },
      "source": [
        "### Explanatory Data Analysis (EDA) by visualization tools"
      ]
    },
    {
      "cell_type": "markdown",
      "metadata": {
        "colab_type": "text",
        "id": "zTmiPCKxQOP8"
      },
      "source": [
        "#### Inspecting the balance of labels"
      ]
    },
    {
      "cell_type": "code",
      "metadata": {
        "colab_type": "code",
        "id": "-KS7rswgQRln",
        "colab": {
          "base_uri": "https://localhost:8080/",
          "height": 298
        },
        "outputId": "b6b8702c-babc-421c-a47f-31a22892a832"
      },
      "source": [
        "plt.hist(df['species_name'])\n",
        "plt.title('Bar plot showing the flower class balance')\n",
        "plt.show"
      ],
      "execution_count": null,
      "outputs": [
        {
          "output_type": "execute_result",
          "data": {
            "text/plain": [
              "<function matplotlib.pyplot.show(*args, **kw)>"
            ]
          },
          "metadata": {
            "tags": []
          },
          "execution_count": 21
        },
        {
          "output_type": "display_data",
          "data": {
            "image/png": "[encoded data removed]",
            "text/plain": [
              "<Figure size 432x288 with 1 Axes>"
            ]
          },
          "metadata": {
            "tags": [],
            "needs_background": "light"
          }
        }
      ]
    },
    {
      "cell_type": "markdown",
      "metadata": {
        "colab_type": "text",
        "id": "m5rd5SarOi9I"
      },
      "source": [
        "#### Inspecting width and length of **Septal** feature"
      ]
    },
    {
      "cell_type": "code",
      "metadata": {
        "colab_type": "code",
        "id": "HgjK5BQmOIRD",
        "colab": {
          "base_uri": "https://localhost:8080/",
          "height": 312
        },
        "outputId": "bfaffeba-2f46-4bc7-f2c0-a92d8e04a773"
      },
      "source": [
        "# By length\n",
        "plt.scatter(df[df['species_id'] == 0]['sepal_length'], df[df['species_id'] == 0]['petal_length'], label = 'sentosa')\n",
        "plt.scatter(df[df['species_id'] == 1]['sepal_length'], df[df['species_id'] == 1]['petal_length'], label = 'versicolor')\n",
        "plt.scatter(df[df['species_id'] == 2]['sepal_length'], df[df['species_id'] == 2]['petal_length'], label = 'virginica')\n",
        "plt.legend()\n",
        "plt.xlabel('Sepal Width')\n",
        "plt.ylabel('Petal Width')\n",
        "plt.title('Scatter plot showing the distribution of flowers by Sepal and Petal Witth')\n",
        "plt.show"
      ],
      "execution_count": null,
      "outputs": [
        {
          "output_type": "execute_result",
          "data": {
            "text/plain": [
              "<function matplotlib.pyplot.show(*args, **kw)>"
            ]
          },
          "metadata": {
            "tags": []
          },
          "execution_count": 22
        },
        {
          "output_type": "display_data",
          "data": {
            "image/png": "[encoded data removed]",
            "text/plain": [
              "<Figure size 432x288 with 1 Axes>"
            ]
          },
          "metadata": {
            "tags": [],
            "needs_background": "light"
          }
        }
      ]
    },
    {
      "cell_type": "code",
      "metadata": {
        "colab_type": "code",
        "id": "zBfOZMqePy9Y",
        "colab": {
          "base_uri": "https://localhost:8080/",
          "height": 312
        },
        "outputId": "a3b8d60e-bdc4-4d1b-9a21-c4acdd43be23"
      },
      "source": [
        "# By width\n",
        "plt.scatter(df[df['species_id'] == 0]['sepal_width'], df[df['species_id'] == 0]['petal_width'], label = 'sentosa')\n",
        "plt.scatter(df[df['species_id'] == 1]['sepal_width'], df[df['species_id'] == 1]['petal_width'], label = 'versicolor')\n",
        "plt.scatter(df[df['species_id'] == 2]['sepal_width'], df[df['species_id'] == 2]['petal_width'], label = 'virginica')\n",
        "plt.legend()\n",
        "plt.xlabel('Sepal Width')\n",
        "plt.ylabel('Petal Width')\n",
        "plt.title('Scatter plot showing the distribution of flowers by Sepal and Petal Height')\n",
        "plt.show"
      ],
      "execution_count": null,
      "outputs": [
        {
          "output_type": "execute_result",
          "data": {
            "text/plain": [
              "<function matplotlib.pyplot.show(*args, **kw)>"
            ]
          },
          "metadata": {
            "tags": []
          },
          "execution_count": 23
        },
        {
          "output_type": "display_data",
          "data": {
            "image/png": "[encoded data removed]",
            "text/plain": [
              "<Figure size 432x288 with 1 Axes>"
            ]
          },
          "metadata": {
            "tags": [],
            "needs_background": "light"
          }
        }
      ]
    },
    {
      "cell_type": "markdown",
      "metadata": {
        "colab_type": "text",
        "id": "yeT6leSpQeZA"
      },
      "source": [
        "### Build and Train **Logistic Regression** model"
      ]
    },
    {
      "cell_type": "markdown",
      "metadata": {
        "colab_type": "text",
        "id": "amwnWwOCRDl9"
      },
      "source": [
        "#### Split dataset into Train and Test subsets: *80% for training and 20% for testing*"
      ]
    },
    {
      "cell_type": "code",
      "metadata": {
        "colab_type": "code",
        "id": "aB7LHT9ARRwW",
        "colab": {}
      },
      "source": [
        "from sklearn.model_selection import train_test_split\n",
        "features = df.drop(['species_id', 'species_name'], axis = \"columns\") #drop columns\n",
        "labels = df['species_id']\n",
        "train_features, test_features, train_labels, test_labels = train_test_split(features, labels, test_size = 0.2, shuffle = True, random_state = 100)"
      ],
      "execution_count": null,
      "outputs": []
    },
    {
      "cell_type": "markdown",
      "metadata": {
        "colab_type": "text",
        "id": "we7TNJddYcu-"
      },
      "source": [
        "#### Initialize Logistic Regression model"
      ]
    },
    {
      "cell_type": "code",
      "metadata": {
        "colab_type": "code",
        "id": "3aocY8ctQd9C",
        "colab": {}
      },
      "source": [
        "from sklearn.linear_model import LogisticRegression\n",
        "#create an instance of LogisticRegression model with: iteration_num = 100 and verbose = 1\n",
        "logit_model = LogisticRegression(max_iter = 100, verbose = 1)"
      ],
      "execution_count": null,
      "outputs": []
    },
    {
      "cell_type": "markdown",
      "metadata": {
        "colab_type": "text",
        "id": "RkOSIWzhQ7oR"
      },
      "source": [
        "#### Train **Logisitc Regression** model"
      ]
    },
    {
      "cell_type": "code",
      "metadata": {
        "colab_type": "code",
        "id": "wYXLxzywQ5T4",
        "colab": {
          "base_uri": "https://localhost:8080/",
          "height": 138
        },
        "outputId": "a9e17771-3c1c-4865-9809-82753801a872"
      },
      "source": [
        "logit_model.fit(train_features, train_labels)"
      ],
      "execution_count": null,
      "outputs": [
        {
          "output_type": "stream",
          "text": [
            "[Parallel(n_jobs=1)]: Using backend SequentialBackend with 1 concurrent workers.\n",
            "[Parallel(n_jobs=1)]: Done   1 out of   1 | elapsed:    0.0s finished\n"
          ],
          "name": "stderr"
        },
        {
          "output_type": "execute_result",
          "data": {
            "text/plain": [
              "LogisticRegression(C=1.0, class_weight=None, dual=False, fit_intercept=True,\n",
              "                   intercept_scaling=1, l1_ratio=None, max_iter=100,\n",
              "                   multi_class='auto', n_jobs=None, penalty='l2',\n",
              "                   random_state=None, solver='lbfgs', tol=0.0001, verbose=1,\n",
              "                   warm_start=False)"
            ]
          },
          "metadata": {
            "tags": []
          },
          "execution_count": 26
        }
      ]
    },
    {
      "cell_type": "markdown",
      "metadata": {
        "colab_type": "text",
        "id": "uPXYivXCsd9Y"
      },
      "source": [
        "[More details of Scikit-Learn and algorithms are available here](https://github.com/DSC-UTDallas/explore-ml/blob/beginner/resources/scikitlearn.ipynb)"
      ]
    },
    {
      "cell_type": "markdown",
      "metadata": {
        "colab_type": "text",
        "id": "bL8ec1F3SW3F"
      },
      "source": [
        "#### Making predictions"
      ]
    },
    {
      "cell_type": "code",
      "metadata": {
        "colab_type": "code",
        "id": "cHQUxxnjSFat",
        "colab": {}
      },
      "source": [
        "train_preds = logit_model.predict(train_features)"
      ],
      "execution_count": null,
      "outputs": []
    },
    {
      "cell_type": "markdown",
      "metadata": {
        "colab_type": "text",
        "id": "7POFm0hwYtc4"
      },
      "source": [
        "##### Build Confusion Matrix to measure the classification accuracy"
      ]
    },
    {
      "cell_type": "code",
      "metadata": {
        "colab_type": "code",
        "id": "7LHUZYdgaux6",
        "colab": {
          "base_uri": "https://localhost:8080/",
          "height": 329
        },
        "outputId": "35e23d12-5871-46e1-940c-eaaf8c6e89f7"
      },
      "source": [
        "#test accuracy\n",
        "train_confusion_matrix = confusion_matrix(train_preds, train_labels)\n",
        "train_accuracy_score = accuracy_score(train_preds, train_labels)\n",
        "train_disp = plot_confusion_matrix(logit_model, train_features, train_labels, cmap = plt.cm.Blues)\n",
        "plt.title('Confusion matrix showing classification accuracy')\n",
        "print(\"Accuracy score: \")\n",
        "print(train_accuracy_score)"
      ],
      "execution_count": null,
      "outputs": [
        {
          "output_type": "stream",
          "text": [
            "Accuracy score: \n",
            "0.975\n"
          ],
          "name": "stdout"
        },
        {
          "output_type": "display_data",
          "data": {
            "image/png": "[encoded data removed]",
            "text/plain": [
              "<Figure size 432x288 with 2 Axes>"
            ]
          },
          "metadata": {
            "tags": [],
            "needs_background": "light"
          }
        }
      ]
    },
    {
      "cell_type": "markdown",
      "metadata": {
        "colab_type": "text",
        "id": "EV4D48xpXHZh"
      },
      "source": [
        "###### Visualizing Logistic Regression's train performance"
      ]
    },
    {
      "cell_type": "code",
      "metadata": {
        "colab_type": "code",
        "id": "MPykT_wXXDby",
        "colab": {
          "base_uri": "https://localhost:8080/",
          "height": 295
        },
        "outputId": "984ec13e-6e8b-408c-c6aa-18465ca38d48"
      },
      "source": [
        "plt.scatter(train_features['sepal_length'], train_features['sepal_width'], c = train_labels)\n",
        "ax = plt.gca()\n",
        "ax.autoscale = False\n",
        "#get coefficeints and intercepts\n",
        "xvals = np.array(ax.get_xlim())\n",
        "train_W, train_b = logit_model.coef_, logit_model.intercept_\n",
        "yvals = -(xvals * train_W[0][0]) / train_W[0][1]\n",
        "plt.plot(xvals, yvals)\n",
        "plt.xlabel('Sepal Length')\n",
        "plt.ylabel('Sepal Width')\n",
        "plt.title('Scatter plot showing the classification of Logistic Regression on Sepal plane')\n",
        "plt.show()"
      ],
      "execution_count": null,
      "outputs": [
        {
          "output_type": "display_data",
          "data": {
            "image/png": "[encoded data removed]",
            "text/plain": [
              "<Figure size 432x288 with 1 Axes>"
            ]
          },
          "metadata": {
            "tags": [],
            "needs_background": "light"
          }
        }
      ]
    },
    {
      "cell_type": "markdown",
      "metadata": {
        "id": "jufUIn14fxP0",
        "colab_type": "text"
      },
      "source": [
        "##### Predictions vs Labels"
      ]
    },
    {
      "cell_type": "code",
      "metadata": {
        "id": "5h58sO3KfxP1",
        "colab_type": "code",
        "colab": {},
        "outputId": "530ce379-0330-4a1a-c343-83328bace534"
      },
      "source": [
        "stats = pd.DataFrame(data = np.stack([train_preds, train_labels], axis = -1), columns = ['Predictions', 'Labels'])\n",
        "stats.tail(10)"
      ],
      "execution_count": null,
      "outputs": [
        {
          "output_type": "execute_result",
          "data": {
            "text/html": [
              "<div>\n",
              "<style scoped>\n",
              "    .dataframe tbody tr th:only-of-type {\n",
              "        vertical-align: middle;\n",
              "    }\n",
              "\n",
              "    .dataframe tbody tr th {\n",
              "        vertical-align: top;\n",
              "    }\n",
              "\n",
              "    .dataframe thead th {\n",
              "        text-align: right;\n",
              "    }\n",
              "</style>\n",
              "<table border=\"1\" class=\"dataframe\">\n",
              "  <thead>\n",
              "    <tr style=\"text-align: right;\">\n",
              "      <th></th>\n",
              "      <th>Predictions</th>\n",
              "      <th>Labels</th>\n",
              "    </tr>\n",
              "  </thead>\n",
              "  <tbody>\n",
              "    <tr>\n",
              "      <th>110</th>\n",
              "      <td>1</td>\n",
              "      <td>1</td>\n",
              "    </tr>\n",
              "    <tr>\n",
              "      <th>111</th>\n",
              "      <td>1</td>\n",
              "      <td>1</td>\n",
              "    </tr>\n",
              "    <tr>\n",
              "      <th>112</th>\n",
              "      <td>1</td>\n",
              "      <td>1</td>\n",
              "    </tr>\n",
              "    <tr>\n",
              "      <th>113</th>\n",
              "      <td>2</td>\n",
              "      <td>2</td>\n",
              "    </tr>\n",
              "    <tr>\n",
              "      <th>114</th>\n",
              "      <td>1</td>\n",
              "      <td>1</td>\n",
              "    </tr>\n",
              "    <tr>\n",
              "      <th>115</th>\n",
              "      <td>1</td>\n",
              "      <td>1</td>\n",
              "    </tr>\n",
              "    <tr>\n",
              "      <th>116</th>\n",
              "      <td>2</td>\n",
              "      <td>2</td>\n",
              "    </tr>\n",
              "    <tr>\n",
              "      <th>117</th>\n",
              "      <td>1</td>\n",
              "      <td>1</td>\n",
              "    </tr>\n",
              "    <tr>\n",
              "      <th>118</th>\n",
              "      <td>0</td>\n",
              "      <td>0</td>\n",
              "    </tr>\n",
              "    <tr>\n",
              "      <th>119</th>\n",
              "      <td>0</td>\n",
              "      <td>0</td>\n",
              "    </tr>\n",
              "  </tbody>\n",
              "</table>\n",
              "</div>"
            ],
            "text/plain": [
              "     Predictions  Labels\n",
              "110            1       1\n",
              "111            1       1\n",
              "112            1       1\n",
              "113            2       2\n",
              "114            1       1\n",
              "115            1       1\n",
              "116            2       2\n",
              "117            1       1\n",
              "118            0       0\n",
              "119            0       0"
            ]
          },
          "metadata": {
            "tags": []
          },
          "execution_count": 37
        }
      ]
    },
    {
      "cell_type": "markdown",
      "metadata": {
        "colab_type": "text",
        "id": "2itE1jB2WvKD"
      },
      "source": [
        "### Training steps"
      ]
    },
    {
      "cell_type": "markdown",
      "metadata": {
        "colab_type": "text",
        "id": "ZcmEMSalWvKD"
      },
      "source": [
        "#### **1. Linear Formula**\n",
        "### **y = w*x + b** that \n",
        "* **x, y** are input and output\n",
        "* **w, b** are weight and bias that are initialized randomly."
      ]
    },
    {
      "cell_type": "code",
      "metadata": {
        "colab_type": "code",
        "id": "K8sDCsmLdB_x",
        "colab": {
          "base_uri": "https://localhost:8080/",
          "height": 35
        },
        "outputId": "ab317892-ea2d-4c64-d86f-ea14cd984cd9"
      },
      "source": [
        "# define inputs\n",
        "inputs = np.array([0, 1, 2, 3])\n",
        "\n",
        "# define weight and bias\n",
        "weight = 0.8\n",
        "bias = 0.4\n",
        "\n",
        "# Linear formula outputs\n",
        "predictions = weight * inputs + bias\n",
        "predictions"
      ],
      "execution_count": null,
      "outputs": [
        {
          "output_type": "execute_result",
          "data": {
            "text/plain": [
              "array([0.4, 1.2, 2. , 2.8])"
            ]
          },
          "metadata": {
            "tags": []
          },
          "execution_count": 46
        }
      ]
    },
    {
      "cell_type": "markdown",
      "metadata": {
        "colab_type": "text",
        "id": "mgkmleTFWvKE"
      },
      "source": [
        "#### 2. Sigmoid Function\n",
        "- Substitue Linear Formlua into X of Sigmoid Function\n",
        "### => Logistic Regression y^ = 1 / (1 + e^(-w*x - b))\n",
        "![alt text](https://www.researchgate.net/profile/Knut_Kvaal/publication/239269767/figure/fig2/AS:643520205430784@1530438581076/An-illustration-of-the-signal-processing-in-a-sigmoid-function.png)"
      ]
    },
    {
      "cell_type": "code",
      "metadata": {
        "colab_type": "code",
        "id": "UqPQ8pIHdIpG",
        "colab": {
          "base_uri": "https://localhost:8080/",
          "height": 35
        },
        "outputId": "e4ee29a1-bce2-4d97-b429-4c2688d7205e"
      },
      "source": [
        "predictions = 1 / (1 + np.exp(-predictions))\n",
        "predictions"
      ],
      "execution_count": null,
      "outputs": [
        {
          "output_type": "execute_result",
          "data": {
            "text/plain": [
              "array([0.59868766, 0.76852478, 0.88079708, 0.94267582])"
            ]
          },
          "metadata": {
            "tags": []
          },
          "execution_count": 47
        }
      ]
    },
    {
      "cell_type": "markdown",
      "metadata": {
        "colab_type": "text",
        "id": "eNUZmjNTWvKE"
      },
      "source": [
        "##### 3. Cost (Loss) functions: Cross Entropy (aka Log Loss)\n",
        "![alt text](https://miro.medium.com/max/1122/1*KY8QcvVOz1sdUnVKKhxWyA@2x.png)\n"
      ]
    },
    {
      "cell_type": "code",
      "metadata": {
        "colab_type": "code",
        "id": "VGI2JF1oeTO-",
        "colab": {}
      },
      "source": [
        "labels = np.array([0, 1, 1, 0])"
      ],
      "execution_count": null,
      "outputs": []
    },
    {
      "cell_type": "code",
      "metadata": {
        "colab_type": "code",
        "id": "hL9lR-BVdixR",
        "colab": {
          "base_uri": "https://localhost:8080/",
          "height": 35
        },
        "outputId": "ceb43572-22df-4406-a542-0992b0c29e5f"
      },
      "source": [
        "loss = np.dot(labels, np.log(predictions)) * -1 / 4\n",
        "loss"
      ],
      "execution_count": null,
      "outputs": [
        {
          "output_type": "execute_result",
          "data": {
            "text/plain": [
              "0.09755261959525091"
            ]
          },
          "metadata": {
            "tags": []
          },
          "execution_count": 51
        }
      ]
    },
    {
      "cell_type": "markdown",
      "metadata": {
        "colab_type": "text",
        "id": "6w_4lqBqeptU"
      },
      "source": [
        "#### 4. Optimization"
      ]
    },
    {
      "cell_type": "markdown",
      "metadata": {
        "colab_type": "text",
        "id": "mHdpGbvTe0LU"
      },
      "source": [
        "##### -- Gradient Descent\n",
        "**Gradient Descent**, weight :\n",
        "* is updated for **every iteration through the training dataset**\n",
        "* is updated until loss reaches **global minium**\n",
        "\n",
        "![alt text](https://ml-cheatsheet.readthedocs.io/en/latest/_images/gradient_descent_demystified.png) "
      ]
    },
    {
      "cell_type": "markdown",
      "metadata": {
        "colab_type": "text",
        "id": "F3j7GOMPetWt"
      },
      "source": [
        "##### -- Update weight\n",
        "With calculated loss, update weight:\\\n",
        "==> **new_weight = old_weight - d-loss**\n",
        "\n",
        "that **d-loss** is **the magnitude of weight update** or **derivate of loss w.r.t old_weight**"
      ]
    },
    {
      "cell_type": "code",
      "metadata": {
        "colab_type": "code",
        "id": "2sKcGp_Jewaz",
        "colab": {
          "base_uri": "https://localhost:8080/",
          "height": 35
        },
        "outputId": "beec2d75-0c13-4dbc-bc48-3ca7c15f4f1a"
      },
      "source": [
        "weight -= loss #notice: this is for demo. This formula is truly correct in reality\n",
        "weight"
      ],
      "execution_count": null,
      "outputs": [
        {
          "output_type": "execute_result",
          "data": {
            "text/plain": [
              "0.7024473804047491"
            ]
          },
          "metadata": {
            "tags": []
          },
          "execution_count": 52
        }
      ]
    },
    {
      "cell_type": "markdown",
      "metadata": {
        "colab_type": "text",
        "id": "buk5BQy6ZJQN"
      },
      "source": [
        "##### Making **Test** predictions"
      ]
    },
    {
      "cell_type": "code",
      "metadata": {
        "colab_type": "code",
        "id": "M4A3ALJtXYSu",
        "colab": {}
      },
      "source": [
        "test_preds = logit_model.predict(test_features)\n",
        "test_pred_probabilities = logit_model.predict_proba(test_features)"
      ],
      "execution_count": null,
      "outputs": []
    },
    {
      "cell_type": "code",
      "metadata": {
        "colab_type": "code",
        "id": "6biq29PBaI_1",
        "colab": {
          "base_uri": "https://localhost:8080/",
          "height": 314
        },
        "outputId": "016ab026-e8ed-4fdb-b186-c6251b701389"
      },
      "source": [
        "#test accuracy\n",
        "test_confusion_matrix = confusion_matrix(test_preds, test_labels)\n",
        "test_accuracy_score = accuracy_score(test_preds, test_labels)\n",
        "test_disp = plot_confusion_matrix(logit_model, test_features, test_labels, cmap = plt.cm.Blues)\n",
        "print(\"Accuracy score: \")\n",
        "print(test_accuracy_score)"
      ],
      "execution_count": null,
      "outputs": [
        {
          "output_type": "stream",
          "text": [
            "Accuracy score: \n",
            "0.9666666666666667\n"
          ],
          "name": "stdout"
        },
        {
          "output_type": "display_data",
          "data": {
            "image/png": "[encoded data removed]",
            "text/plain": [
              "<Figure size 432x288 with 2 Axes>"
            ]
          },
          "metadata": {
            "tags": [],
            "needs_background": "light"
          }
        }
      ]
    },
    {
      "cell_type": "markdown",
      "metadata": {
        "colab_type": "text",
        "id": "ccg-eWVAZumq"
      },
      "source": [
        "###### Visualizing Logisitc Regression's Test performance"
      ]
    },
    {
      "cell_type": "code",
      "metadata": {
        "colab_type": "code",
        "id": "wEjdn5n5ZmrG",
        "colab": {
          "base_uri": "https://localhost:8080/",
          "height": 295
        },
        "outputId": "2149c322-25f9-425d-843d-a04d1cd43570"
      },
      "source": [
        "plt.scatter(test_features['sepal_length'], test_features['sepal_width'], c = test_labels)\n",
        "ax = plt.gca()\n",
        "ax.autoscale = False\n",
        "xvals = np.array(ax.get_xlim())\n",
        "test_W, test_b = logit_model.coef_, logit_model.intercept_\n",
        "yvals = -(xvals * test_W[0][0]) / test_W[0][1]\n",
        "plt.plot(xvals, yvals)\n",
        "plt.xlabel('Sepal Length')\n",
        "plt.ylabel('Sepal Width')\n",
        "plt.title('Scatter plot showing the classification of Logistic Regression on Sepal plane')\n",
        "plt.show()"
      ],
      "execution_count": null,
      "outputs": [
        {
          "output_type": "display_data",
          "data": {
            "image/png": "[encoded data removed]",
            "text/plain": [
              "<Figure size 432x288 with 1 Axes>"
            ]
          },
          "metadata": {
            "tags": [],
            "needs_background": "light"
          }
        }
      ]
    },
    {
      "cell_type": "markdown",
      "metadata": {
        "colab_type": "text",
        "id": "oLw7JVC5aEKY"
      },
      "source": [
        "### Some thoughts\n",
        "* **Does accuracy score look good?** \n",
        "=> Yes\n",
        "* **Does the model work that well in reality?** \n",
        "=> Yes, but not really. The dataset is too small (150 records) to conclude the model's performance\n",
        "* **How to improve?**\n",
        "=> Support Vector Machine (SVM) or Decision tree\\\n",
        "[More details of Scikit-Learn and algorithms are available here](https://github.com/DSC-UTDallas/explore-ml/blob/beginner/resources/scikitlearn.ipynb)"
      ]
    },
    {
      "cell_type": "markdown",
      "metadata": {
        "colab_type": "text",
        "id": "5mbycL0ccanS"
      },
      "source": [
        "#### Overfitting & Underfitting\n",
        "---\n",
        "**Overfitting** If the model does really great on the training data but poorly on the testing data, this means you may have overfitted.\n",
        "  * **Reasons** : \n",
        "      * Mostly due to the limited dataset that the model cannot be trained to be generalized.\n",
        "      * In this notebook, due to the limited Iris dataset, the logistic model in this notebook may easily encouter **overfitting** when it makes predictions against unseen data.\n",
        "  * **Solutions** : \n",
        "      * Simplify ML algorithms/models\n",
        "      * Add regularization\n",
        "\n",
        "**Underfitting** is when your model does not capture all the detail of the data while overfitting is when your model captures too much detail and ends up showcasing random noise as well.\n",
        "  * **Reason** : happen due to \n",
        "      * The simplicity of Machine Learning algorithms\n",
        "      * Too few data features. \n",
        "  * **Solutions** : \n",
        "      * Build more complex ML algorithms/models\n",
        "      * Add model parameters and data features.\n",
        "\n",
        "  ![Overfitting & Underfitting](https://miro.medium.com/max/1125/1*_7OPgojau8hkiPUiHoGK_w.png)"
      ]
    },
    {
      "cell_type": "markdown",
      "metadata": {
        "colab_type": "text",
        "id": "UlqGV98udcaO"
      },
      "source": [
        "**References**\n",
        "* Logistic Regression in Sci-Kit Learn, https://blog.goodaudience.com/classifying-flowers-using-logistic-regression-in-sci-kit-learn-38262416e4c6\n",
        "* Sigmoid Function, https://www.stat.cmu.edu/~cshalizi/uADA/12/lectures/ch12.pdf"
      ]
    }
  ]
}