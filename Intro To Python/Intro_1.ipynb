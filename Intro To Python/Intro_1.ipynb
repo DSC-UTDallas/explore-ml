{
  "nbformat": 4,
  "nbformat_minor": 0,
  "metadata": {
    "colab": {
      "name": "Intro to Python.ipynb",
      "provenance": [],
      "collapsed_sections": [
        "BzOxee4fWozl"
      ],
      "toc_visible": true
    },
    "kernelspec": {
      "name": "python3",
      "display_name": "Python 3"
    }
  },
  "cells": [
    {
      "cell_type": "markdown",
      "metadata": {
        "id": "FWx24BIOUmp3",
        "colab_type": "text"
      },
      "source": [
        "# **Introduction to Python - Getting Started**\n",
        "\n",
        "This part will cover the basics of Python. No prior knowledge is required, yet any experience in other programming languages is encouraged.\n",
        "\n",
        "### **Table of Contents**\n",
        "0. All you needs to know about Python\n",
        "1. Console Input & Output\n",
        "2. Variable & Data Types\n",
        "3. Arithmetic Operators\n",
        "\n",
        "\n"
      ]
    },
    {
      "cell_type": "markdown",
      "metadata": {
        "id": "BzOxee4fWozl",
        "colab_type": "text"
      },
      "source": [
        "## **0. All you needs to know about Python**\n",
        "- Python is an interpreted, object-oriented language.\n",
        "- Python is a high-level language, which means its syntax is very similar to English.\n",
        "- Indentations, or spacing, matters.\n",
        "- Python is **not** strongly typed. No type declaration needed.\n",
        "- Python is case sensitive.\n",
        "\n",
        "For Python's coding conventions, refer to [PEP8](https://www.python.org/dev/peps/pep-0008/)"
      ]
    },
    {
      "cell_type": "markdown",
      "metadata": {
        "id": "B7hB5ZYvdmGz",
        "colab_type": "text"
      },
      "source": [
        "## **1. Console Output & Input**\n",
        "\n",
        "- `print()` for console output\n",
        "- `input(\"prompt\")` for console input\n",
        "- `#` for comment"
      ]
    },
    {
      "cell_type": "code",
      "metadata": {
        "id": "FcXnXoPud-mn",
        "colab_type": "code",
        "colab": {}
      },
      "source": [
        "# The line below will print out 'Hello, World!'\n",
        "print(\"Hello, World!\")"
      ],
      "execution_count": null,
      "outputs": []
    },
    {
      "cell_type": "code",
      "metadata": {
        "id": "gnGpurtZet1P",
        "colab_type": "code",
        "colab": {}
      },
      "source": [
        "name = input(\"What is your name?\")\n",
        "print(\"Hi,\", name)\n",
        "print(\"Hi, \" + name)"
      ],
      "execution_count": null,
      "outputs": []
    },
    {
      "cell_type": "markdown",
      "metadata": {
        "id": "PUI43HmkZo7Y",
        "colab_type": "text"
      },
      "source": [
        "## **2. Variables and Data Types**\n",
        "\n",
        "Variable is the placeholder for data. \n",
        "\n",
        "There are no type declarations like `int x` or `float y` in Python. \n",
        "\n",
        "Data types of variables are checked dynamically at run time not when code is compiled. In other words, data type of a variable is defined dynamically by its content at run time.\n",
        "\n"
      ]
    },
    {
      "cell_type": "markdown",
      "metadata": {
        "id": "L_AE3OkscMGN",
        "colab_type": "text"
      },
      "source": [
        "### Primitive Data types\n",
        "- string\n",
        "- int\n",
        "- float\n",
        "- bool"
      ]
    },
    {
      "cell_type": "code",
      "metadata": {
        "id": "r5f47kO2WnIj",
        "colab_type": "code",
        "colab": {}
      },
      "source": [
        "# Assign a value for variable x then run the code\n",
        "# Try 3, 3.0, and '3' or 'True'\n",
        "\n",
        "x = 3\n",
        "\n",
        "print(type(x))"
      ],
      "execution_count": null,
      "outputs": []
    },
    {
      "cell_type": "markdown",
      "metadata": {
        "id": "k_nBCJ9tdRtm",
        "colab_type": "text"
      },
      "source": [
        "**Note:** When you type a variable at the console, Python returns its value. We can also use the print() function to view the contents"
      ]
    },
    {
      "cell_type": "markdown",
      "metadata": {
        "id": "eWBQLPhdfO35",
        "colab_type": "text"
      },
      "source": [
        "## **3. Operators**\n"
      ]
    },
    {
      "cell_type": "markdown",
      "metadata": {
        "id": "YEyMZDOqeWz5",
        "colab_type": "text"
      },
      "source": [
        "### **3.1 Arithmetic operators**\n",
        "\n",
        "- `+`  Addition\n",
        "- `-` Subtraction\n",
        "- `*` Multiplication\n",
        "- `/` Division\n",
        "- `%` Mod/ Remainder\n",
        "- `**` Exponentiation (note that ^ does not do this operation, as you might have seen in other languages)\n",
        "- `//` Divides and rounds down to the nearest integer\n",
        "\n",
        "The usual order of mathematical operations holds in Python\n"
      ]
    },
    {
      "cell_type": "code",
      "metadata": {
        "id": "yKDONwlqf8AY",
        "colab_type": "code",
        "colab": {}
      },
      "source": [
        "print(3 + 4 ** (6/3))"
      ],
      "execution_count": null,
      "outputs": []
    },
    {
      "cell_type": "markdown",
      "metadata": {
        "id": "-42MOZn6eaO3",
        "colab_type": "text"
      },
      "source": [
        "### **3.2 Comparison operators**\n",
        "- `>` : Greater than\n",
        "- `<` : Less than\n",
        "- `>=` : Greater than or Equal to\n",
        "- `<=` : Less than or Equal to\n",
        "- `==` : Equal to\n",
        "- `!=` : Not equal to\n",
        "\n",
        "Result: Boolean (True or False)\n"
      ]
    },
    {
      "cell_type": "code",
      "metadata": {
        "id": "UZR_VlXeecEq",
        "colab_type": "code",
        "colab": {}
      },
      "source": [
        "width_1 = 1049.23\n",
        "height_1 = 3032.5\n",
        "\n",
        "width_2 = 828.50\n",
        "height_2 = 4201.118\n",
        "\n",
        "'''\n",
        "Calculate:\n",
        "   - area of rectange_1 with width_1 and height_1,\n",
        "   - area of rectangle_2 with width_2 and height_2,\n",
        "   - compare to find out which one has a larger area\n",
        "'''\n",
        "\n",
        "area_1 = width_1 * height_1\n",
        "area_2 = width_2 * height_2\n",
        "print(area_1 > area_2)\n",
        "\n"
      ],
      "execution_count": null,
      "outputs": []
    },
    {
      "cell_type": "markdown",
      "metadata": {
        "id": "QERtU_i2ecUx",
        "colab_type": "text"
      },
      "source": [
        "\n",
        "###**3.3 Logical operators**\n",
        "- `and`\n",
        "- `or`\n",
        "- `not`"
      ]
    },
    {
      "cell_type": "code",
      "metadata": {
        "id": "QwSIuOe-fmc4",
        "colab_type": "code",
        "colab": {}
      },
      "source": [
        "import random\n",
        "# assign a random number from -1000 to 1000 to 'random_num' variable\n",
        "random_num = random.randint(-1000, 1000)\n",
        "\n",
        "# Check if num is less than 300 and greater than 0\n",
        "print(random_num)\n",
        "print(random_num < 300 and random_num > 0)\n"
      ],
      "execution_count": null,
      "outputs": []
    },
    {
      "cell_type": "markdown",
      "metadata": {
        "id": "S3EXaY_qoW_4",
        "colab_type": "text"
      },
      "source": [
        "# **Introduction to Python - Control Flow**\n",
        "\n",
        "###**Table of Contents**\n",
        "4. Structured Data Types\n",
        "5. Conditionals\n",
        "6. Loops & its variations"
      ]
    },
    {
      "cell_type": "markdown",
      "metadata": {
        "id": "HfyWTIT_mYFI",
        "colab_type": "text"
      },
      "source": [
        "## **4. Structured Types**\n",
        "\n",
        "- Tuple\n",
        "- List\n",
        "- Set\n",
        "- Dictionary\n",
        "\n",
        "To convert object to one of these structured types, we can use:\n",
        "\n",
        "`<type name>(<object needs converted)`\n",
        "\n",
        "For example:\n",
        "\n",
        "\n",
        "```\n",
        "a = [1, 2, 3, 4, 5]\n",
        "set_a = set(a)\n",
        "list_a = list(set_a)\n",
        "```\n",
        "\n",
        "\n",
        "\n"
      ]
    },
    {
      "cell_type": "markdown",
      "metadata": {
        "id": "yyyIy-s6qstz",
        "colab_type": "text"
      },
      "source": [
        "###**4.1 Tuple**\n",
        "\n",
        "- Tuple is an **ordered** and **immutable** collection\n",
        "- Can be accessed by index\n",
        "- Type of elements: Any type (and can contain multiple types)\n",
        "- Cannot change its elements"
      ]
    },
    {
      "cell_type": "code",
      "metadata": {
        "id": "7LMafVryifsm",
        "colab_type": "code",
        "colab": {}
      },
      "source": [
        "# Tuple\n",
        "x = (1, (2, True), (3, '3', 3.0), 'Hello')\n",
        "\n",
        "# Accessing the first dimension\n",
        "print(\"At position 0:\", x[0])\n",
        "print(\"At position 1:\", x[1])\n",
        "print(\"At position 2:\", x[2])\n",
        "print(\"The last element of tuple x is:\", x[-1])\n",
        "print() #print out extra line\n",
        "\n",
        "# Accessing the second dimension\n",
        "print(\"At the first position of the third element:\", x[2][0])\n",
        "print(\"Also, at the first position of the third element:\", x[-2][-3])\n",
        "\n"
      ],
      "execution_count": null,
      "outputs": []
    },
    {
      "cell_type": "code",
      "metadata": {
        "id": "bi-ETQGirn2e",
        "colab_type": "code",
        "colab": {}
      },
      "source": [
        "# Try to change the value of the second element in tuple x. Error expected.\n",
        "x[1] = 3 "
      ],
      "execution_count": null,
      "outputs": []
    },
    {
      "cell_type": "markdown",
      "metadata": {
        "id": "EnS9WmPzoVkK",
        "colab_type": "text"
      },
      "source": [
        "###**4.2 List**\n",
        "\n",
        "- List is a **ordered** and **mutable** collection\n",
        "- Can be accessed by index\n",
        "- Type of elements: any type (and can contain multiple types)\n",
        "- Can change its elements"
      ]
    },
    {
      "cell_type": "code",
      "metadata": {
        "id": "z9kbYXyppr71",
        "colab_type": "code",
        "colab": {}
      },
      "source": [
        "# List\n",
        "x = [1, (True, 'This is a tuple'), [3, 'Bingo', 4], 'Hello'] \n",
        "\n",
        "# Accessing the first dimension\n",
        "print(\"At position 0:\", x[0])\n",
        "print(\"At position 1:\", x[1])\n",
        "print(\"At position 2:\", x[2])\n",
        "print(\"The last element of tuple x is:\", x[-1])\n",
        "print() \n",
        "\n",
        "# Accessing the second dimension\n",
        "print(\"At the first position of the third element:\", x[2][0])\n",
        "print(\"Also, at the first position of the third element:\", x[-2][-3])"
      ],
      "execution_count": null,
      "outputs": []
    },
    {
      "cell_type": "code",
      "metadata": {
        "id": "eEojsAZ0sFl2",
        "colab_type": "code",
        "colab": {}
      },
      "source": [
        "# Try to change the value of the last element in the list x\n",
        "x[-1] = 'Goodbye'\n",
        "print(x)"
      ],
      "execution_count": null,
      "outputs": []
    },
    {
      "cell_type": "code",
      "metadata": {
        "id": "VGqGDCbgsTND",
        "colab_type": "code",
        "colab": {}
      },
      "source": [
        "# Assign x to y, see the effect of changing x on y\n",
        "x = [1, [2, 'Two'], 3, False , 5]\n",
        "y = x\n",
        "\n",
        "print(\"---BEFORE---\")\n",
        "print(\"X:\", x)\n",
        "print(\"Y:\", y)\n",
        "print()\n",
        "\n",
        "x[1] = 'This element has been changed' #change the second element of x\n",
        "\n",
        "print(\"---AFTER---\")\n",
        "print(\"X:\", x)\n",
        "print(\"Y:\", y)\n",
        "print()"
      ],
      "execution_count": null,
      "outputs": []
    },
    {
      "cell_type": "markdown",
      "metadata": {
        "id": "qSb5ORwyoVmu",
        "colab_type": "text"
      },
      "source": [
        "###**4.3 Set**\n",
        "- A set is a **unordered** and **mutable** collection of unique elements\n",
        "- Cannot be accessed by index as there is no fixed order\n",
        "- Type of elements: any type\n",
        "- Its elements can be changed using built-in functions"
      ]
    },
    {
      "cell_type": "code",
      "metadata": {
        "id": "5GUkUu7TXBf2",
        "colab_type": "code",
        "colab": {}
      },
      "source": [
        "numbers = [1, 2, 'a', 3, 1, 1, 6]\n",
        "unique_nums = set(numbers)\n",
        "print(unique_nums)"
      ],
      "execution_count": null,
      "outputs": []
    },
    {
      "cell_type": "markdown",
      "metadata": {
        "id": "74kDii4roVsP",
        "colab_type": "text"
      },
      "source": [
        "###**4.4 Dictionary**\n",
        "\n",
        "- A dictionary is an **unordered** and **mutable** collection that stores mappings of unique keys to values.\n",
        "- Accessed by key, not index\n",
        "- Type of elements: any type\n",
        "- Its elements can be changed\n"
      ]
    },
    {
      "cell_type": "code",
      "metadata": {
        "id": "wdxZ8eNpXv3Q",
        "colab_type": "code",
        "colab": {}
      },
      "source": [
        "# A dictionary has already created for you. Try to print the dictionary out\n",
        "school = 'UTD'\n",
        "\n",
        "students = {\"name\": \"DSC\", \"age\": 2, 'location': {'city': 'Richardson', 'state': 'TX'}, 'chapter': school}\n",
        "\n",
        "# How do you think it will appear?\n",
        "students"
      ],
      "execution_count": null,
      "outputs": []
    },
    {
      "cell_type": "code",
      "metadata": {
        "id": "84EPzXkXl6_Y",
        "colab_type": "code",
        "colab": {}
      },
      "source": [
        "# List the keys of the dictionary\n",
        "print(students.keys())\n",
        "\n",
        "# List the values in the dictionary\n",
        "print(students.values())\n",
        "\n",
        "# Modify a key-value pair of the dictionary:\n",
        "students['age'] = 10\n",
        "\n",
        "# Access and retrieve the value using key\n",
        "print(students['age'])\n",
        "print(students.get('agr', 0)) # Alternative way\n",
        "\n"
      ],
      "execution_count": null,
      "outputs": []
    },
    {
      "cell_type": "markdown",
      "metadata": {
        "id": "9SEZl5iKaBTD",
        "colab_type": "text"
      },
      "source": [
        "## **5. Conditionals**\n",
        "\n",
        "Format:\n",
        "\n",
        "```\n",
        "if <conditions 1> : \n",
        "  <statement to act on condition 1>\n",
        "\n",
        "elif <condition 2> :\n",
        "  <statement to act on condition 2>\n",
        "\n",
        "else :\n",
        "  <statement to act if none of the above happened>\n",
        "```"
      ]
    },
    {
      "cell_type": "code",
      "metadata": {
        "id": "0-DpG-d4YTI3",
        "colab_type": "code",
        "colab": {}
      },
      "source": [
        "'''\n",
        "Let's create a convertor that helps calculate the letter grade:\n",
        "  + 90 and above : A\n",
        "  + 80 - 89: B\n",
        "  + 70 - 79: C\n",
        "  + 60 - 69: D\n",
        "  + 59 and below: F\n",
        "'''\n",
        "\n",
        "grade = 85\n",
        "\n",
        "if grade >= 90: \n",
        "  print(\"A\")\n",
        "elif grade >= 80:\n",
        "  print(\"B\")\n",
        "elif grade >= 70:\n",
        "  print(\"C\")\n",
        "elif grade >= 60:\n",
        "  print(\"D\")\n",
        "else:\n",
        "  print(\"F\")\n",
        "\n",
        "\n"
      ],
      "execution_count": null,
      "outputs": []
    },
    {
      "cell_type": "markdown",
      "metadata": {
        "id": "ySOHDrKHgWy9",
        "colab_type": "text"
      },
      "source": [
        "## **6. Loops and its variations**\n",
        "\n",
        "- `while` loop\n",
        "- `for` loop\n",
        "- `in`, `range`, and `enumerate`\n",
        "\n",
        "Python has 2 types of loops - `for` loops and `while` loops. A for loop is used to \"iterate\", or do something repeatedly, over an iterable.\n",
        "\n",
        "An iterable is an object that can return one of its elements at a time. This can be strings, lists, tuples, or even dictionaries and files."
      ]
    },
    {
      "cell_type": "markdown",
      "metadata": {
        "id": "urARoxlikrcU",
        "colab_type": "text"
      },
      "source": [
        "###6.1 while Loops\n",
        "\n",
        "With the `while` loop we can execute a set of statements as long as a condition is true. `while` loop is normally used when you don't know the number of time you will iterate ahead. "
      ]
    },
    {
      "cell_type": "code",
      "metadata": {
        "id": "aN_t8XpglzKI",
        "colab_type": "code",
        "colab": {}
      },
      "source": [
        "# Run this code block to see the change of i inside the while loop\n",
        "i = 0\n",
        "while i < 10:\n",
        "  print(i)\n",
        "  i += 1"
      ],
      "execution_count": null,
      "outputs": []
    },
    {
      "cell_type": "markdown",
      "metadata": {
        "id": "6bmMnByniX1b",
        "colab_type": "text"
      },
      "source": [
        "### 6.2 for Loops\n",
        "\n",
        "We used `for` loop when we know how many iterations that we want to do"
      ]
    },
    {
      "cell_type": "code",
      "metadata": {
        "id": "b47ofl-rjgo_",
        "colab_type": "code",
        "colab": {}
      },
      "source": [
        "# Use of 'range'\n",
        "for num in range(10):\n",
        "  print(num)\n",
        "\n",
        "print(\"\\nAll numbers printed!\")"
      ],
      "execution_count": null,
      "outputs": []
    },
    {
      "cell_type": "code",
      "metadata": {
        "id": "tgn8E8o1gwAk",
        "colab_type": "code",
        "colab": {}
      },
      "source": [
        "# Use of 'in'\n",
        "stores = ['Starbucks', 'Chick-fil-A', 'The Pub', 'Panda Express', 'IHOP']\n",
        "\n",
        "for store in stores:\n",
        "    print(store)\n",
        "print('This is all UTD store')"
      ],
      "execution_count": null,
      "outputs": []
    },
    {
      "cell_type": "code",
      "metadata": {
        "id": "M9cArnDslMiI",
        "colab_type": "code",
        "colab": {}
      },
      "source": [
        "''' \n",
        "Print all odd number from 1 to 10\n",
        "'''\n",
        "\n",
        "for i in range(1, 10, 2):\n",
        "  print(i)"
      ],
      "execution_count": null,
      "outputs": []
    },
    {
      "cell_type": "code",
      "metadata": {
        "id": "TfwuoHWXjuYQ",
        "colab_type": "code",
        "colab": {}
      },
      "source": [
        "# Use of enumerate\n",
        "\n",
        "stores = ['Starbucks', 'Chick-fil-A', 'The Pub', 'Panda Express', 'IHOP']\n",
        "\n",
        "print(\"\\n--Without specifying starting point--\\n\")\n",
        "for id, store in enumerate(stores):\n",
        "  print(\"#\" + str(id) + \" \" + store)\n",
        "\n",
        "\n",
        "print(\"\\n--Starting point specified --\\n\")\n",
        "for id, store in enumerate(stores,2):\n",
        "  print(\"#\" + str(id) + \" \" + store)"
      ],
      "execution_count": null,
      "outputs": []
    },
    {
      "cell_type": "markdown",
      "metadata": {
        "id": "QfqtNDMDdZr3",
        "colab_type": "text"
      },
      "source": [
        "## **Free Resources**\n",
        "\n",
        "1.  https://www.python.org/doc/ \n",
        "2.  https://www.w3schools.com/python/\n",
        "3.  https://www.udacity.com/course/introduction-to-python--ud1110\n",
        "\n"
      ]
    }
  ]
}