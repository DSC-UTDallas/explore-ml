{
  "nbformat": 4,
  "nbformat_minor": 0,
  "metadata": {
    "colab": {
      "name": "scikitlearn.ipynb",
      "provenance": [],
      "collapsed_sections": []
    },
    "kernelspec": {
      "name": "python3",
      "display_name": "Python 3"
    }
  },
  "cells": [
    {
      "cell_type": "markdown",
      "metadata": {
        "id": "hEhb1HcAijZU",
        "colab_type": "text"
      },
      "source": [
        "#**Scikit Learn**\n",
        "Scikit-learn (Sklearn) is the most useful and robust library for machine learning in Python. It provides a selection of efficient tools for machine learning and statistical modeling including classification, regression, clustering and dimensionality reduction via a consistent interface in Python. This library, which is largely written in Python, is built upon NumPy, SciPy and Matplotlib.\n",
        "Today we are looking at 3 basic things utilizing sklearn:\n",
        "*   Loading data sets\n",
        "*   Creating and training models\n",
        "*   Saving these models\n",
        "*   There's a sample program which you can look at to understand the bigger picture\n",
        "\n",
        "\n"
      ]
    },
    {
      "cell_type": "markdown",
      "metadata": {
        "id": "XpN1-QdwKx-W",
        "colab_type": "text"
      },
      "source": [
        "\n",
        "# **Types of Data Analysis using Scikitlearn:**\n",
        "  *   Classification\n",
        "      *   SVMs\n",
        "      *   Random Forest Classifiers\n",
        "  *   Regression\n",
        "      *   Least Squares and Loss Function\n",
        "      *   Random Forest Classifiers\n",
        "  *   Clustering\n",
        "      *   Automatic grouping of similar objects into sets\n",
        "      *   Ex: Amazon product references\n",
        "  *   Dimensionality\n",
        "      *   Reducing the number of random variables to consider\n",
        "      *   Random Forest Classifiers\n",
        "  *   Model Selection\n",
        "      *   SVMs\n",
        "      *   Random Forest Classifiers\n",
        "  *   Preprocessing\n",
        "      *   Feature extraction and normalization\n",
        "      *   Transforming input data such as text for use with machine learning algorithms"
      ]
    },
    {
      "cell_type": "markdown",
      "metadata": {
        "id": "6Ha11ZOgUBni",
        "colab_type": "text"
      },
      "source": [
        "#**Loading an example dataset**"
      ]
    },
    {
      "cell_type": "code",
      "metadata": {
        "id": "4Fi33OUEUNto",
        "colab_type": "code",
        "colab": {}
      },
      "source": [
        "from sklearn import datasets     #this imports the dataset library from SciKitlearn\n",
        "digits = datasets.load_digits()  #the datasets library has many sets of data, and one of them is the digits dataset. the load_digits() function helps load the entire dataset for use later on"
      ],
      "execution_count": null,
      "outputs": []
    },
    {
      "cell_type": "markdown",
      "metadata": {
        "id": "9D-RONsV8CWU",
        "colab_type": "text"
      },
      "source": [
        "#**Representing the Data on a Plot**"
      ]
    },
    {
      "cell_type": "code",
      "metadata": {
        "id": "pxkUKqyx8Lac",
        "colab_type": "code",
        "colab": {
          "base_uri": "https://localhost:8080/",
          "height": 275
        },
        "outputId": "042ac795-8e91-423e-a73d-f4fa94cf2e34"
      },
      "source": [
        "import matplotlib.pyplot as plt  #we utilize matplot in order to graphically represent the images which otherwise would be represented in the form of numbers\n",
        "#plt.gray()                      #This is optional, it grays out the graph so the image appears in black and white, Try running the code with and without the comment \n",
        "plt.matshow(digits.images[1796]) #by this we are adding the last image in the data set to the graph\n",
        "plt.show()                       #This outputs the graph s we can see it, as you can see, each image is 8x8 pixels"
      ],
      "execution_count": null,
      "outputs": [
        {
          "output_type": "display_data",
          "data": {
            "image/png": "[encoded data removed]",
            "text/plain": [
              "<Figure size 288x288 with 1 Axes>"
            ]
          },
          "metadata": {
            "tags": [],
            "needs_background": "light"
          }
        }
      ]
    },
    {
      "cell_type": "markdown",
      "metadata": {
        "id": "OAgVXOcwWxlZ",
        "colab_type": "text"
      },
      "source": [
        "#**Learning and Predicting**\n",
        "SVMs: SVM is a supervised machine learning algorithm which can be used for classification or regression problems."
      ]
    },
    {
      "cell_type": "code",
      "metadata": {
        "id": "p-LMjwt6q2D1",
        "colab_type": "code",
        "colab": {
          "base_uri": "https://localhost:8080/",
          "height": 34
        },
        "outputId": "dcc413e9-1792-41b1-c908-186232ea6ecc"
      },
      "source": [
        "from sklearn import svm  #again, we are import a Support Vector machine classification model, Check the trackIT for more information on SVMs\n",
        "clf = svm.SVC(gamma=0.001, C=100.)     # these are manually set hyperparameter values, usually values are set based on cross validation\n",
        "clf.fit(digits.data[:-1], digits.target[:-1]) #array that contains all but last items\n",
        "clf.predict(digits.data[-1:]) #the last image is the test image\n"
      ],
      "execution_count": null,
      "outputs": [
        {
          "output_type": "execute_result",
          "data": {
            "text/plain": [
              "array([8])"
            ]
          },
          "metadata": {
            "tags": []
          },
          "execution_count": 25
        }
      ]
    },
    {
      "cell_type": "markdown",
      "metadata": {
        "id": "SzmYNtnx5dNg",
        "colab_type": "text"
      },
      "source": [
        "# **Model Persistence**\n",
        "  We can also store the model with pickle files.\n",
        "  \n",
        "   Pickle files are primarily used in serializing and deserializing a Python object structure. In other words, it's the process of converting a Python object into a byte stream to store it in a file/database, maintain program state across sessions, or transport data over the network."
      ]
    },
    {
      "cell_type": "code",
      "metadata": {
        "id": "QHstnaN-5ojV",
        "colab_type": "code",
        "colab": {
          "base_uri": "https://localhost:8080/",
          "height": 34
        },
        "outputId": "c822dbf5-fe2c-4116-fbc8-a16b44be6f5f"
      },
      "source": [
        "import pickle                        #pickle is a tool used to convert data in python\n",
        "s = pickle.dumps(clf)            # the dump function stores the model we trained as a pickle file in s\n",
        "clf2 = pickle.loads(s)           # loading back the model onto another placeholder\n",
        "clf2.predict(digits.data[-1:])   #we can agai use the model to test images just like before"
      ],
      "execution_count": null,
      "outputs": [
        {
          "output_type": "execute_result",
          "data": {
            "text/plain": [
              "array([8])"
            ]
          },
          "metadata": {
            "tags": []
          },
          "execution_count": 19
        }
      ]
    },
    {
      "cell_type": "markdown",
      "metadata": {
        "id": "-QXMBQiRUpqk",
        "colab_type": "text"
      },
      "source": [
        ""
      ]
    },
    {
      "cell_type": "markdown",
      "metadata": {
        "id": "pHAeTPaLM33t",
        "colab_type": "text"
      },
      "source": [
        "# **Recognizing hand-written digits:**\n",
        "\n",
        "An example showing how the scikit-learn can be used to recognize images of hand-written digits."
      ]
    },
    {
      "cell_type": "code",
      "metadata": {
        "id": "UXKrVADoK1Vh",
        "colab_type": "code",
        "colab": {}
      },
      "source": [
        "import matplotlib.pyplot as plt\n",
        "\n",
        "# Import datasets, classifiers and performance metrics\n",
        "from sklearn import datasets, svm\n",
        "from sklearn.model_selection import train_test_split\n",
        "\n",
        "# The digits dataset\n",
        "digits = datasets.load_digits()\n"
      ],
      "execution_count": null,
      "outputs": []
    },
    {
      "cell_type": "markdown",
      "metadata": {
        "id": "wq_DKfa7Y8S5",
        "colab_type": "text"
      },
      "source": [
        "# Reshaping the data to train the model"
      ]
    },
    {
      "cell_type": "code",
      "metadata": {
        "id": "CbmopoLeZLce",
        "colab_type": "code",
        "colab": {}
      },
      "source": [
        "# To apply a classifier on this data, we need to flatten the image, to\n",
        "# turn the data in a (samples, feature) matrix:\n",
        "n_samples = len(digits.images)  #stores the number of images\n",
        "data = digits.images.reshape((n_samples, 64)) #reshapes the array such that the classifier can be applied to the data"
      ],
      "execution_count": null,
      "outputs": []
    },
    {
      "cell_type": "markdown",
      "metadata": {
        "id": "VLMHcxBdgCU7",
        "colab_type": "text"
      },
      "source": [
        "#Creating a classifier"
      ]
    },
    {
      "cell_type": "code",
      "metadata": {
        "id": "1c3ZD4aOgIwj",
        "colab_type": "code",
        "colab": {}
      },
      "source": [
        "# Create a classifier: a support vector classifier\n",
        "classifier = svm.SVC(gamma=0.001)  # hyperparameters are manually defined but you can choose to define them"
      ],
      "execution_count": null,
      "outputs": []
    },
    {
      "cell_type": "markdown",
      "metadata": {
        "id": "fPtXWrieg2Su",
        "colab_type": "text"
      },
      "source": [
        "#Splitting the Data"
      ]
    },
    {
      "cell_type": "code",
      "metadata": {
        "id": "t6xRsWtahYjx",
        "colab_type": "code",
        "colab": {
          "base_uri": "https://localhost:8080/",
          "height": 442
        },
        "outputId": "09fa5634-029d-4633-e614-9aa8fc82b771"
      },
      "source": [
        "# Split data into train and test subsets\n",
        "X_train, X_test, y_train, y_test = train_test_split(\n",
        "    data, digits.target, test_size=0.5, shuffle=False) #half the data is for training, half is for testing, shuffle=false, means thta there is no shuffling of data before splitting\n",
        "print(y_test) # if you want to check if the model predicts correctly, you can check this set below with the output on the next code snippet"
      ],
      "execution_count": null,
      "outputs": [
        {
          "output_type": "stream",
          "text": [
            "[8 8 4 9 0 8 9 8 1 2 3 4 5 6 7 8 9 0 1 2 3 4 5 6 7 8 9 0 1 2 3 4 5 6 7 8 9\n",
            " 0 9 5 5 6 5 0 9 8 9 8 4 1 7 7 3 5 1 2 7 8 2 0 1 2 6 3 3 7 3 3 4 6 6 6 4 9\n",
            " 1 5 0 9 5 2 8 2 0 0 1 7 6 3 2 1 4 6 3 1 3 9 1 7 6 8 4 3 1 4 0 5 3 6 9 6 1\n",
            " 7 5 4 4 7 2 8 2 2 5 7 9 5 4 4 9 0 8 9 8 0 1 2 3 4 5 6 7 8 9 0 1 2 3 4 5 6\n",
            " 7 8 9 0 1 2 3 4 5 6 7 8 9 0 9 5 5 6 5 0 9 8 9 8 4 1 7 7 3 5 1 0 0 7 8 2 0\n",
            " 1 2 6 3 3 7 3 3 4 6 6 6 4 9 1 5 0 9 5 2 8 2 0 0 1 7 6 3 2 1 7 4 6 3 1 3 9\n",
            " 1 7 6 8 4 3 1 4 0 5 3 6 9 6 1 7 5 4 4 7 2 8 2 2 5 7 9 5 4 8 8 4 9 0 8 9 8\n",
            " 0 1 2 3 4 5 6 7 8 9 0 1 2 3 4 5 6 7 8 9 0 1 2 3 4 5 6 7 8 9 0 9 5 5 6 5 0\n",
            " 9 8 9 8 4 1 7 7 3 5 1 0 0 2 2 7 8 2 0 1 2 6 3 3 7 3 3 4 6 6 6 4 9 1 5 0 9\n",
            " 5 2 8 2 0 0 1 7 6 3 2 1 7 4 6 3 1 3 9 1 7 6 8 4 3 1 4 0 5 3 6 9 6 1 7 5 4\n",
            " 4 7 2 8 2 2 5 7 9 5 4 8 8 4 9 0 8 9 8 0 1 2 3 4 5 6 7 8 9 0 1 2 3 4 5 6 7\n",
            " 8 9 0 1 2 3 4 5 6 7 8 9 0 9 5 5 6 5 0 9 8 9 8 4 1 7 7 3 5 1 0 0 2 2 7 8 2\n",
            " 0 1 2 6 3 3 7 3 3 4 6 6 6 4 9 1 5 0 9 5 2 8 2 0 0 1 7 6 3 2 1 7 4 6 3 1 3\n",
            " 9 1 7 6 8 4 3 1 4 0 5 3 6 9 6 1 7 5 4 4 7 2 8 2 2 5 7 9 5 4 8 8 4 9 0 8 0\n",
            " 1 2 3 4 5 6 7 8 9 0 1 2 3 4 5 6 7 8 9 0 1 2 3 4 5 6 7 8 9 0 9 5 5 6 5 0 9\n",
            " 8 9 8 4 1 7 7 3 5 1 0 0 2 2 7 8 2 0 1 2 6 3 3 7 3 3 4 6 6 6 4 9 1 5 0 9 5\n",
            " 2 8 2 0 0 1 7 6 3 2 1 7 4 6 3 1 3 9 1 7 6 8 4 3 1 4 0 5 3 6 9 6 1 7 5 4 4\n",
            " 7 2 8 2 2 5 7 9 5 4 8 8 4 9 0 8 9 8 0 1 2 3 4 5 6 7 8 9 0 1 2 3 4 5 6 9 0\n",
            " 1 2 3 4 5 6 7 8 9 0 9 5 5 6 5 0 9 8 9 8 4 1 7 7 3 5 1 0 0 2 2 7 8 2 0 1 2\n",
            " 6 3 3 7 3 3 4 6 6 6 4 9 1 5 0 9 5 2 8 0 1 7 6 3 2 1 7 4 6 3 1 3 9 1 7 6 8\n",
            " 4 3 1 4 0 5 3 6 9 6 1 7 5 4 4 7 2 2 5 7 9 5 4 4 9 0 8 9 8 0 1 2 3 4 5 6 7\n",
            " 8 9 0 1 2 3 4 5 6 7 8 9 0 1 2 3 4 5 6 7 8 9 0 9 5 5 6 5 0 9 8 9 8 4 1 7 7\n",
            " 3 5 1 0 0 2 2 7 8 2 0 1 2 6 3 3 7 3 3 4 6 6 6 4 9 1 5 0 9 5 2 8 2 0 0 1 7\n",
            " 6 3 2 1 7 4 6 3 1 3 9 1 7 6 8 4 3 1 4 0 5 3 6 9 6 1 7 5 4 4 7 2 8 2 2 5 7\n",
            " 9 5 4 8 8 4 9 0 8 9 8]\n"
          ],
          "name": "stdout"
        }
      ]
    },
    {
      "cell_type": "markdown",
      "metadata": {
        "id": "-wqmKuH1h15S",
        "colab_type": "text"
      },
      "source": [
        "#Training and Testing"
      ]
    },
    {
      "cell_type": "code",
      "metadata": {
        "id": "NyU0-8Qbh6MM",
        "colab_type": "code",
        "colab": {
          "base_uri": "https://localhost:8080/",
          "height": 292
        },
        "outputId": "5cc9a112-31eb-47b9-dd14-59ff47cb067c"
      },
      "source": [
        "# We learn the digits on the first half of the digits\n",
        "classifier.fit(X_train, y_train) #the model is now trained and ready for testing\n",
        "\n",
        "# Now predict the value of the digit on the second half:\n",
        "predicted = classifier.predict(X_test) # we test the second half of the data and store it into predicted \n",
        "print(predicted[-2]) #You can check for other elements in the second half of the set by plugging -1,-3 etc and checking with the image below\n",
        "plt.matshow(digits.images[-2]) #by this we are adding the last image in the data set to the graph\n",
        "plt.show()"
      ],
      "execution_count": null,
      "outputs": [
        {
          "output_type": "stream",
          "text": [
            "9\n"
          ],
          "name": "stdout"
        },
        {
          "output_type": "display_data",
          "data": {
            "image/png": "[encoded data removed]",
            "text/plain": [
              "<Figure size 288x288 with 1 Axes>"
            ]
          },
          "metadata": {
            "tags": [],
            "needs_background": "light"
          }
        }
      ]
    }
  ]
}